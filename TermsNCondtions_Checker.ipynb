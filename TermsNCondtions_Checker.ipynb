{
  "nbformat": 4,
  "nbformat_minor": 0,
  "metadata": {
    "colab": {
      "name": "TermsNCondtions_Checker.ipynb",
      "provenance": [],
      "collapsed_sections": [],
      "toc_visible": true
    },
    "kernelspec": {
      "name": "python3",
      "display_name": "Python 3"
    },
    "language_info": {
      "name": "python"
    },
    "accelerator": "GPU",
    "gpuClass": "standard"
  },
  "cells": [
    {
      "cell_type": "markdown",
      "source": [
        "# Importing Dataset"
      ],
      "metadata": {
        "id": "efVCjZb1io6G"
      }
    },
    {
      "cell_type": "code",
      "execution_count": null,
      "metadata": {
        "colab": {
          "resources": {
            "http://localhost:8080/nbextensions/google.colab/files.js": {
              "data": "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",
              "ok": true,
              "headers": [
                [
                  "content-type",
                  "application/javascript"
                ]
              ],
              "status": 200,
              "status_text": ""
            }
          },
          "base_uri": "https://localhost:8080/",
          "height": 73
        },
        "id": "fVOTC-CsaD65",
        "outputId": "62798001-d84c-45d1-dc5d-3815daf751e7"
      },
      "outputs": [
        {
          "output_type": "display_data",
          "data": {
            "text/plain": [
              "<IPython.core.display.HTML object>"
            ],
            "text/html": [
              "\n",
              "     <input type=\"file\" id=\"files-d17a7ea4-201d-4f81-a95f-438e48eb6e35\" name=\"files[]\" multiple disabled\n",
              "        style=\"border:none\" />\n",
              "     <output id=\"result-d17a7ea4-201d-4f81-a95f-438e48eb6e35\">\n",
              "      Upload widget is only available when the cell has been executed in the\n",
              "      current browser session. Please rerun this cell to enable.\n",
              "      </output>\n",
              "      <script src=\"/nbextensions/google.colab/files.js\"></script> "
            ]
          },
          "metadata": {}
        },
        {
          "output_type": "stream",
          "name": "stdout",
          "text": [
            "Saving TermsNConditons_Dataset - Sheet1 (7).csv to TermsNConditons_Dataset - Sheet1 (7).csv\n"
          ]
        }
      ],
      "source": [
        "from google.colab import files\n",
        "uploaded = files.upload()"
      ]
    },
    {
      "cell_type": "code",
      "source": [
        "import pandas as pd"
      ],
      "metadata": {
        "id": "r3h3OPFFcBWa"
      },
      "execution_count": null,
      "outputs": []
    },
    {
      "cell_type": "code",
      "source": [
        "import io\n",
        "df = pd.read_csv(io.BytesIO(uploaded['TermsNConditons_Dataset - Sheet1 (7).csv']))"
      ],
      "metadata": {
        "id": "uEofpgBYcBZK"
      },
      "execution_count": null,
      "outputs": []
    },
    {
      "cell_type": "code",
      "source": [
        "df"
      ],
      "metadata": {
        "colab": {
          "base_uri": "https://localhost:8080/",
          "height": 641
        },
        "id": "FeOfqnPrcK6I",
        "outputId": "4643cf68-81ce-42b9-e3aa-4b702abcdbb9"
      },
      "execution_count": null,
      "outputs": [
        {
          "output_type": "execute_result",
          "data": {
            "text/plain": [
              "     Organization                               Terms and conditions  \\\n",
              "0        Facebook  Facebook stores your data whether you have an ...   \n",
              "1        Facebook  Your identity is used in ads that are shown to...   \n",
              "2        Facebook        The service can read your private messages    \n",
              "3        Facebook         This service can view your browser history   \n",
              "4        Facebook              Deleted content is not really deleted   \n",
              "...           ...                                                ...   \n",
              "1065       Yahoo!  The service provider makes no warranty regardi...   \n",
              "1066       Yahoo!  This service assumes no liability for unauthor...   \n",
              "1067       Yahoo!  The service uses your personal data for advert...   \n",
              "1068       Yahoo!  This service retains rights to your content ev...   \n",
              "1069       Yahoo!  Any liability on behalf of the service is only...   \n",
              "\n",
              "                                         Original Terms  Score Privacy grade  \n",
              "0     Facebook uses cookies and receives information...    2.0       Grade E  \n",
              "1     You give us permission to use your name and pr...    2.0           NaN  \n",
              "2     Our systems automatically process content and ...    2.0           NaN  \n",
              "3     You can review your Off-Facebook activity, whi...    2.0           NaN  \n",
              "4     The terms state: \"In addition, content you del...    2.0           NaN  \n",
              "...                                                 ...    ...           ...  \n",
              "1065  WE DO NOT REPRESENT, PROMISE, OR WARRANT THAT ...    1.0           NaN  \n",
              "1066  THE UNAUTHORIZED ACCESS TO YOUR ACCOUNT OR ANY...    1.0           NaN  \n",
              "1067  Provide location-based Services, advertising, ...    1.0           NaN  \n",
              "1068                                         perpetual,    1.0           NaN  \n",
              "1069  TO THE FULLEST EXTENT PERMITTED BY LAW AND EXC...    1.0           NaN  \n",
              "\n",
              "[1070 rows x 5 columns]"
            ],
            "text/html": [
              "\n",
              "  <div id=\"df-2d5707c5-850b-48a5-8669-79c0d0665d67\">\n",
              "    <div class=\"colab-df-container\">\n",
              "      <div>\n",
              "<style scoped>\n",
              "    .dataframe tbody tr th:only-of-type {\n",
              "        vertical-align: middle;\n",
              "    }\n",
              "\n",
              "    .dataframe tbody tr th {\n",
              "        vertical-align: top;\n",
              "    }\n",
              "\n",
              "    .dataframe thead th {\n",
              "        text-align: right;\n",
              "    }\n",
              "</style>\n",
              "<table border=\"1\" class=\"dataframe\">\n",
              "  <thead>\n",
              "    <tr style=\"text-align: right;\">\n",
              "      <th></th>\n",
              "      <th>Organization</th>\n",
              "      <th>Terms and conditions</th>\n",
              "      <th>Original Terms</th>\n",
              "      <th>Score</th>\n",
              "      <th>Privacy grade</th>\n",
              "    </tr>\n",
              "  </thead>\n",
              "  <tbody>\n",
              "    <tr>\n",
              "      <th>0</th>\n",
              "      <td>Facebook</td>\n",
              "      <td>Facebook stores your data whether you have an ...</td>\n",
              "      <td>Facebook uses cookies and receives information...</td>\n",
              "      <td>2.0</td>\n",
              "      <td>Grade E</td>\n",
              "    </tr>\n",
              "    <tr>\n",
              "      <th>1</th>\n",
              "      <td>Facebook</td>\n",
              "      <td>Your identity is used in ads that are shown to...</td>\n",
              "      <td>You give us permission to use your name and pr...</td>\n",
              "      <td>2.0</td>\n",
              "      <td>NaN</td>\n",
              "    </tr>\n",
              "    <tr>\n",
              "      <th>2</th>\n",
              "      <td>Facebook</td>\n",
              "      <td>The service can read your private messages</td>\n",
              "      <td>Our systems automatically process content and ...</td>\n",
              "      <td>2.0</td>\n",
              "      <td>NaN</td>\n",
              "    </tr>\n",
              "    <tr>\n",
              "      <th>3</th>\n",
              "      <td>Facebook</td>\n",
              "      <td>This service can view your browser history</td>\n",
              "      <td>You can review your Off-Facebook activity, whi...</td>\n",
              "      <td>2.0</td>\n",
              "      <td>NaN</td>\n",
              "    </tr>\n",
              "    <tr>\n",
              "      <th>4</th>\n",
              "      <td>Facebook</td>\n",
              "      <td>Deleted content is not really deleted</td>\n",
              "      <td>The terms state: \"In addition, content you del...</td>\n",
              "      <td>2.0</td>\n",
              "      <td>NaN</td>\n",
              "    </tr>\n",
              "    <tr>\n",
              "      <th>...</th>\n",
              "      <td>...</td>\n",
              "      <td>...</td>\n",
              "      <td>...</td>\n",
              "      <td>...</td>\n",
              "      <td>...</td>\n",
              "    </tr>\n",
              "    <tr>\n",
              "      <th>1065</th>\n",
              "      <td>Yahoo!</td>\n",
              "      <td>The service provider makes no warranty regardi...</td>\n",
              "      <td>WE DO NOT REPRESENT, PROMISE, OR WARRANT THAT ...</td>\n",
              "      <td>1.0</td>\n",
              "      <td>NaN</td>\n",
              "    </tr>\n",
              "    <tr>\n",
              "      <th>1066</th>\n",
              "      <td>Yahoo!</td>\n",
              "      <td>This service assumes no liability for unauthor...</td>\n",
              "      <td>THE UNAUTHORIZED ACCESS TO YOUR ACCOUNT OR ANY...</td>\n",
              "      <td>1.0</td>\n",
              "      <td>NaN</td>\n",
              "    </tr>\n",
              "    <tr>\n",
              "      <th>1067</th>\n",
              "      <td>Yahoo!</td>\n",
              "      <td>The service uses your personal data for advert...</td>\n",
              "      <td>Provide location-based Services, advertising, ...</td>\n",
              "      <td>1.0</td>\n",
              "      <td>NaN</td>\n",
              "    </tr>\n",
              "    <tr>\n",
              "      <th>1068</th>\n",
              "      <td>Yahoo!</td>\n",
              "      <td>This service retains rights to your content ev...</td>\n",
              "      <td>perpetual,</td>\n",
              "      <td>1.0</td>\n",
              "      <td>NaN</td>\n",
              "    </tr>\n",
              "    <tr>\n",
              "      <th>1069</th>\n",
              "      <td>Yahoo!</td>\n",
              "      <td>Any liability on behalf of the service is only...</td>\n",
              "      <td>TO THE FULLEST EXTENT PERMITTED BY LAW AND EXC...</td>\n",
              "      <td>1.0</td>\n",
              "      <td>NaN</td>\n",
              "    </tr>\n",
              "  </tbody>\n",
              "</table>\n",
              "<p>1070 rows × 5 columns</p>\n",
              "</div>\n",
              "      <button class=\"colab-df-convert\" onclick=\"convertToInteractive('df-2d5707c5-850b-48a5-8669-79c0d0665d67')\"\n",
              "              title=\"Convert this dataframe to an interactive table.\"\n",
              "              style=\"display:none;\">\n",
              "        \n",
              "  <svg xmlns=\"http://www.w3.org/2000/svg\" height=\"24px\"viewBox=\"0 0 24 24\"\n",
              "       width=\"24px\">\n",
              "    <path d=\"M0 0h24v24H0V0z\" fill=\"none\"/>\n",
              "    <path d=\"M18.56 5.44l.94 2.06.94-2.06 2.06-.94-2.06-.94-.94-2.06-.94 2.06-2.06.94zm-11 1L8.5 8.5l.94-2.06 2.06-.94-2.06-.94L8.5 2.5l-.94 2.06-2.06.94zm10 10l.94 2.06.94-2.06 2.06-.94-2.06-.94-.94-2.06-.94 2.06-2.06.94z\"/><path d=\"M17.41 7.96l-1.37-1.37c-.4-.4-.92-.59-1.43-.59-.52 0-1.04.2-1.43.59L10.3 9.45l-7.72 7.72c-.78.78-.78 2.05 0 2.83L4 21.41c.39.39.9.59 1.41.59.51 0 1.02-.2 1.41-.59l7.78-7.78 2.81-2.81c.8-.78.8-2.07 0-2.86zM5.41 20L4 18.59l7.72-7.72 1.47 1.35L5.41 20z\"/>\n",
              "  </svg>\n",
              "      </button>\n",
              "      \n",
              "  <style>\n",
              "    .colab-df-container {\n",
              "      display:flex;\n",
              "      flex-wrap:wrap;\n",
              "      gap: 12px;\n",
              "    }\n",
              "\n",
              "    .colab-df-convert {\n",
              "      background-color: #E8F0FE;\n",
              "      border: none;\n",
              "      border-radius: 50%;\n",
              "      cursor: pointer;\n",
              "      display: none;\n",
              "      fill: #1967D2;\n",
              "      height: 32px;\n",
              "      padding: 0 0 0 0;\n",
              "      width: 32px;\n",
              "    }\n",
              "\n",
              "    .colab-df-convert:hover {\n",
              "      background-color: #E2EBFA;\n",
              "      box-shadow: 0px 1px 2px rgba(60, 64, 67, 0.3), 0px 1px 3px 1px rgba(60, 64, 67, 0.15);\n",
              "      fill: #174EA6;\n",
              "    }\n",
              "\n",
              "    [theme=dark] .colab-df-convert {\n",
              "      background-color: #3B4455;\n",
              "      fill: #D2E3FC;\n",
              "    }\n",
              "\n",
              "    [theme=dark] .colab-df-convert:hover {\n",
              "      background-color: #434B5C;\n",
              "      box-shadow: 0px 1px 3px 1px rgba(0, 0, 0, 0.15);\n",
              "      filter: drop-shadow(0px 1px 2px rgba(0, 0, 0, 0.3));\n",
              "      fill: #FFFFFF;\n",
              "    }\n",
              "  </style>\n",
              "\n",
              "      <script>\n",
              "        const buttonEl =\n",
              "          document.querySelector('#df-2d5707c5-850b-48a5-8669-79c0d0665d67 button.colab-df-convert');\n",
              "        buttonEl.style.display =\n",
              "          google.colab.kernel.accessAllowed ? 'block' : 'none';\n",
              "\n",
              "        async function convertToInteractive(key) {\n",
              "          const element = document.querySelector('#df-2d5707c5-850b-48a5-8669-79c0d0665d67');\n",
              "          const dataTable =\n",
              "            await google.colab.kernel.invokeFunction('convertToInteractive',\n",
              "                                                     [key], {});\n",
              "          if (!dataTable) return;\n",
              "\n",
              "          const docLinkHtml = 'Like what you see? Visit the ' +\n",
              "            '<a target=\"_blank\" href=https://colab.research.google.com/notebooks/data_table.ipynb>data table notebook</a>'\n",
              "            + ' to learn more about interactive tables.';\n",
              "          element.innerHTML = '';\n",
              "          dataTable['output_type'] = 'display_data';\n",
              "          await google.colab.output.renderOutput(dataTable, element);\n",
              "          const docLink = document.createElement('div');\n",
              "          docLink.innerHTML = docLinkHtml;\n",
              "          element.appendChild(docLink);\n",
              "        }\n",
              "      </script>\n",
              "    </div>\n",
              "  </div>\n",
              "  "
            ]
          },
          "metadata": {},
          "execution_count": 4
        }
      ]
    },
    {
      "cell_type": "markdown",
      "source": [
        "# Data Cleaning"
      ],
      "metadata": {
        "id": "e9f2QZUIiwY5"
      }
    },
    {
      "cell_type": "code",
      "source": [
        "df.drop(['Organization','Privacy grade'],axis=1,inplace=True)"
      ],
      "metadata": {
        "id": "lhuS4f5jcBcB"
      },
      "execution_count": null,
      "outputs": []
    },
    {
      "cell_type": "code",
      "source": [
        "df"
      ],
      "metadata": {
        "colab": {
          "base_uri": "https://localhost:8080/",
          "height": 468
        },
        "id": "Xe-6bdiHcBep",
        "outputId": "4a262cd6-f82d-4eaf-890b-145a9987d1f1"
      },
      "execution_count": null,
      "outputs": [
        {
          "output_type": "execute_result",
          "data": {
            "text/plain": [
              "                                   Terms and conditions  \\\n",
              "0     Facebook stores your data whether you have an ...   \n",
              "1     Your identity is used in ads that are shown to...   \n",
              "2           The service can read your private messages    \n",
              "3            This service can view your browser history   \n",
              "4                 Deleted content is not really deleted   \n",
              "...                                                 ...   \n",
              "1065  The service provider makes no warranty regardi...   \n",
              "1066  This service assumes no liability for unauthor...   \n",
              "1067  The service uses your personal data for advert...   \n",
              "1068  This service retains rights to your content ev...   \n",
              "1069  Any liability on behalf of the service is only...   \n",
              "\n",
              "                                         Original Terms  Score  \n",
              "0     Facebook uses cookies and receives information...    2.0  \n",
              "1     You give us permission to use your name and pr...    2.0  \n",
              "2     Our systems automatically process content and ...    2.0  \n",
              "3     You can review your Off-Facebook activity, whi...    2.0  \n",
              "4     The terms state: \"In addition, content you del...    2.0  \n",
              "...                                                 ...    ...  \n",
              "1065  WE DO NOT REPRESENT, PROMISE, OR WARRANT THAT ...    1.0  \n",
              "1066  THE UNAUTHORIZED ACCESS TO YOUR ACCOUNT OR ANY...    1.0  \n",
              "1067  Provide location-based Services, advertising, ...    1.0  \n",
              "1068                                         perpetual,    1.0  \n",
              "1069  TO THE FULLEST EXTENT PERMITTED BY LAW AND EXC...    1.0  \n",
              "\n",
              "[1070 rows x 3 columns]"
            ],
            "text/html": [
              "\n",
              "  <div id=\"df-774e7939-a290-4bde-8ea2-f2f5336e8844\">\n",
              "    <div class=\"colab-df-container\">\n",
              "      <div>\n",
              "<style scoped>\n",
              "    .dataframe tbody tr th:only-of-type {\n",
              "        vertical-align: middle;\n",
              "    }\n",
              "\n",
              "    .dataframe tbody tr th {\n",
              "        vertical-align: top;\n",
              "    }\n",
              "\n",
              "    .dataframe thead th {\n",
              "        text-align: right;\n",
              "    }\n",
              "</style>\n",
              "<table border=\"1\" class=\"dataframe\">\n",
              "  <thead>\n",
              "    <tr style=\"text-align: right;\">\n",
              "      <th></th>\n",
              "      <th>Terms and conditions</th>\n",
              "      <th>Original Terms</th>\n",
              "      <th>Score</th>\n",
              "    </tr>\n",
              "  </thead>\n",
              "  <tbody>\n",
              "    <tr>\n",
              "      <th>0</th>\n",
              "      <td>Facebook stores your data whether you have an ...</td>\n",
              "      <td>Facebook uses cookies and receives information...</td>\n",
              "      <td>2.0</td>\n",
              "    </tr>\n",
              "    <tr>\n",
              "      <th>1</th>\n",
              "      <td>Your identity is used in ads that are shown to...</td>\n",
              "      <td>You give us permission to use your name and pr...</td>\n",
              "      <td>2.0</td>\n",
              "    </tr>\n",
              "    <tr>\n",
              "      <th>2</th>\n",
              "      <td>The service can read your private messages</td>\n",
              "      <td>Our systems automatically process content and ...</td>\n",
              "      <td>2.0</td>\n",
              "    </tr>\n",
              "    <tr>\n",
              "      <th>3</th>\n",
              "      <td>This service can view your browser history</td>\n",
              "      <td>You can review your Off-Facebook activity, whi...</td>\n",
              "      <td>2.0</td>\n",
              "    </tr>\n",
              "    <tr>\n",
              "      <th>4</th>\n",
              "      <td>Deleted content is not really deleted</td>\n",
              "      <td>The terms state: \"In addition, content you del...</td>\n",
              "      <td>2.0</td>\n",
              "    </tr>\n",
              "    <tr>\n",
              "      <th>...</th>\n",
              "      <td>...</td>\n",
              "      <td>...</td>\n",
              "      <td>...</td>\n",
              "    </tr>\n",
              "    <tr>\n",
              "      <th>1065</th>\n",
              "      <td>The service provider makes no warranty regardi...</td>\n",
              "      <td>WE DO NOT REPRESENT, PROMISE, OR WARRANT THAT ...</td>\n",
              "      <td>1.0</td>\n",
              "    </tr>\n",
              "    <tr>\n",
              "      <th>1066</th>\n",
              "      <td>This service assumes no liability for unauthor...</td>\n",
              "      <td>THE UNAUTHORIZED ACCESS TO YOUR ACCOUNT OR ANY...</td>\n",
              "      <td>1.0</td>\n",
              "    </tr>\n",
              "    <tr>\n",
              "      <th>1067</th>\n",
              "      <td>The service uses your personal data for advert...</td>\n",
              "      <td>Provide location-based Services, advertising, ...</td>\n",
              "      <td>1.0</td>\n",
              "    </tr>\n",
              "    <tr>\n",
              "      <th>1068</th>\n",
              "      <td>This service retains rights to your content ev...</td>\n",
              "      <td>perpetual,</td>\n",
              "      <td>1.0</td>\n",
              "    </tr>\n",
              "    <tr>\n",
              "      <th>1069</th>\n",
              "      <td>Any liability on behalf of the service is only...</td>\n",
              "      <td>TO THE FULLEST EXTENT PERMITTED BY LAW AND EXC...</td>\n",
              "      <td>1.0</td>\n",
              "    </tr>\n",
              "  </tbody>\n",
              "</table>\n",
              "<p>1070 rows × 3 columns</p>\n",
              "</div>\n",
              "      <button class=\"colab-df-convert\" onclick=\"convertToInteractive('df-774e7939-a290-4bde-8ea2-f2f5336e8844')\"\n",
              "              title=\"Convert this dataframe to an interactive table.\"\n",
              "              style=\"display:none;\">\n",
              "        \n",
              "  <svg xmlns=\"http://www.w3.org/2000/svg\" height=\"24px\"viewBox=\"0 0 24 24\"\n",
              "       width=\"24px\">\n",
              "    <path d=\"M0 0h24v24H0V0z\" fill=\"none\"/>\n",
              "    <path d=\"M18.56 5.44l.94 2.06.94-2.06 2.06-.94-2.06-.94-.94-2.06-.94 2.06-2.06.94zm-11 1L8.5 8.5l.94-2.06 2.06-.94-2.06-.94L8.5 2.5l-.94 2.06-2.06.94zm10 10l.94 2.06.94-2.06 2.06-.94-2.06-.94-.94-2.06-.94 2.06-2.06.94z\"/><path d=\"M17.41 7.96l-1.37-1.37c-.4-.4-.92-.59-1.43-.59-.52 0-1.04.2-1.43.59L10.3 9.45l-7.72 7.72c-.78.78-.78 2.05 0 2.83L4 21.41c.39.39.9.59 1.41.59.51 0 1.02-.2 1.41-.59l7.78-7.78 2.81-2.81c.8-.78.8-2.07 0-2.86zM5.41 20L4 18.59l7.72-7.72 1.47 1.35L5.41 20z\"/>\n",
              "  </svg>\n",
              "      </button>\n",
              "      \n",
              "  <style>\n",
              "    .colab-df-container {\n",
              "      display:flex;\n",
              "      flex-wrap:wrap;\n",
              "      gap: 12px;\n",
              "    }\n",
              "\n",
              "    .colab-df-convert {\n",
              "      background-color: #E8F0FE;\n",
              "      border: none;\n",
              "      border-radius: 50%;\n",
              "      cursor: pointer;\n",
              "      display: none;\n",
              "      fill: #1967D2;\n",
              "      height: 32px;\n",
              "      padding: 0 0 0 0;\n",
              "      width: 32px;\n",
              "    }\n",
              "\n",
              "    .colab-df-convert:hover {\n",
              "      background-color: #E2EBFA;\n",
              "      box-shadow: 0px 1px 2px rgba(60, 64, 67, 0.3), 0px 1px 3px 1px rgba(60, 64, 67, 0.15);\n",
              "      fill: #174EA6;\n",
              "    }\n",
              "\n",
              "    [theme=dark] .colab-df-convert {\n",
              "      background-color: #3B4455;\n",
              "      fill: #D2E3FC;\n",
              "    }\n",
              "\n",
              "    [theme=dark] .colab-df-convert:hover {\n",
              "      background-color: #434B5C;\n",
              "      box-shadow: 0px 1px 3px 1px rgba(0, 0, 0, 0.15);\n",
              "      filter: drop-shadow(0px 1px 2px rgba(0, 0, 0, 0.3));\n",
              "      fill: #FFFFFF;\n",
              "    }\n",
              "  </style>\n",
              "\n",
              "      <script>\n",
              "        const buttonEl =\n",
              "          document.querySelector('#df-774e7939-a290-4bde-8ea2-f2f5336e8844 button.colab-df-convert');\n",
              "        buttonEl.style.display =\n",
              "          google.colab.kernel.accessAllowed ? 'block' : 'none';\n",
              "\n",
              "        async function convertToInteractive(key) {\n",
              "          const element = document.querySelector('#df-774e7939-a290-4bde-8ea2-f2f5336e8844');\n",
              "          const dataTable =\n",
              "            await google.colab.kernel.invokeFunction('convertToInteractive',\n",
              "                                                     [key], {});\n",
              "          if (!dataTable) return;\n",
              "\n",
              "          const docLinkHtml = 'Like what you see? Visit the ' +\n",
              "            '<a target=\"_blank\" href=https://colab.research.google.com/notebooks/data_table.ipynb>data table notebook</a>'\n",
              "            + ' to learn more about interactive tables.';\n",
              "          element.innerHTML = '';\n",
              "          dataTable['output_type'] = 'display_data';\n",
              "          await google.colab.output.renderOutput(dataTable, element);\n",
              "          const docLink = document.createElement('div');\n",
              "          docLink.innerHTML = docLinkHtml;\n",
              "          element.appendChild(docLink);\n",
              "        }\n",
              "      </script>\n",
              "    </div>\n",
              "  </div>\n",
              "  "
            ]
          },
          "metadata": {},
          "execution_count": 6
        }
      ]
    },
    {
      "cell_type": "code",
      "source": [
        "df.drop(['Terms and conditions'], axis=1, inplace=True)"
      ],
      "metadata": {
        "id": "lhuN_aA0cBhP"
      },
      "execution_count": null,
      "outputs": []
    },
    {
      "cell_type": "code",
      "source": [
        "df"
      ],
      "metadata": {
        "colab": {
          "base_uri": "https://localhost:8080/",
          "height": 424
        },
        "id": "VyJnCqQucBj3",
        "outputId": "f5f6a8be-028d-4bc4-ac78-06510417d7bf"
      },
      "execution_count": null,
      "outputs": [
        {
          "output_type": "execute_result",
          "data": {
            "text/plain": [
              "                                         Original Terms  Score\n",
              "0     Facebook uses cookies and receives information...    2.0\n",
              "1     You give us permission to use your name and pr...    2.0\n",
              "2     Our systems automatically process content and ...    2.0\n",
              "3     You can review your Off-Facebook activity, whi...    2.0\n",
              "4     The terms state: \"In addition, content you del...    2.0\n",
              "...                                                 ...    ...\n",
              "1065  WE DO NOT REPRESENT, PROMISE, OR WARRANT THAT ...    1.0\n",
              "1066  THE UNAUTHORIZED ACCESS TO YOUR ACCOUNT OR ANY...    1.0\n",
              "1067  Provide location-based Services, advertising, ...    1.0\n",
              "1068                                         perpetual,    1.0\n",
              "1069  TO THE FULLEST EXTENT PERMITTED BY LAW AND EXC...    1.0\n",
              "\n",
              "[1070 rows x 2 columns]"
            ],
            "text/html": [
              "\n",
              "  <div id=\"df-9cd2c4a0-dd74-4564-8265-38b9b3679d13\">\n",
              "    <div class=\"colab-df-container\">\n",
              "      <div>\n",
              "<style scoped>\n",
              "    .dataframe tbody tr th:only-of-type {\n",
              "        vertical-align: middle;\n",
              "    }\n",
              "\n",
              "    .dataframe tbody tr th {\n",
              "        vertical-align: top;\n",
              "    }\n",
              "\n",
              "    .dataframe thead th {\n",
              "        text-align: right;\n",
              "    }\n",
              "</style>\n",
              "<table border=\"1\" class=\"dataframe\">\n",
              "  <thead>\n",
              "    <tr style=\"text-align: right;\">\n",
              "      <th></th>\n",
              "      <th>Original Terms</th>\n",
              "      <th>Score</th>\n",
              "    </tr>\n",
              "  </thead>\n",
              "  <tbody>\n",
              "    <tr>\n",
              "      <th>0</th>\n",
              "      <td>Facebook uses cookies and receives information...</td>\n",
              "      <td>2.0</td>\n",
              "    </tr>\n",
              "    <tr>\n",
              "      <th>1</th>\n",
              "      <td>You give us permission to use your name and pr...</td>\n",
              "      <td>2.0</td>\n",
              "    </tr>\n",
              "    <tr>\n",
              "      <th>2</th>\n",
              "      <td>Our systems automatically process content and ...</td>\n",
              "      <td>2.0</td>\n",
              "    </tr>\n",
              "    <tr>\n",
              "      <th>3</th>\n",
              "      <td>You can review your Off-Facebook activity, whi...</td>\n",
              "      <td>2.0</td>\n",
              "    </tr>\n",
              "    <tr>\n",
              "      <th>4</th>\n",
              "      <td>The terms state: \"In addition, content you del...</td>\n",
              "      <td>2.0</td>\n",
              "    </tr>\n",
              "    <tr>\n",
              "      <th>...</th>\n",
              "      <td>...</td>\n",
              "      <td>...</td>\n",
              "    </tr>\n",
              "    <tr>\n",
              "      <th>1065</th>\n",
              "      <td>WE DO NOT REPRESENT, PROMISE, OR WARRANT THAT ...</td>\n",
              "      <td>1.0</td>\n",
              "    </tr>\n",
              "    <tr>\n",
              "      <th>1066</th>\n",
              "      <td>THE UNAUTHORIZED ACCESS TO YOUR ACCOUNT OR ANY...</td>\n",
              "      <td>1.0</td>\n",
              "    </tr>\n",
              "    <tr>\n",
              "      <th>1067</th>\n",
              "      <td>Provide location-based Services, advertising, ...</td>\n",
              "      <td>1.0</td>\n",
              "    </tr>\n",
              "    <tr>\n",
              "      <th>1068</th>\n",
              "      <td>perpetual,</td>\n",
              "      <td>1.0</td>\n",
              "    </tr>\n",
              "    <tr>\n",
              "      <th>1069</th>\n",
              "      <td>TO THE FULLEST EXTENT PERMITTED BY LAW AND EXC...</td>\n",
              "      <td>1.0</td>\n",
              "    </tr>\n",
              "  </tbody>\n",
              "</table>\n",
              "<p>1070 rows × 2 columns</p>\n",
              "</div>\n",
              "      <button class=\"colab-df-convert\" onclick=\"convertToInteractive('df-9cd2c4a0-dd74-4564-8265-38b9b3679d13')\"\n",
              "              title=\"Convert this dataframe to an interactive table.\"\n",
              "              style=\"display:none;\">\n",
              "        \n",
              "  <svg xmlns=\"http://www.w3.org/2000/svg\" height=\"24px\"viewBox=\"0 0 24 24\"\n",
              "       width=\"24px\">\n",
              "    <path d=\"M0 0h24v24H0V0z\" fill=\"none\"/>\n",
              "    <path d=\"M18.56 5.44l.94 2.06.94-2.06 2.06-.94-2.06-.94-.94-2.06-.94 2.06-2.06.94zm-11 1L8.5 8.5l.94-2.06 2.06-.94-2.06-.94L8.5 2.5l-.94 2.06-2.06.94zm10 10l.94 2.06.94-2.06 2.06-.94-2.06-.94-.94-2.06-.94 2.06-2.06.94z\"/><path d=\"M17.41 7.96l-1.37-1.37c-.4-.4-.92-.59-1.43-.59-.52 0-1.04.2-1.43.59L10.3 9.45l-7.72 7.72c-.78.78-.78 2.05 0 2.83L4 21.41c.39.39.9.59 1.41.59.51 0 1.02-.2 1.41-.59l7.78-7.78 2.81-2.81c.8-.78.8-2.07 0-2.86zM5.41 20L4 18.59l7.72-7.72 1.47 1.35L5.41 20z\"/>\n",
              "  </svg>\n",
              "      </button>\n",
              "      \n",
              "  <style>\n",
              "    .colab-df-container {\n",
              "      display:flex;\n",
              "      flex-wrap:wrap;\n",
              "      gap: 12px;\n",
              "    }\n",
              "\n",
              "    .colab-df-convert {\n",
              "      background-color: #E8F0FE;\n",
              "      border: none;\n",
              "      border-radius: 50%;\n",
              "      cursor: pointer;\n",
              "      display: none;\n",
              "      fill: #1967D2;\n",
              "      height: 32px;\n",
              "      padding: 0 0 0 0;\n",
              "      width: 32px;\n",
              "    }\n",
              "\n",
              "    .colab-df-convert:hover {\n",
              "      background-color: #E2EBFA;\n",
              "      box-shadow: 0px 1px 2px rgba(60, 64, 67, 0.3), 0px 1px 3px 1px rgba(60, 64, 67, 0.15);\n",
              "      fill: #174EA6;\n",
              "    }\n",
              "\n",
              "    [theme=dark] .colab-df-convert {\n",
              "      background-color: #3B4455;\n",
              "      fill: #D2E3FC;\n",
              "    }\n",
              "\n",
              "    [theme=dark] .colab-df-convert:hover {\n",
              "      background-color: #434B5C;\n",
              "      box-shadow: 0px 1px 3px 1px rgba(0, 0, 0, 0.15);\n",
              "      filter: drop-shadow(0px 1px 2px rgba(0, 0, 0, 0.3));\n",
              "      fill: #FFFFFF;\n",
              "    }\n",
              "  </style>\n",
              "\n",
              "      <script>\n",
              "        const buttonEl =\n",
              "          document.querySelector('#df-9cd2c4a0-dd74-4564-8265-38b9b3679d13 button.colab-df-convert');\n",
              "        buttonEl.style.display =\n",
              "          google.colab.kernel.accessAllowed ? 'block' : 'none';\n",
              "\n",
              "        async function convertToInteractive(key) {\n",
              "          const element = document.querySelector('#df-9cd2c4a0-dd74-4564-8265-38b9b3679d13');\n",
              "          const dataTable =\n",
              "            await google.colab.kernel.invokeFunction('convertToInteractive',\n",
              "                                                     [key], {});\n",
              "          if (!dataTable) return;\n",
              "\n",
              "          const docLinkHtml = 'Like what you see? Visit the ' +\n",
              "            '<a target=\"_blank\" href=https://colab.research.google.com/notebooks/data_table.ipynb>data table notebook</a>'\n",
              "            + ' to learn more about interactive tables.';\n",
              "          element.innerHTML = '';\n",
              "          dataTable['output_type'] = 'display_data';\n",
              "          await google.colab.output.renderOutput(dataTable, element);\n",
              "          const docLink = document.createElement('div');\n",
              "          docLink.innerHTML = docLinkHtml;\n",
              "          element.appendChild(docLink);\n",
              "        }\n",
              "      </script>\n",
              "    </div>\n",
              "  </div>\n",
              "  "
            ]
          },
          "metadata": {},
          "execution_count": 8
        }
      ]
    },
    {
      "cell_type": "code",
      "source": [
        "df.isnull().sum()"
      ],
      "metadata": {
        "colab": {
          "base_uri": "https://localhost:8080/"
        },
        "id": "ZThrKM8acBnG",
        "outputId": "4fe69efc-7d8b-481d-b5ef-d7f9df0cb261"
      },
      "execution_count": null,
      "outputs": [
        {
          "output_type": "execute_result",
          "data": {
            "text/plain": [
              "Original Terms     7\n",
              "Score             13\n",
              "dtype: int64"
            ]
          },
          "metadata": {},
          "execution_count": 9
        }
      ]
    },
    {
      "cell_type": "code",
      "source": [
        "df = df.dropna()"
      ],
      "metadata": {
        "id": "VwM8_agrgvvf"
      },
      "execution_count": null,
      "outputs": []
    },
    {
      "cell_type": "code",
      "source": [
        "df"
      ],
      "metadata": {
        "colab": {
          "base_uri": "https://localhost:8080/",
          "height": 424
        },
        "id": "foY2ytR3gvyt",
        "outputId": "84749d3d-4213-4439-9378-411b328c47b1"
      },
      "execution_count": null,
      "outputs": [
        {
          "output_type": "execute_result",
          "data": {
            "text/plain": [
              "                                         Original Terms  Score\n",
              "0     Facebook uses cookies and receives information...    2.0\n",
              "1     You give us permission to use your name and pr...    2.0\n",
              "2     Our systems automatically process content and ...    2.0\n",
              "3     You can review your Off-Facebook activity, whi...    2.0\n",
              "4     The terms state: \"In addition, content you del...    2.0\n",
              "...                                                 ...    ...\n",
              "1065  WE DO NOT REPRESENT, PROMISE, OR WARRANT THAT ...    1.0\n",
              "1066  THE UNAUTHORIZED ACCESS TO YOUR ACCOUNT OR ANY...    1.0\n",
              "1067  Provide location-based Services, advertising, ...    1.0\n",
              "1068                                         perpetual,    1.0\n",
              "1069  TO THE FULLEST EXTENT PERMITTED BY LAW AND EXC...    1.0\n",
              "\n",
              "[1050 rows x 2 columns]"
            ],
            "text/html": [
              "\n",
              "  <div id=\"df-9179e48a-f297-4af7-acd1-95fe1677ceab\">\n",
              "    <div class=\"colab-df-container\">\n",
              "      <div>\n",
              "<style scoped>\n",
              "    .dataframe tbody tr th:only-of-type {\n",
              "        vertical-align: middle;\n",
              "    }\n",
              "\n",
              "    .dataframe tbody tr th {\n",
              "        vertical-align: top;\n",
              "    }\n",
              "\n",
              "    .dataframe thead th {\n",
              "        text-align: right;\n",
              "    }\n",
              "</style>\n",
              "<table border=\"1\" class=\"dataframe\">\n",
              "  <thead>\n",
              "    <tr style=\"text-align: right;\">\n",
              "      <th></th>\n",
              "      <th>Original Terms</th>\n",
              "      <th>Score</th>\n",
              "    </tr>\n",
              "  </thead>\n",
              "  <tbody>\n",
              "    <tr>\n",
              "      <th>0</th>\n",
              "      <td>Facebook uses cookies and receives information...</td>\n",
              "      <td>2.0</td>\n",
              "    </tr>\n",
              "    <tr>\n",
              "      <th>1</th>\n",
              "      <td>You give us permission to use your name and pr...</td>\n",
              "      <td>2.0</td>\n",
              "    </tr>\n",
              "    <tr>\n",
              "      <th>2</th>\n",
              "      <td>Our systems automatically process content and ...</td>\n",
              "      <td>2.0</td>\n",
              "    </tr>\n",
              "    <tr>\n",
              "      <th>3</th>\n",
              "      <td>You can review your Off-Facebook activity, whi...</td>\n",
              "      <td>2.0</td>\n",
              "    </tr>\n",
              "    <tr>\n",
              "      <th>4</th>\n",
              "      <td>The terms state: \"In addition, content you del...</td>\n",
              "      <td>2.0</td>\n",
              "    </tr>\n",
              "    <tr>\n",
              "      <th>...</th>\n",
              "      <td>...</td>\n",
              "      <td>...</td>\n",
              "    </tr>\n",
              "    <tr>\n",
              "      <th>1065</th>\n",
              "      <td>WE DO NOT REPRESENT, PROMISE, OR WARRANT THAT ...</td>\n",
              "      <td>1.0</td>\n",
              "    </tr>\n",
              "    <tr>\n",
              "      <th>1066</th>\n",
              "      <td>THE UNAUTHORIZED ACCESS TO YOUR ACCOUNT OR ANY...</td>\n",
              "      <td>1.0</td>\n",
              "    </tr>\n",
              "    <tr>\n",
              "      <th>1067</th>\n",
              "      <td>Provide location-based Services, advertising, ...</td>\n",
              "      <td>1.0</td>\n",
              "    </tr>\n",
              "    <tr>\n",
              "      <th>1068</th>\n",
              "      <td>perpetual,</td>\n",
              "      <td>1.0</td>\n",
              "    </tr>\n",
              "    <tr>\n",
              "      <th>1069</th>\n",
              "      <td>TO THE FULLEST EXTENT PERMITTED BY LAW AND EXC...</td>\n",
              "      <td>1.0</td>\n",
              "    </tr>\n",
              "  </tbody>\n",
              "</table>\n",
              "<p>1050 rows × 2 columns</p>\n",
              "</div>\n",
              "      <button class=\"colab-df-convert\" onclick=\"convertToInteractive('df-9179e48a-f297-4af7-acd1-95fe1677ceab')\"\n",
              "              title=\"Convert this dataframe to an interactive table.\"\n",
              "              style=\"display:none;\">\n",
              "        \n",
              "  <svg xmlns=\"http://www.w3.org/2000/svg\" height=\"24px\"viewBox=\"0 0 24 24\"\n",
              "       width=\"24px\">\n",
              "    <path d=\"M0 0h24v24H0V0z\" fill=\"none\"/>\n",
              "    <path d=\"M18.56 5.44l.94 2.06.94-2.06 2.06-.94-2.06-.94-.94-2.06-.94 2.06-2.06.94zm-11 1L8.5 8.5l.94-2.06 2.06-.94-2.06-.94L8.5 2.5l-.94 2.06-2.06.94zm10 10l.94 2.06.94-2.06 2.06-.94-2.06-.94-.94-2.06-.94 2.06-2.06.94z\"/><path d=\"M17.41 7.96l-1.37-1.37c-.4-.4-.92-.59-1.43-.59-.52 0-1.04.2-1.43.59L10.3 9.45l-7.72 7.72c-.78.78-.78 2.05 0 2.83L4 21.41c.39.39.9.59 1.41.59.51 0 1.02-.2 1.41-.59l7.78-7.78 2.81-2.81c.8-.78.8-2.07 0-2.86zM5.41 20L4 18.59l7.72-7.72 1.47 1.35L5.41 20z\"/>\n",
              "  </svg>\n",
              "      </button>\n",
              "      \n",
              "  <style>\n",
              "    .colab-df-container {\n",
              "      display:flex;\n",
              "      flex-wrap:wrap;\n",
              "      gap: 12px;\n",
              "    }\n",
              "\n",
              "    .colab-df-convert {\n",
              "      background-color: #E8F0FE;\n",
              "      border: none;\n",
              "      border-radius: 50%;\n",
              "      cursor: pointer;\n",
              "      display: none;\n",
              "      fill: #1967D2;\n",
              "      height: 32px;\n",
              "      padding: 0 0 0 0;\n",
              "      width: 32px;\n",
              "    }\n",
              "\n",
              "    .colab-df-convert:hover {\n",
              "      background-color: #E2EBFA;\n",
              "      box-shadow: 0px 1px 2px rgba(60, 64, 67, 0.3), 0px 1px 3px 1px rgba(60, 64, 67, 0.15);\n",
              "      fill: #174EA6;\n",
              "    }\n",
              "\n",
              "    [theme=dark] .colab-df-convert {\n",
              "      background-color: #3B4455;\n",
              "      fill: #D2E3FC;\n",
              "    }\n",
              "\n",
              "    [theme=dark] .colab-df-convert:hover {\n",
              "      background-color: #434B5C;\n",
              "      box-shadow: 0px 1px 3px 1px rgba(0, 0, 0, 0.15);\n",
              "      filter: drop-shadow(0px 1px 2px rgba(0, 0, 0, 0.3));\n",
              "      fill: #FFFFFF;\n",
              "    }\n",
              "  </style>\n",
              "\n",
              "      <script>\n",
              "        const buttonEl =\n",
              "          document.querySelector('#df-9179e48a-f297-4af7-acd1-95fe1677ceab button.colab-df-convert');\n",
              "        buttonEl.style.display =\n",
              "          google.colab.kernel.accessAllowed ? 'block' : 'none';\n",
              "\n",
              "        async function convertToInteractive(key) {\n",
              "          const element = document.querySelector('#df-9179e48a-f297-4af7-acd1-95fe1677ceab');\n",
              "          const dataTable =\n",
              "            await google.colab.kernel.invokeFunction('convertToInteractive',\n",
              "                                                     [key], {});\n",
              "          if (!dataTable) return;\n",
              "\n",
              "          const docLinkHtml = 'Like what you see? Visit the ' +\n",
              "            '<a target=\"_blank\" href=https://colab.research.google.com/notebooks/data_table.ipynb>data table notebook</a>'\n",
              "            + ' to learn more about interactive tables.';\n",
              "          element.innerHTML = '';\n",
              "          dataTable['output_type'] = 'display_data';\n",
              "          await google.colab.output.renderOutput(dataTable, element);\n",
              "          const docLink = document.createElement('div');\n",
              "          docLink.innerHTML = docLinkHtml;\n",
              "          element.appendChild(docLink);\n",
              "        }\n",
              "      </script>\n",
              "    </div>\n",
              "  </div>\n",
              "  "
            ]
          },
          "metadata": {},
          "execution_count": 11
        }
      ]
    },
    {
      "cell_type": "code",
      "source": [
        "df['Original Terms'].duplicated().sum()"
      ],
      "metadata": {
        "colab": {
          "base_uri": "https://localhost:8080/"
        },
        "id": "4PwJD6RBgv1l",
        "outputId": "7a073637-b198-4d59-852e-46d332f365f1"
      },
      "execution_count": null,
      "outputs": [
        {
          "output_type": "execute_result",
          "data": {
            "text/plain": [
              "8"
            ]
          },
          "metadata": {},
          "execution_count": 12
        }
      ]
    },
    {
      "cell_type": "code",
      "source": [
        "df = df.drop_duplicates(keep='first')"
      ],
      "metadata": {
        "id": "VYYtlzgwhtvM"
      },
      "execution_count": null,
      "outputs": []
    },
    {
      "cell_type": "code",
      "source": [
        "df['Original Terms'].duplicated().sum()"
      ],
      "metadata": {
        "colab": {
          "base_uri": "https://localhost:8080/"
        },
        "id": "RmKEvS7ciU-P",
        "outputId": "d47ae572-f9a0-4774-c794-0296a778364e"
      },
      "execution_count": null,
      "outputs": [
        {
          "output_type": "execute_result",
          "data": {
            "text/plain": [
              "0"
            ]
          },
          "metadata": {},
          "execution_count": 14
        }
      ]
    },
    {
      "cell_type": "code",
      "source": [
        "df = df.dropna()"
      ],
      "metadata": {
        "id": "YKM-pqg1iYhN"
      },
      "execution_count": null,
      "outputs": []
    },
    {
      "cell_type": "code",
      "source": [
        "df"
      ],
      "metadata": {
        "colab": {
          "base_uri": "https://localhost:8080/",
          "height": 424
        },
        "id": "nJppGwHKigcW",
        "outputId": "ce5c1d3a-a7c4-4da6-ecc1-7907d6343a15"
      },
      "execution_count": null,
      "outputs": [
        {
          "output_type": "execute_result",
          "data": {
            "text/plain": [
              "                                         Original Terms  Score\n",
              "0     Facebook uses cookies and receives information...    2.0\n",
              "1     You give us permission to use your name and pr...    2.0\n",
              "2     Our systems automatically process content and ...    2.0\n",
              "3     You can review your Off-Facebook activity, whi...    2.0\n",
              "4     The terms state: \"In addition, content you del...    2.0\n",
              "...                                                 ...    ...\n",
              "1064  We may associate activity and accounts under a...    1.0\n",
              "1065  WE DO NOT REPRESENT, PROMISE, OR WARRANT THAT ...    1.0\n",
              "1066  THE UNAUTHORIZED ACCESS TO YOUR ACCOUNT OR ANY...    1.0\n",
              "1067  Provide location-based Services, advertising, ...    1.0\n",
              "1069  TO THE FULLEST EXTENT PERMITTED BY LAW AND EXC...    1.0\n",
              "\n",
              "[1042 rows x 2 columns]"
            ],
            "text/html": [
              "\n",
              "  <div id=\"df-396c6db5-bdf8-47ca-b57d-17e6e1a25e87\">\n",
              "    <div class=\"colab-df-container\">\n",
              "      <div>\n",
              "<style scoped>\n",
              "    .dataframe tbody tr th:only-of-type {\n",
              "        vertical-align: middle;\n",
              "    }\n",
              "\n",
              "    .dataframe tbody tr th {\n",
              "        vertical-align: top;\n",
              "    }\n",
              "\n",
              "    .dataframe thead th {\n",
              "        text-align: right;\n",
              "    }\n",
              "</style>\n",
              "<table border=\"1\" class=\"dataframe\">\n",
              "  <thead>\n",
              "    <tr style=\"text-align: right;\">\n",
              "      <th></th>\n",
              "      <th>Original Terms</th>\n",
              "      <th>Score</th>\n",
              "    </tr>\n",
              "  </thead>\n",
              "  <tbody>\n",
              "    <tr>\n",
              "      <th>0</th>\n",
              "      <td>Facebook uses cookies and receives information...</td>\n",
              "      <td>2.0</td>\n",
              "    </tr>\n",
              "    <tr>\n",
              "      <th>1</th>\n",
              "      <td>You give us permission to use your name and pr...</td>\n",
              "      <td>2.0</td>\n",
              "    </tr>\n",
              "    <tr>\n",
              "      <th>2</th>\n",
              "      <td>Our systems automatically process content and ...</td>\n",
              "      <td>2.0</td>\n",
              "    </tr>\n",
              "    <tr>\n",
              "      <th>3</th>\n",
              "      <td>You can review your Off-Facebook activity, whi...</td>\n",
              "      <td>2.0</td>\n",
              "    </tr>\n",
              "    <tr>\n",
              "      <th>4</th>\n",
              "      <td>The terms state: \"In addition, content you del...</td>\n",
              "      <td>2.0</td>\n",
              "    </tr>\n",
              "    <tr>\n",
              "      <th>...</th>\n",
              "      <td>...</td>\n",
              "      <td>...</td>\n",
              "    </tr>\n",
              "    <tr>\n",
              "      <th>1064</th>\n",
              "      <td>We may associate activity and accounts under a...</td>\n",
              "      <td>1.0</td>\n",
              "    </tr>\n",
              "    <tr>\n",
              "      <th>1065</th>\n",
              "      <td>WE DO NOT REPRESENT, PROMISE, OR WARRANT THAT ...</td>\n",
              "      <td>1.0</td>\n",
              "    </tr>\n",
              "    <tr>\n",
              "      <th>1066</th>\n",
              "      <td>THE UNAUTHORIZED ACCESS TO YOUR ACCOUNT OR ANY...</td>\n",
              "      <td>1.0</td>\n",
              "    </tr>\n",
              "    <tr>\n",
              "      <th>1067</th>\n",
              "      <td>Provide location-based Services, advertising, ...</td>\n",
              "      <td>1.0</td>\n",
              "    </tr>\n",
              "    <tr>\n",
              "      <th>1069</th>\n",
              "      <td>TO THE FULLEST EXTENT PERMITTED BY LAW AND EXC...</td>\n",
              "      <td>1.0</td>\n",
              "    </tr>\n",
              "  </tbody>\n",
              "</table>\n",
              "<p>1042 rows × 2 columns</p>\n",
              "</div>\n",
              "      <button class=\"colab-df-convert\" onclick=\"convertToInteractive('df-396c6db5-bdf8-47ca-b57d-17e6e1a25e87')\"\n",
              "              title=\"Convert this dataframe to an interactive table.\"\n",
              "              style=\"display:none;\">\n",
              "        \n",
              "  <svg xmlns=\"http://www.w3.org/2000/svg\" height=\"24px\"viewBox=\"0 0 24 24\"\n",
              "       width=\"24px\">\n",
              "    <path d=\"M0 0h24v24H0V0z\" fill=\"none\"/>\n",
              "    <path d=\"M18.56 5.44l.94 2.06.94-2.06 2.06-.94-2.06-.94-.94-2.06-.94 2.06-2.06.94zm-11 1L8.5 8.5l.94-2.06 2.06-.94-2.06-.94L8.5 2.5l-.94 2.06-2.06.94zm10 10l.94 2.06.94-2.06 2.06-.94-2.06-.94-.94-2.06-.94 2.06-2.06.94z\"/><path d=\"M17.41 7.96l-1.37-1.37c-.4-.4-.92-.59-1.43-.59-.52 0-1.04.2-1.43.59L10.3 9.45l-7.72 7.72c-.78.78-.78 2.05 0 2.83L4 21.41c.39.39.9.59 1.41.59.51 0 1.02-.2 1.41-.59l7.78-7.78 2.81-2.81c.8-.78.8-2.07 0-2.86zM5.41 20L4 18.59l7.72-7.72 1.47 1.35L5.41 20z\"/>\n",
              "  </svg>\n",
              "      </button>\n",
              "      \n",
              "  <style>\n",
              "    .colab-df-container {\n",
              "      display:flex;\n",
              "      flex-wrap:wrap;\n",
              "      gap: 12px;\n",
              "    }\n",
              "\n",
              "    .colab-df-convert {\n",
              "      background-color: #E8F0FE;\n",
              "      border: none;\n",
              "      border-radius: 50%;\n",
              "      cursor: pointer;\n",
              "      display: none;\n",
              "      fill: #1967D2;\n",
              "      height: 32px;\n",
              "      padding: 0 0 0 0;\n",
              "      width: 32px;\n",
              "    }\n",
              "\n",
              "    .colab-df-convert:hover {\n",
              "      background-color: #E2EBFA;\n",
              "      box-shadow: 0px 1px 2px rgba(60, 64, 67, 0.3), 0px 1px 3px 1px rgba(60, 64, 67, 0.15);\n",
              "      fill: #174EA6;\n",
              "    }\n",
              "\n",
              "    [theme=dark] .colab-df-convert {\n",
              "      background-color: #3B4455;\n",
              "      fill: #D2E3FC;\n",
              "    }\n",
              "\n",
              "    [theme=dark] .colab-df-convert:hover {\n",
              "      background-color: #434B5C;\n",
              "      box-shadow: 0px 1px 3px 1px rgba(0, 0, 0, 0.15);\n",
              "      filter: drop-shadow(0px 1px 2px rgba(0, 0, 0, 0.3));\n",
              "      fill: #FFFFFF;\n",
              "    }\n",
              "  </style>\n",
              "\n",
              "      <script>\n",
              "        const buttonEl =\n",
              "          document.querySelector('#df-396c6db5-bdf8-47ca-b57d-17e6e1a25e87 button.colab-df-convert');\n",
              "        buttonEl.style.display =\n",
              "          google.colab.kernel.accessAllowed ? 'block' : 'none';\n",
              "\n",
              "        async function convertToInteractive(key) {\n",
              "          const element = document.querySelector('#df-396c6db5-bdf8-47ca-b57d-17e6e1a25e87');\n",
              "          const dataTable =\n",
              "            await google.colab.kernel.invokeFunction('convertToInteractive',\n",
              "                                                     [key], {});\n",
              "          if (!dataTable) return;\n",
              "\n",
              "          const docLinkHtml = 'Like what you see? Visit the ' +\n",
              "            '<a target=\"_blank\" href=https://colab.research.google.com/notebooks/data_table.ipynb>data table notebook</a>'\n",
              "            + ' to learn more about interactive tables.';\n",
              "          element.innerHTML = '';\n",
              "          dataTable['output_type'] = 'display_data';\n",
              "          await google.colab.output.renderOutput(dataTable, element);\n",
              "          const docLink = document.createElement('div');\n",
              "          docLink.innerHTML = docLinkHtml;\n",
              "          element.appendChild(docLink);\n",
              "        }\n",
              "      </script>\n",
              "    </div>\n",
              "  </div>\n",
              "  "
            ]
          },
          "metadata": {},
          "execution_count": 16
        }
      ]
    },
    {
      "cell_type": "code",
      "source": [
        "df['Score'] = df['Score'].astype('int')"
      ],
      "metadata": {
        "id": "SXbsIRCWigfO"
      },
      "execution_count": null,
      "outputs": []
    },
    {
      "cell_type": "code",
      "source": [
        "df"
      ],
      "metadata": {
        "colab": {
          "base_uri": "https://localhost:8080/",
          "height": 424
        },
        "id": "YhrA0vF6igiP",
        "outputId": "2a946c60-aec9-434d-a0a2-3ccce3a88ae2"
      },
      "execution_count": null,
      "outputs": [
        {
          "output_type": "execute_result",
          "data": {
            "text/plain": [
              "                                         Original Terms  Score\n",
              "0     Facebook uses cookies and receives information...      2\n",
              "1     You give us permission to use your name and pr...      2\n",
              "2     Our systems automatically process content and ...      2\n",
              "3     You can review your Off-Facebook activity, whi...      2\n",
              "4     The terms state: \"In addition, content you del...      2\n",
              "...                                                 ...    ...\n",
              "1064  We may associate activity and accounts under a...      1\n",
              "1065  WE DO NOT REPRESENT, PROMISE, OR WARRANT THAT ...      1\n",
              "1066  THE UNAUTHORIZED ACCESS TO YOUR ACCOUNT OR ANY...      1\n",
              "1067  Provide location-based Services, advertising, ...      1\n",
              "1069  TO THE FULLEST EXTENT PERMITTED BY LAW AND EXC...      1\n",
              "\n",
              "[1042 rows x 2 columns]"
            ],
            "text/html": [
              "\n",
              "  <div id=\"df-6cf3caca-68a7-45c3-a232-7f78d9d20b1a\">\n",
              "    <div class=\"colab-df-container\">\n",
              "      <div>\n",
              "<style scoped>\n",
              "    .dataframe tbody tr th:only-of-type {\n",
              "        vertical-align: middle;\n",
              "    }\n",
              "\n",
              "    .dataframe tbody tr th {\n",
              "        vertical-align: top;\n",
              "    }\n",
              "\n",
              "    .dataframe thead th {\n",
              "        text-align: right;\n",
              "    }\n",
              "</style>\n",
              "<table border=\"1\" class=\"dataframe\">\n",
              "  <thead>\n",
              "    <tr style=\"text-align: right;\">\n",
              "      <th></th>\n",
              "      <th>Original Terms</th>\n",
              "      <th>Score</th>\n",
              "    </tr>\n",
              "  </thead>\n",
              "  <tbody>\n",
              "    <tr>\n",
              "      <th>0</th>\n",
              "      <td>Facebook uses cookies and receives information...</td>\n",
              "      <td>2</td>\n",
              "    </tr>\n",
              "    <tr>\n",
              "      <th>1</th>\n",
              "      <td>You give us permission to use your name and pr...</td>\n",
              "      <td>2</td>\n",
              "    </tr>\n",
              "    <tr>\n",
              "      <th>2</th>\n",
              "      <td>Our systems automatically process content and ...</td>\n",
              "      <td>2</td>\n",
              "    </tr>\n",
              "    <tr>\n",
              "      <th>3</th>\n",
              "      <td>You can review your Off-Facebook activity, whi...</td>\n",
              "      <td>2</td>\n",
              "    </tr>\n",
              "    <tr>\n",
              "      <th>4</th>\n",
              "      <td>The terms state: \"In addition, content you del...</td>\n",
              "      <td>2</td>\n",
              "    </tr>\n",
              "    <tr>\n",
              "      <th>...</th>\n",
              "      <td>...</td>\n",
              "      <td>...</td>\n",
              "    </tr>\n",
              "    <tr>\n",
              "      <th>1064</th>\n",
              "      <td>We may associate activity and accounts under a...</td>\n",
              "      <td>1</td>\n",
              "    </tr>\n",
              "    <tr>\n",
              "      <th>1065</th>\n",
              "      <td>WE DO NOT REPRESENT, PROMISE, OR WARRANT THAT ...</td>\n",
              "      <td>1</td>\n",
              "    </tr>\n",
              "    <tr>\n",
              "      <th>1066</th>\n",
              "      <td>THE UNAUTHORIZED ACCESS TO YOUR ACCOUNT OR ANY...</td>\n",
              "      <td>1</td>\n",
              "    </tr>\n",
              "    <tr>\n",
              "      <th>1067</th>\n",
              "      <td>Provide location-based Services, advertising, ...</td>\n",
              "      <td>1</td>\n",
              "    </tr>\n",
              "    <tr>\n",
              "      <th>1069</th>\n",
              "      <td>TO THE FULLEST EXTENT PERMITTED BY LAW AND EXC...</td>\n",
              "      <td>1</td>\n",
              "    </tr>\n",
              "  </tbody>\n",
              "</table>\n",
              "<p>1042 rows × 2 columns</p>\n",
              "</div>\n",
              "      <button class=\"colab-df-convert\" onclick=\"convertToInteractive('df-6cf3caca-68a7-45c3-a232-7f78d9d20b1a')\"\n",
              "              title=\"Convert this dataframe to an interactive table.\"\n",
              "              style=\"display:none;\">\n",
              "        \n",
              "  <svg xmlns=\"http://www.w3.org/2000/svg\" height=\"24px\"viewBox=\"0 0 24 24\"\n",
              "       width=\"24px\">\n",
              "    <path d=\"M0 0h24v24H0V0z\" fill=\"none\"/>\n",
              "    <path d=\"M18.56 5.44l.94 2.06.94-2.06 2.06-.94-2.06-.94-.94-2.06-.94 2.06-2.06.94zm-11 1L8.5 8.5l.94-2.06 2.06-.94-2.06-.94L8.5 2.5l-.94 2.06-2.06.94zm10 10l.94 2.06.94-2.06 2.06-.94-2.06-.94-.94-2.06-.94 2.06-2.06.94z\"/><path d=\"M17.41 7.96l-1.37-1.37c-.4-.4-.92-.59-1.43-.59-.52 0-1.04.2-1.43.59L10.3 9.45l-7.72 7.72c-.78.78-.78 2.05 0 2.83L4 21.41c.39.39.9.59 1.41.59.51 0 1.02-.2 1.41-.59l7.78-7.78 2.81-2.81c.8-.78.8-2.07 0-2.86zM5.41 20L4 18.59l7.72-7.72 1.47 1.35L5.41 20z\"/>\n",
              "  </svg>\n",
              "      </button>\n",
              "      \n",
              "  <style>\n",
              "    .colab-df-container {\n",
              "      display:flex;\n",
              "      flex-wrap:wrap;\n",
              "      gap: 12px;\n",
              "    }\n",
              "\n",
              "    .colab-df-convert {\n",
              "      background-color: #E8F0FE;\n",
              "      border: none;\n",
              "      border-radius: 50%;\n",
              "      cursor: pointer;\n",
              "      display: none;\n",
              "      fill: #1967D2;\n",
              "      height: 32px;\n",
              "      padding: 0 0 0 0;\n",
              "      width: 32px;\n",
              "    }\n",
              "\n",
              "    .colab-df-convert:hover {\n",
              "      background-color: #E2EBFA;\n",
              "      box-shadow: 0px 1px 2px rgba(60, 64, 67, 0.3), 0px 1px 3px 1px rgba(60, 64, 67, 0.15);\n",
              "      fill: #174EA6;\n",
              "    }\n",
              "\n",
              "    [theme=dark] .colab-df-convert {\n",
              "      background-color: #3B4455;\n",
              "      fill: #D2E3FC;\n",
              "    }\n",
              "\n",
              "    [theme=dark] .colab-df-convert:hover {\n",
              "      background-color: #434B5C;\n",
              "      box-shadow: 0px 1px 3px 1px rgba(0, 0, 0, 0.15);\n",
              "      filter: drop-shadow(0px 1px 2px rgba(0, 0, 0, 0.3));\n",
              "      fill: #FFFFFF;\n",
              "    }\n",
              "  </style>\n",
              "\n",
              "      <script>\n",
              "        const buttonEl =\n",
              "          document.querySelector('#df-6cf3caca-68a7-45c3-a232-7f78d9d20b1a button.colab-df-convert');\n",
              "        buttonEl.style.display =\n",
              "          google.colab.kernel.accessAllowed ? 'block' : 'none';\n",
              "\n",
              "        async function convertToInteractive(key) {\n",
              "          const element = document.querySelector('#df-6cf3caca-68a7-45c3-a232-7f78d9d20b1a');\n",
              "          const dataTable =\n",
              "            await google.colab.kernel.invokeFunction('convertToInteractive',\n",
              "                                                     [key], {});\n",
              "          if (!dataTable) return;\n",
              "\n",
              "          const docLinkHtml = 'Like what you see? Visit the ' +\n",
              "            '<a target=\"_blank\" href=https://colab.research.google.com/notebooks/data_table.ipynb>data table notebook</a>'\n",
              "            + ' to learn more about interactive tables.';\n",
              "          element.innerHTML = '';\n",
              "          dataTable['output_type'] = 'display_data';\n",
              "          await google.colab.output.renderOutput(dataTable, element);\n",
              "          const docLink = document.createElement('div');\n",
              "          docLink.innerHTML = docLinkHtml;\n",
              "          element.appendChild(docLink);\n",
              "        }\n",
              "      </script>\n",
              "    </div>\n",
              "  </div>\n",
              "  "
            ]
          },
          "metadata": {},
          "execution_count": 18
        }
      ]
    },
    {
      "cell_type": "code",
      "source": [
        "df.drop(df.index[df['Score']==4],inplace=True)"
      ],
      "metadata": {
        "id": "rVMwYk6Ligku"
      },
      "execution_count": null,
      "outputs": []
    },
    {
      "cell_type": "code",
      "source": [
        "df"
      ],
      "metadata": {
        "colab": {
          "base_uri": "https://localhost:8080/",
          "height": 424
        },
        "id": "MbfaCUSkjKte",
        "outputId": "dff0138d-e01f-4ff7-c0f7-cb00597fb739"
      },
      "execution_count": null,
      "outputs": [
        {
          "output_type": "execute_result",
          "data": {
            "text/plain": [
              "                                         Original Terms  Score\n",
              "0     Facebook uses cookies and receives information...      2\n",
              "1     You give us permission to use your name and pr...      2\n",
              "2     Our systems automatically process content and ...      2\n",
              "3     You can review your Off-Facebook activity, whi...      2\n",
              "4     The terms state: \"In addition, content you del...      2\n",
              "...                                                 ...    ...\n",
              "1064  We may associate activity and accounts under a...      1\n",
              "1065  WE DO NOT REPRESENT, PROMISE, OR WARRANT THAT ...      1\n",
              "1066  THE UNAUTHORIZED ACCESS TO YOUR ACCOUNT OR ANY...      1\n",
              "1067  Provide location-based Services, advertising, ...      1\n",
              "1069  TO THE FULLEST EXTENT PERMITTED BY LAW AND EXC...      1\n",
              "\n",
              "[855 rows x 2 columns]"
            ],
            "text/html": [
              "\n",
              "  <div id=\"df-288d6722-9782-4715-b8cd-2c2823a20ed6\">\n",
              "    <div class=\"colab-df-container\">\n",
              "      <div>\n",
              "<style scoped>\n",
              "    .dataframe tbody tr th:only-of-type {\n",
              "        vertical-align: middle;\n",
              "    }\n",
              "\n",
              "    .dataframe tbody tr th {\n",
              "        vertical-align: top;\n",
              "    }\n",
              "\n",
              "    .dataframe thead th {\n",
              "        text-align: right;\n",
              "    }\n",
              "</style>\n",
              "<table border=\"1\" class=\"dataframe\">\n",
              "  <thead>\n",
              "    <tr style=\"text-align: right;\">\n",
              "      <th></th>\n",
              "      <th>Original Terms</th>\n",
              "      <th>Score</th>\n",
              "    </tr>\n",
              "  </thead>\n",
              "  <tbody>\n",
              "    <tr>\n",
              "      <th>0</th>\n",
              "      <td>Facebook uses cookies and receives information...</td>\n",
              "      <td>2</td>\n",
              "    </tr>\n",
              "    <tr>\n",
              "      <th>1</th>\n",
              "      <td>You give us permission to use your name and pr...</td>\n",
              "      <td>2</td>\n",
              "    </tr>\n",
              "    <tr>\n",
              "      <th>2</th>\n",
              "      <td>Our systems automatically process content and ...</td>\n",
              "      <td>2</td>\n",
              "    </tr>\n",
              "    <tr>\n",
              "      <th>3</th>\n",
              "      <td>You can review your Off-Facebook activity, whi...</td>\n",
              "      <td>2</td>\n",
              "    </tr>\n",
              "    <tr>\n",
              "      <th>4</th>\n",
              "      <td>The terms state: \"In addition, content you del...</td>\n",
              "      <td>2</td>\n",
              "    </tr>\n",
              "    <tr>\n",
              "      <th>...</th>\n",
              "      <td>...</td>\n",
              "      <td>...</td>\n",
              "    </tr>\n",
              "    <tr>\n",
              "      <th>1064</th>\n",
              "      <td>We may associate activity and accounts under a...</td>\n",
              "      <td>1</td>\n",
              "    </tr>\n",
              "    <tr>\n",
              "      <th>1065</th>\n",
              "      <td>WE DO NOT REPRESENT, PROMISE, OR WARRANT THAT ...</td>\n",
              "      <td>1</td>\n",
              "    </tr>\n",
              "    <tr>\n",
              "      <th>1066</th>\n",
              "      <td>THE UNAUTHORIZED ACCESS TO YOUR ACCOUNT OR ANY...</td>\n",
              "      <td>1</td>\n",
              "    </tr>\n",
              "    <tr>\n",
              "      <th>1067</th>\n",
              "      <td>Provide location-based Services, advertising, ...</td>\n",
              "      <td>1</td>\n",
              "    </tr>\n",
              "    <tr>\n",
              "      <th>1069</th>\n",
              "      <td>TO THE FULLEST EXTENT PERMITTED BY LAW AND EXC...</td>\n",
              "      <td>1</td>\n",
              "    </tr>\n",
              "  </tbody>\n",
              "</table>\n",
              "<p>855 rows × 2 columns</p>\n",
              "</div>\n",
              "      <button class=\"colab-df-convert\" onclick=\"convertToInteractive('df-288d6722-9782-4715-b8cd-2c2823a20ed6')\"\n",
              "              title=\"Convert this dataframe to an interactive table.\"\n",
              "              style=\"display:none;\">\n",
              "        \n",
              "  <svg xmlns=\"http://www.w3.org/2000/svg\" height=\"24px\"viewBox=\"0 0 24 24\"\n",
              "       width=\"24px\">\n",
              "    <path d=\"M0 0h24v24H0V0z\" fill=\"none\"/>\n",
              "    <path d=\"M18.56 5.44l.94 2.06.94-2.06 2.06-.94-2.06-.94-.94-2.06-.94 2.06-2.06.94zm-11 1L8.5 8.5l.94-2.06 2.06-.94-2.06-.94L8.5 2.5l-.94 2.06-2.06.94zm10 10l.94 2.06.94-2.06 2.06-.94-2.06-.94-.94-2.06-.94 2.06-2.06.94z\"/><path d=\"M17.41 7.96l-1.37-1.37c-.4-.4-.92-.59-1.43-.59-.52 0-1.04.2-1.43.59L10.3 9.45l-7.72 7.72c-.78.78-.78 2.05 0 2.83L4 21.41c.39.39.9.59 1.41.59.51 0 1.02-.2 1.41-.59l7.78-7.78 2.81-2.81c.8-.78.8-2.07 0-2.86zM5.41 20L4 18.59l7.72-7.72 1.47 1.35L5.41 20z\"/>\n",
              "  </svg>\n",
              "      </button>\n",
              "      \n",
              "  <style>\n",
              "    .colab-df-container {\n",
              "      display:flex;\n",
              "      flex-wrap:wrap;\n",
              "      gap: 12px;\n",
              "    }\n",
              "\n",
              "    .colab-df-convert {\n",
              "      background-color: #E8F0FE;\n",
              "      border: none;\n",
              "      border-radius: 50%;\n",
              "      cursor: pointer;\n",
              "      display: none;\n",
              "      fill: #1967D2;\n",
              "      height: 32px;\n",
              "      padding: 0 0 0 0;\n",
              "      width: 32px;\n",
              "    }\n",
              "\n",
              "    .colab-df-convert:hover {\n",
              "      background-color: #E2EBFA;\n",
              "      box-shadow: 0px 1px 2px rgba(60, 64, 67, 0.3), 0px 1px 3px 1px rgba(60, 64, 67, 0.15);\n",
              "      fill: #174EA6;\n",
              "    }\n",
              "\n",
              "    [theme=dark] .colab-df-convert {\n",
              "      background-color: #3B4455;\n",
              "      fill: #D2E3FC;\n",
              "    }\n",
              "\n",
              "    [theme=dark] .colab-df-convert:hover {\n",
              "      background-color: #434B5C;\n",
              "      box-shadow: 0px 1px 3px 1px rgba(0, 0, 0, 0.15);\n",
              "      filter: drop-shadow(0px 1px 2px rgba(0, 0, 0, 0.3));\n",
              "      fill: #FFFFFF;\n",
              "    }\n",
              "  </style>\n",
              "\n",
              "      <script>\n",
              "        const buttonEl =\n",
              "          document.querySelector('#df-288d6722-9782-4715-b8cd-2c2823a20ed6 button.colab-df-convert');\n",
              "        buttonEl.style.display =\n",
              "          google.colab.kernel.accessAllowed ? 'block' : 'none';\n",
              "\n",
              "        async function convertToInteractive(key) {\n",
              "          const element = document.querySelector('#df-288d6722-9782-4715-b8cd-2c2823a20ed6');\n",
              "          const dataTable =\n",
              "            await google.colab.kernel.invokeFunction('convertToInteractive',\n",
              "                                                     [key], {});\n",
              "          if (!dataTable) return;\n",
              "\n",
              "          const docLinkHtml = 'Like what you see? Visit the ' +\n",
              "            '<a target=\"_blank\" href=https://colab.research.google.com/notebooks/data_table.ipynb>data table notebook</a>'\n",
              "            + ' to learn more about interactive tables.';\n",
              "          element.innerHTML = '';\n",
              "          dataTable['output_type'] = 'display_data';\n",
              "          await google.colab.output.renderOutput(dataTable, element);\n",
              "          const docLink = document.createElement('div');\n",
              "          docLink.innerHTML = docLinkHtml;\n",
              "          element.appendChild(docLink);\n",
              "        }\n",
              "      </script>\n",
              "    </div>\n",
              "  </div>\n",
              "  "
            ]
          },
          "metadata": {},
          "execution_count": 20
        }
      ]
    },
    {
      "cell_type": "markdown",
      "source": [
        "# Analysis"
      ],
      "metadata": {
        "id": "cUEx8vh4jyZn"
      }
    },
    {
      "cell_type": "code",
      "source": [
        "#Distibution of score\n",
        "print(df['Score'].value_counts())\n",
        "print((df['Score'].value_counts()/df['Score'].count())*100)\n",
        "df['Score'].value_counts().plot(kind='bar')"
      ],
      "metadata": {
        "colab": {
          "base_uri": "https://localhost:8080/",
          "height": 418
        },
        "id": "ACdQXDRAjKwW",
        "outputId": "53bf8f75-d8ab-469f-8c9b-778305ed03a0"
      },
      "execution_count": null,
      "outputs": [
        {
          "output_type": "stream",
          "name": "stdout",
          "text": [
            "0    355\n",
            "1    335\n",
            "2    165\n",
            "Name: Score, dtype: int64\n",
            "0    41.520468\n",
            "1    39.181287\n",
            "2    19.298246\n",
            "Name: Score, dtype: float64\n"
          ]
        },
        {
          "output_type": "execute_result",
          "data": {
            "text/plain": [
              "<matplotlib.axes._subplots.AxesSubplot at 0x7f5dc1a5aad0>"
            ]
          },
          "metadata": {},
          "execution_count": 21
        },
        {
          "output_type": "display_data",
          "data": {
            "text/plain": [
              "<Figure size 432x288 with 1 Axes>"
            ],
            "image/png": "[encoded data removed]"
          },
          "metadata": {
            "needs_background": "light"
          }
        }
      ]
    },
    {
      "cell_type": "code",
      "source": [
        "import matplotlib.pyplot as plt\n",
        "plt.pie(df['Score'].value_counts(), labels=['medium','good','bad'],colors=['yellow','green','red'],autopct='%0.2f')\n",
        "plt.show()"
      ],
      "metadata": {
        "colab": {
          "base_uri": "https://localhost:8080/",
          "height": 248
        },
        "id": "24CNTrOXjKzV",
        "outputId": "cb954a69-17b2-4b71-e0a1-1d4805c3f3d0"
      },
      "execution_count": null,
      "outputs": [
        {
          "output_type": "display_data",
          "data": {
            "text/plain": [
              "<Figure size 432x288 with 1 Axes>"
            ],
            "image/png": "[encoded data removed]"
          },
          "metadata": {}
        }
      ]
    },
    {
      "cell_type": "markdown",
      "source": [
        "# Data Preprocessing"
      ],
      "metadata": {
        "id": "vz-voT0YsZyr"
      }
    },
    {
      "cell_type": "markdown",
      "source": [
        "## Lowercasing"
      ],
      "metadata": {
        "id": "1gRyKMSKseEz"
      }
    },
    {
      "cell_type": "code",
      "source": [
        "df['Pre_Process_Terms'] = df['Original Terms'].apply(lambda x:x.lower())"
      ],
      "metadata": {
        "id": "Y63Q544SsbKa"
      },
      "execution_count": null,
      "outputs": []
    },
    {
      "cell_type": "code",
      "source": [
        "df.head()"
      ],
      "metadata": {
        "colab": {
          "base_uri": "https://localhost:8080/",
          "height": 206
        },
        "id": "9TQ7BVefskK1",
        "outputId": "fd3e47bb-4c5c-407f-dbd4-861eb398dc63"
      },
      "execution_count": null,
      "outputs": [
        {
          "output_type": "execute_result",
          "data": {
            "text/plain": [
              "                                      Original Terms  Score  \\\n",
              "0  Facebook uses cookies and receives information...      2   \n",
              "1  You give us permission to use your name and pr...      2   \n",
              "2  Our systems automatically process content and ...      2   \n",
              "3  You can review your Off-Facebook activity, whi...      2   \n",
              "4  The terms state: \"In addition, content you del...      2   \n",
              "\n",
              "                                   Pre_Process_Terms  \n",
              "0  facebook uses cookies and receives information...  \n",
              "1  you give us permission to use your name and pr...  \n",
              "2  our systems automatically process content and ...  \n",
              "3  you can review your off-facebook activity, whi...  \n",
              "4  the terms state: \"in addition, content you del...  "
            ],
            "text/html": [
              "\n",
              "  <div id=\"df-b8217d28-7334-44cb-a2a8-6959e21d8572\">\n",
              "    <div class=\"colab-df-container\">\n",
              "      <div>\n",
              "<style scoped>\n",
              "    .dataframe tbody tr th:only-of-type {\n",
              "        vertical-align: middle;\n",
              "    }\n",
              "\n",
              "    .dataframe tbody tr th {\n",
              "        vertical-align: top;\n",
              "    }\n",
              "\n",
              "    .dataframe thead th {\n",
              "        text-align: right;\n",
              "    }\n",
              "</style>\n",
              "<table border=\"1\" class=\"dataframe\">\n",
              "  <thead>\n",
              "    <tr style=\"text-align: right;\">\n",
              "      <th></th>\n",
              "      <th>Original Terms</th>\n",
              "      <th>Score</th>\n",
              "      <th>Pre_Process_Terms</th>\n",
              "    </tr>\n",
              "  </thead>\n",
              "  <tbody>\n",
              "    <tr>\n",
              "      <th>0</th>\n",
              "      <td>Facebook uses cookies and receives information...</td>\n",
              "      <td>2</td>\n",
              "      <td>facebook uses cookies and receives information...</td>\n",
              "    </tr>\n",
              "    <tr>\n",
              "      <th>1</th>\n",
              "      <td>You give us permission to use your name and pr...</td>\n",
              "      <td>2</td>\n",
              "      <td>you give us permission to use your name and pr...</td>\n",
              "    </tr>\n",
              "    <tr>\n",
              "      <th>2</th>\n",
              "      <td>Our systems automatically process content and ...</td>\n",
              "      <td>2</td>\n",
              "      <td>our systems automatically process content and ...</td>\n",
              "    </tr>\n",
              "    <tr>\n",
              "      <th>3</th>\n",
              "      <td>You can review your Off-Facebook activity, whi...</td>\n",
              "      <td>2</td>\n",
              "      <td>you can review your off-facebook activity, whi...</td>\n",
              "    </tr>\n",
              "    <tr>\n",
              "      <th>4</th>\n",
              "      <td>The terms state: \"In addition, content you del...</td>\n",
              "      <td>2</td>\n",
              "      <td>the terms state: \"in addition, content you del...</td>\n",
              "    </tr>\n",
              "  </tbody>\n",
              "</table>\n",
              "</div>\n",
              "      <button class=\"colab-df-convert\" onclick=\"convertToInteractive('df-b8217d28-7334-44cb-a2a8-6959e21d8572')\"\n",
              "              title=\"Convert this dataframe to an interactive table.\"\n",
              "              style=\"display:none;\">\n",
              "        \n",
              "  <svg xmlns=\"http://www.w3.org/2000/svg\" height=\"24px\"viewBox=\"0 0 24 24\"\n",
              "       width=\"24px\">\n",
              "    <path d=\"M0 0h24v24H0V0z\" fill=\"none\"/>\n",
              "    <path d=\"M18.56 5.44l.94 2.06.94-2.06 2.06-.94-2.06-.94-.94-2.06-.94 2.06-2.06.94zm-11 1L8.5 8.5l.94-2.06 2.06-.94-2.06-.94L8.5 2.5l-.94 2.06-2.06.94zm10 10l.94 2.06.94-2.06 2.06-.94-2.06-.94-.94-2.06-.94 2.06-2.06.94z\"/><path d=\"M17.41 7.96l-1.37-1.37c-.4-.4-.92-.59-1.43-.59-.52 0-1.04.2-1.43.59L10.3 9.45l-7.72 7.72c-.78.78-.78 2.05 0 2.83L4 21.41c.39.39.9.59 1.41.59.51 0 1.02-.2 1.41-.59l7.78-7.78 2.81-2.81c.8-.78.8-2.07 0-2.86zM5.41 20L4 18.59l7.72-7.72 1.47 1.35L5.41 20z\"/>\n",
              "  </svg>\n",
              "      </button>\n",
              "      \n",
              "  <style>\n",
              "    .colab-df-container {\n",
              "      display:flex;\n",
              "      flex-wrap:wrap;\n",
              "      gap: 12px;\n",
              "    }\n",
              "\n",
              "    .colab-df-convert {\n",
              "      background-color: #E8F0FE;\n",
              "      border: none;\n",
              "      border-radius: 50%;\n",
              "      cursor: pointer;\n",
              "      display: none;\n",
              "      fill: #1967D2;\n",
              "      height: 32px;\n",
              "      padding: 0 0 0 0;\n",
              "      width: 32px;\n",
              "    }\n",
              "\n",
              "    .colab-df-convert:hover {\n",
              "      background-color: #E2EBFA;\n",
              "      box-shadow: 0px 1px 2px rgba(60, 64, 67, 0.3), 0px 1px 3px 1px rgba(60, 64, 67, 0.15);\n",
              "      fill: #174EA6;\n",
              "    }\n",
              "\n",
              "    [theme=dark] .colab-df-convert {\n",
              "      background-color: #3B4455;\n",
              "      fill: #D2E3FC;\n",
              "    }\n",
              "\n",
              "    [theme=dark] .colab-df-convert:hover {\n",
              "      background-color: #434B5C;\n",
              "      box-shadow: 0px 1px 3px 1px rgba(0, 0, 0, 0.15);\n",
              "      filter: drop-shadow(0px 1px 2px rgba(0, 0, 0, 0.3));\n",
              "      fill: #FFFFFF;\n",
              "    }\n",
              "  </style>\n",
              "\n",
              "      <script>\n",
              "        const buttonEl =\n",
              "          document.querySelector('#df-b8217d28-7334-44cb-a2a8-6959e21d8572 button.colab-df-convert');\n",
              "        buttonEl.style.display =\n",
              "          google.colab.kernel.accessAllowed ? 'block' : 'none';\n",
              "\n",
              "        async function convertToInteractive(key) {\n",
              "          const element = document.querySelector('#df-b8217d28-7334-44cb-a2a8-6959e21d8572');\n",
              "          const dataTable =\n",
              "            await google.colab.kernel.invokeFunction('convertToInteractive',\n",
              "                                                     [key], {});\n",
              "          if (!dataTable) return;\n",
              "\n",
              "          const docLinkHtml = 'Like what you see? Visit the ' +\n",
              "            '<a target=\"_blank\" href=https://colab.research.google.com/notebooks/data_table.ipynb>data table notebook</a>'\n",
              "            + ' to learn more about interactive tables.';\n",
              "          element.innerHTML = '';\n",
              "          dataTable['output_type'] = 'display_data';\n",
              "          await google.colab.output.renderOutput(dataTable, element);\n",
              "          const docLink = document.createElement('div');\n",
              "          docLink.innerHTML = docLinkHtml;\n",
              "          element.appendChild(docLink);\n",
              "        }\n",
              "      </script>\n",
              "    </div>\n",
              "  </div>\n",
              "  "
            ]
          },
          "metadata": {},
          "execution_count": 24
        }
      ]
    },
    {
      "cell_type": "code",
      "source": [
        "df['Pre_Process_Terms'][1]"
      ],
      "metadata": {
        "colab": {
          "base_uri": "https://localhost:8080/",
          "height": 70
        },
        "id": "KPj4PTixskNt",
        "outputId": "091123fb-d9e5-4fbb-cd42-153ac0167aa2"
      },
      "execution_count": null,
      "outputs": [
        {
          "output_type": "execute_result",
          "data": {
            "text/plain": [
              "'you give us permission to use your name and profile picture and information about actions you have taken on facebook next to or in connection with ads, offers, and other sponsored content that we display across our products, without any compensation to you.'"
            ],
            "application/vnd.google.colaboratory.intrinsic+json": {
              "type": "string"
            }
          },
          "metadata": {},
          "execution_count": 25
        }
      ]
    },
    {
      "cell_type": "markdown",
      "source": [
        "## Removing HTML Tags\n"
      ],
      "metadata": {
        "id": "J2lwDqNctI__"
      }
    },
    {
      "cell_type": "code",
      "source": [
        "df['Pre_Process_Terms'][181]"
      ],
      "metadata": {
        "colab": {
          "base_uri": "https://localhost:8080/",
          "height": 87
        },
        "id": "g3FJFYmKskQr",
        "outputId": "2da34cea-7819-4331-afcf-8f73b02c2300"
      },
      "execution_count": null,
      "outputs": [
        {
          "output_type": "execute_result",
          "data": {
            "text/plain": [
              "'removed \", which gets sent to my personal email.\" in last paragraph as our feedback is now handled by multiple team members via desk.com.</li> <li>before that, on 03/11/12. removed dead link (scroogle) and added a missing \\'to\\'.</li> <li>before that, on 11/16/10. this paragraph was added.</li> <li>before that, on 9/25/10. this paragraph was added.</li> <li>before that, on 9/16/10. this paragraph was added.'"
            ],
            "application/vnd.google.colaboratory.intrinsic+json": {
              "type": "string"
            }
          },
          "metadata": {},
          "execution_count": 26
        }
      ]
    },
    {
      "cell_type": "code",
      "source": [
        "#Removing HTML tags function\n",
        "import re\n",
        "def remove_html_tags(text):\n",
        "    pattern = re.compile(\"<.*?>|[0-9]+|[0-9]{,2}\\/[0-9]{,2}\\/[0-9]{2}\")\n",
        "    return pattern.sub(r'',text)"
      ],
      "metadata": {
        "id": "0bgMDCx1skTi"
      },
      "execution_count": null,
      "outputs": []
    },
    {
      "cell_type": "code",
      "source": [
        "remove_html_tags(df['Pre_Process_Terms'][181])"
      ],
      "metadata": {
        "colab": {
          "base_uri": "https://localhost:8080/",
          "height": 87
        },
        "id": "aDSuaN58tMyr",
        "outputId": "276ad80e-c2e1-47bb-dd62-85542a85a1f4"
      },
      "execution_count": null,
      "outputs": [
        {
          "output_type": "execute_result",
          "data": {
            "text/plain": [
              "'removed \", which gets sent to my personal email.\" in last paragraph as our feedback is now handled by multiple team members via desk.com. before that, on . removed dead link (scroogle) and added a missing \\'to\\'. before that, on . this paragraph was added. before that, on . this paragraph was added. before that, on . this paragraph was added.'"
            ],
            "application/vnd.google.colaboratory.intrinsic+json": {
              "type": "string"
            }
          },
          "metadata": {},
          "execution_count": 28
        }
      ]
    },
    {
      "cell_type": "code",
      "source": [
        "df['Pre_Process_Terms'] = df['Pre_Process_Terms'].apply(remove_html_tags)"
      ],
      "metadata": {
        "id": "7dco6_V8tM1j"
      },
      "execution_count": null,
      "outputs": []
    },
    {
      "cell_type": "code",
      "source": [
        "df"
      ],
      "metadata": {
        "colab": {
          "base_uri": "https://localhost:8080/",
          "height": 468
        },
        "id": "3_4hGSNQtM4q",
        "outputId": "951fcd1f-31a7-4f9f-efdd-ed325ae8dd75"
      },
      "execution_count": null,
      "outputs": [
        {
          "output_type": "execute_result",
          "data": {
            "text/plain": [
              "                                         Original Terms  Score  \\\n",
              "0     Facebook uses cookies and receives information...      2   \n",
              "1     You give us permission to use your name and pr...      2   \n",
              "2     Our systems automatically process content and ...      2   \n",
              "3     You can review your Off-Facebook activity, whi...      2   \n",
              "4     The terms state: \"In addition, content you del...      2   \n",
              "...                                                 ...    ...   \n",
              "1064  We may associate activity and accounts under a...      1   \n",
              "1065  WE DO NOT REPRESENT, PROMISE, OR WARRANT THAT ...      1   \n",
              "1066  THE UNAUTHORIZED ACCESS TO YOUR ACCOUNT OR ANY...      1   \n",
              "1067  Provide location-based Services, advertising, ...      1   \n",
              "1069  TO THE FULLEST EXTENT PERMITTED BY LAW AND EXC...      1   \n",
              "\n",
              "                                      Pre_Process_Terms  \n",
              "0     facebook uses cookies and receives information...  \n",
              "1     you give us permission to use your name and pr...  \n",
              "2     our systems automatically process content and ...  \n",
              "3     you can review your off-facebook activity, whi...  \n",
              "4     the terms state: \"in addition, content you del...  \n",
              "...                                                 ...  \n",
              "1064  we may associate activity and accounts under a...  \n",
              "1065  we do not represent, promise, or warrant that ...  \n",
              "1066  the unauthorized access to your account or any...  \n",
              "1067  provide location-based services, advertising, ...  \n",
              "1069  to the fullest extent permitted by law and exc...  \n",
              "\n",
              "[855 rows x 3 columns]"
            ],
            "text/html": [
              "\n",
              "  <div id=\"df-b708d4a4-d4b8-4279-9d6a-58fb051ff961\">\n",
              "    <div class=\"colab-df-container\">\n",
              "      <div>\n",
              "<style scoped>\n",
              "    .dataframe tbody tr th:only-of-type {\n",
              "        vertical-align: middle;\n",
              "    }\n",
              "\n",
              "    .dataframe tbody tr th {\n",
              "        vertical-align: top;\n",
              "    }\n",
              "\n",
              "    .dataframe thead th {\n",
              "        text-align: right;\n",
              "    }\n",
              "</style>\n",
              "<table border=\"1\" class=\"dataframe\">\n",
              "  <thead>\n",
              "    <tr style=\"text-align: right;\">\n",
              "      <th></th>\n",
              "      <th>Original Terms</th>\n",
              "      <th>Score</th>\n",
              "      <th>Pre_Process_Terms</th>\n",
              "    </tr>\n",
              "  </thead>\n",
              "  <tbody>\n",
              "    <tr>\n",
              "      <th>0</th>\n",
              "      <td>Facebook uses cookies and receives information...</td>\n",
              "      <td>2</td>\n",
              "      <td>facebook uses cookies and receives information...</td>\n",
              "    </tr>\n",
              "    <tr>\n",
              "      <th>1</th>\n",
              "      <td>You give us permission to use your name and pr...</td>\n",
              "      <td>2</td>\n",
              "      <td>you give us permission to use your name and pr...</td>\n",
              "    </tr>\n",
              "    <tr>\n",
              "      <th>2</th>\n",
              "      <td>Our systems automatically process content and ...</td>\n",
              "      <td>2</td>\n",
              "      <td>our systems automatically process content and ...</td>\n",
              "    </tr>\n",
              "    <tr>\n",
              "      <th>3</th>\n",
              "      <td>You can review your Off-Facebook activity, whi...</td>\n",
              "      <td>2</td>\n",
              "      <td>you can review your off-facebook activity, whi...</td>\n",
              "    </tr>\n",
              "    <tr>\n",
              "      <th>4</th>\n",
              "      <td>The terms state: \"In addition, content you del...</td>\n",
              "      <td>2</td>\n",
              "      <td>the terms state: \"in addition, content you del...</td>\n",
              "    </tr>\n",
              "    <tr>\n",
              "      <th>...</th>\n",
              "      <td>...</td>\n",
              "      <td>...</td>\n",
              "      <td>...</td>\n",
              "    </tr>\n",
              "    <tr>\n",
              "      <th>1064</th>\n",
              "      <td>We may associate activity and accounts under a...</td>\n",
              "      <td>1</td>\n",
              "      <td>we may associate activity and accounts under a...</td>\n",
              "    </tr>\n",
              "    <tr>\n",
              "      <th>1065</th>\n",
              "      <td>WE DO NOT REPRESENT, PROMISE, OR WARRANT THAT ...</td>\n",
              "      <td>1</td>\n",
              "      <td>we do not represent, promise, or warrant that ...</td>\n",
              "    </tr>\n",
              "    <tr>\n",
              "      <th>1066</th>\n",
              "      <td>THE UNAUTHORIZED ACCESS TO YOUR ACCOUNT OR ANY...</td>\n",
              "      <td>1</td>\n",
              "      <td>the unauthorized access to your account or any...</td>\n",
              "    </tr>\n",
              "    <tr>\n",
              "      <th>1067</th>\n",
              "      <td>Provide location-based Services, advertising, ...</td>\n",
              "      <td>1</td>\n",
              "      <td>provide location-based services, advertising, ...</td>\n",
              "    </tr>\n",
              "    <tr>\n",
              "      <th>1069</th>\n",
              "      <td>TO THE FULLEST EXTENT PERMITTED BY LAW AND EXC...</td>\n",
              "      <td>1</td>\n",
              "      <td>to the fullest extent permitted by law and exc...</td>\n",
              "    </tr>\n",
              "  </tbody>\n",
              "</table>\n",
              "<p>855 rows × 3 columns</p>\n",
              "</div>\n",
              "      <button class=\"colab-df-convert\" onclick=\"convertToInteractive('df-b708d4a4-d4b8-4279-9d6a-58fb051ff961')\"\n",
              "              title=\"Convert this dataframe to an interactive table.\"\n",
              "              style=\"display:none;\">\n",
              "        \n",
              "  <svg xmlns=\"http://www.w3.org/2000/svg\" height=\"24px\"viewBox=\"0 0 24 24\"\n",
              "       width=\"24px\">\n",
              "    <path d=\"M0 0h24v24H0V0z\" fill=\"none\"/>\n",
              "    <path d=\"M18.56 5.44l.94 2.06.94-2.06 2.06-.94-2.06-.94-.94-2.06-.94 2.06-2.06.94zm-11 1L8.5 8.5l.94-2.06 2.06-.94-2.06-.94L8.5 2.5l-.94 2.06-2.06.94zm10 10l.94 2.06.94-2.06 2.06-.94-2.06-.94-.94-2.06-.94 2.06-2.06.94z\"/><path d=\"M17.41 7.96l-1.37-1.37c-.4-.4-.92-.59-1.43-.59-.52 0-1.04.2-1.43.59L10.3 9.45l-7.72 7.72c-.78.78-.78 2.05 0 2.83L4 21.41c.39.39.9.59 1.41.59.51 0 1.02-.2 1.41-.59l7.78-7.78 2.81-2.81c.8-.78.8-2.07 0-2.86zM5.41 20L4 18.59l7.72-7.72 1.47 1.35L5.41 20z\"/>\n",
              "  </svg>\n",
              "      </button>\n",
              "      \n",
              "  <style>\n",
              "    .colab-df-container {\n",
              "      display:flex;\n",
              "      flex-wrap:wrap;\n",
              "      gap: 12px;\n",
              "    }\n",
              "\n",
              "    .colab-df-convert {\n",
              "      background-color: #E8F0FE;\n",
              "      border: none;\n",
              "      border-radius: 50%;\n",
              "      cursor: pointer;\n",
              "      display: none;\n",
              "      fill: #1967D2;\n",
              "      height: 32px;\n",
              "      padding: 0 0 0 0;\n",
              "      width: 32px;\n",
              "    }\n",
              "\n",
              "    .colab-df-convert:hover {\n",
              "      background-color: #E2EBFA;\n",
              "      box-shadow: 0px 1px 2px rgba(60, 64, 67, 0.3), 0px 1px 3px 1px rgba(60, 64, 67, 0.15);\n",
              "      fill: #174EA6;\n",
              "    }\n",
              "\n",
              "    [theme=dark] .colab-df-convert {\n",
              "      background-color: #3B4455;\n",
              "      fill: #D2E3FC;\n",
              "    }\n",
              "\n",
              "    [theme=dark] .colab-df-convert:hover {\n",
              "      background-color: #434B5C;\n",
              "      box-shadow: 0px 1px 3px 1px rgba(0, 0, 0, 0.15);\n",
              "      filter: drop-shadow(0px 1px 2px rgba(0, 0, 0, 0.3));\n",
              "      fill: #FFFFFF;\n",
              "    }\n",
              "  </style>\n",
              "\n",
              "      <script>\n",
              "        const buttonEl =\n",
              "          document.querySelector('#df-b708d4a4-d4b8-4279-9d6a-58fb051ff961 button.colab-df-convert');\n",
              "        buttonEl.style.display =\n",
              "          google.colab.kernel.accessAllowed ? 'block' : 'none';\n",
              "\n",
              "        async function convertToInteractive(key) {\n",
              "          const element = document.querySelector('#df-b708d4a4-d4b8-4279-9d6a-58fb051ff961');\n",
              "          const dataTable =\n",
              "            await google.colab.kernel.invokeFunction('convertToInteractive',\n",
              "                                                     [key], {});\n",
              "          if (!dataTable) return;\n",
              "\n",
              "          const docLinkHtml = 'Like what you see? Visit the ' +\n",
              "            '<a target=\"_blank\" href=https://colab.research.google.com/notebooks/data_table.ipynb>data table notebook</a>'\n",
              "            + ' to learn more about interactive tables.';\n",
              "          element.innerHTML = '';\n",
              "          dataTable['output_type'] = 'display_data';\n",
              "          await google.colab.output.renderOutput(dataTable, element);\n",
              "          const docLink = document.createElement('div');\n",
              "          docLink.innerHTML = docLinkHtml;\n",
              "          element.appendChild(docLink);\n",
              "        }\n",
              "      </script>\n",
              "    </div>\n",
              "  </div>\n",
              "  "
            ]
          },
          "metadata": {},
          "execution_count": 30
        }
      ]
    },
    {
      "cell_type": "markdown",
      "source": [
        "## Removing Contents of brackets"
      ],
      "metadata": {
        "id": "VzaOy66quGhQ"
      }
    },
    {
      "cell_type": "code",
      "source": [
        "df['Pre_Process_Terms'][21]"
      ],
      "metadata": {
        "colab": {
          "base_uri": "https://localhost:8080/",
          "height": 174
        },
        "id": "4K4L1yLDtM8T",
        "outputId": "5f979329-af65-405e-eacd-a81359833cc8"
      },
      "execution_count": null,
      "outputs": [
        {
          "output_type": "execute_result",
          "data": {
            "text/plain": [
              "\"sharing with third-party partners we work with third-party partners who help us provide and improve our products or who use facebook business tools to grow their businesses, which makes it possible to operate our companies and provide free services to people around the world. we don't sell any of your information to anyone, and we never will. we also impose strict restrictions on how our partners can use and disclose the data we provide. here are the types of third parties we share information with: partners who use our analytics services. we provide aggregated statistics and insights that help people and businesses understand how people are engaging with their posts, listings, pages, videos and other content on and off the facebook products. for example, page admins and instagram business profiles receive information about the number of people or accounts who viewed, reacted to, or commented on their posts, as well as aggregate demographic and other information that helps them understand interactions with their page or account. advertisers. we provide advertisers with reports about the kinds of people seeing their ads and how their ads are performing, but we don't share information that personally identifies you (information such as your name or email address that by itself can be used to contact you or identifies who you are) unless you give us permission. for example, we provide general demographic and interest information to advertisers (for example, that an ad was seen by a woman between the ages of  and  who lives in madrid and likes software engineering) to help them better understand their audience. we also confirm which facebook ads led you to make a purchase or take an action with an advertiser. measurement partners. we share information about you with companies that aggregate it to provide analytics and measurement reports to our partners. partners offering goods and services in our products. when you subscribe to receive premium content, or buy something from a seller in our products, the content creator or seller can receive your public information and other information you share with them, as well as the information needed to complete the transaction, including shipping and contact details. vendors and service providers. we provide information and content to vendors and service providers who support our business, such as by providing technical infrastructure services, analyzing how our products are used, providing customer service, facilitating payments or conducting surveys. researchers and academics. we also provide information and content to research partners and academics to conduct research that advances scholarship and innovation that support our business or mission, and enhances discovery and innovation on topics of general social welfare, technological advancement, public interest, health and well-being. law enforcement or legal requests. we share information with law enforcement or in response to legal requests in the circumstances outlined below. learn more about how you can control the information about you that you or others share with third-party partners in the facebook settings and instagram settings.\""
            ],
            "application/vnd.google.colaboratory.intrinsic+json": {
              "type": "string"
            }
          },
          "metadata": {},
          "execution_count": 31
        }
      ]
    },
    {
      "cell_type": "code",
      "source": [
        "import re\n",
        "def remove_bracket_content(text):\n",
        "  pattern = re.compile('\\(.*?\\)')\n",
        "  return pattern.sub(r'',text)"
      ],
      "metadata": {
        "id": "YqON63HKuDA0"
      },
      "execution_count": null,
      "outputs": []
    },
    {
      "cell_type": "code",
      "source": [
        "remove_bracket_content(df['Pre_Process_Terms'][21])"
      ],
      "metadata": {
        "colab": {
          "base_uri": "https://localhost:8080/",
          "height": 174
        },
        "id": "7n7KW6mbuDEK",
        "outputId": "bf3193a6-52e2-49b6-ee8a-54cf0f5db77c"
      },
      "execution_count": null,
      "outputs": [
        {
          "output_type": "execute_result",
          "data": {
            "text/plain": [
              "\"sharing with third-party partners we work with third-party partners who help us provide and improve our products or who use facebook business tools to grow their businesses, which makes it possible to operate our companies and provide free services to people around the world. we don't sell any of your information to anyone, and we never will. we also impose strict restrictions on how our partners can use and disclose the data we provide. here are the types of third parties we share information with: partners who use our analytics services. we provide aggregated statistics and insights that help people and businesses understand how people are engaging with their posts, listings, pages, videos and other content on and off the facebook products. for example, page admins and instagram business profiles receive information about the number of people or accounts who viewed, reacted to, or commented on their posts, as well as aggregate demographic and other information that helps them understand interactions with their page or account. advertisers. we provide advertisers with reports about the kinds of people seeing their ads and how their ads are performing, but we don't share information that personally identifies you  unless you give us permission. for example, we provide general demographic and interest information to advertisers  to help them better understand their audience. we also confirm which facebook ads led you to make a purchase or take an action with an advertiser. measurement partners. we share information about you with companies that aggregate it to provide analytics and measurement reports to our partners. partners offering goods and services in our products. when you subscribe to receive premium content, or buy something from a seller in our products, the content creator or seller can receive your public information and other information you share with them, as well as the information needed to complete the transaction, including shipping and contact details. vendors and service providers. we provide information and content to vendors and service providers who support our business, such as by providing technical infrastructure services, analyzing how our products are used, providing customer service, facilitating payments or conducting surveys. researchers and academics. we also provide information and content to research partners and academics to conduct research that advances scholarship and innovation that support our business or mission, and enhances discovery and innovation on topics of general social welfare, technological advancement, public interest, health and well-being. law enforcement or legal requests. we share information with law enforcement or in response to legal requests in the circumstances outlined below. learn more about how you can control the information about you that you or others share with third-party partners in the facebook settings and instagram settings.\""
            ],
            "application/vnd.google.colaboratory.intrinsic+json": {
              "type": "string"
            }
          },
          "metadata": {},
          "execution_count": 33
        }
      ]
    },
    {
      "cell_type": "code",
      "source": [
        "df['Pre_Process_Terms'] = df['Pre_Process_Terms'].apply(remove_bracket_content)"
      ],
      "metadata": {
        "id": "WPbk7_hKuDYt"
      },
      "execution_count": null,
      "outputs": []
    },
    {
      "cell_type": "code",
      "source": [
        "df"
      ],
      "metadata": {
        "colab": {
          "base_uri": "https://localhost:8080/",
          "height": 468
        },
        "id": "m-o2ZodnuDbr",
        "outputId": "e5c97b9a-5f3b-4521-ca3f-f092e65cec33"
      },
      "execution_count": null,
      "outputs": [
        {
          "output_type": "execute_result",
          "data": {
            "text/plain": [
              "                                         Original Terms  Score  \\\n",
              "0     Facebook uses cookies and receives information...      2   \n",
              "1     You give us permission to use your name and pr...      2   \n",
              "2     Our systems automatically process content and ...      2   \n",
              "3     You can review your Off-Facebook activity, whi...      2   \n",
              "4     The terms state: \"In addition, content you del...      2   \n",
              "...                                                 ...    ...   \n",
              "1064  We may associate activity and accounts under a...      1   \n",
              "1065  WE DO NOT REPRESENT, PROMISE, OR WARRANT THAT ...      1   \n",
              "1066  THE UNAUTHORIZED ACCESS TO YOUR ACCOUNT OR ANY...      1   \n",
              "1067  Provide location-based Services, advertising, ...      1   \n",
              "1069  TO THE FULLEST EXTENT PERMITTED BY LAW AND EXC...      1   \n",
              "\n",
              "                                      Pre_Process_Terms  \n",
              "0     facebook uses cookies and receives information...  \n",
              "1     you give us permission to use your name and pr...  \n",
              "2     our systems automatically process content and ...  \n",
              "3     you can review your off-facebook activity, whi...  \n",
              "4     the terms state: \"in addition, content you del...  \n",
              "...                                                 ...  \n",
              "1064  we may associate activity and accounts under a...  \n",
              "1065  we do not represent, promise, or warrant that ...  \n",
              "1066  the unauthorized access to your account or any...  \n",
              "1067  provide location-based services, advertising, ...  \n",
              "1069  to the fullest extent permitted by law and exc...  \n",
              "\n",
              "[855 rows x 3 columns]"
            ],
            "text/html": [
              "\n",
              "  <div id=\"df-3d197cb5-f3ab-4d3b-a052-32288aa228ea\">\n",
              "    <div class=\"colab-df-container\">\n",
              "      <div>\n",
              "<style scoped>\n",
              "    .dataframe tbody tr th:only-of-type {\n",
              "        vertical-align: middle;\n",
              "    }\n",
              "\n",
              "    .dataframe tbody tr th {\n",
              "        vertical-align: top;\n",
              "    }\n",
              "\n",
              "    .dataframe thead th {\n",
              "        text-align: right;\n",
              "    }\n",
              "</style>\n",
              "<table border=\"1\" class=\"dataframe\">\n",
              "  <thead>\n",
              "    <tr style=\"text-align: right;\">\n",
              "      <th></th>\n",
              "      <th>Original Terms</th>\n",
              "      <th>Score</th>\n",
              "      <th>Pre_Process_Terms</th>\n",
              "    </tr>\n",
              "  </thead>\n",
              "  <tbody>\n",
              "    <tr>\n",
              "      <th>0</th>\n",
              "      <td>Facebook uses cookies and receives information...</td>\n",
              "      <td>2</td>\n",
              "      <td>facebook uses cookies and receives information...</td>\n",
              "    </tr>\n",
              "    <tr>\n",
              "      <th>1</th>\n",
              "      <td>You give us permission to use your name and pr...</td>\n",
              "      <td>2</td>\n",
              "      <td>you give us permission to use your name and pr...</td>\n",
              "    </tr>\n",
              "    <tr>\n",
              "      <th>2</th>\n",
              "      <td>Our systems automatically process content and ...</td>\n",
              "      <td>2</td>\n",
              "      <td>our systems automatically process content and ...</td>\n",
              "    </tr>\n",
              "    <tr>\n",
              "      <th>3</th>\n",
              "      <td>You can review your Off-Facebook activity, whi...</td>\n",
              "      <td>2</td>\n",
              "      <td>you can review your off-facebook activity, whi...</td>\n",
              "    </tr>\n",
              "    <tr>\n",
              "      <th>4</th>\n",
              "      <td>The terms state: \"In addition, content you del...</td>\n",
              "      <td>2</td>\n",
              "      <td>the terms state: \"in addition, content you del...</td>\n",
              "    </tr>\n",
              "    <tr>\n",
              "      <th>...</th>\n",
              "      <td>...</td>\n",
              "      <td>...</td>\n",
              "      <td>...</td>\n",
              "    </tr>\n",
              "    <tr>\n",
              "      <th>1064</th>\n",
              "      <td>We may associate activity and accounts under a...</td>\n",
              "      <td>1</td>\n",
              "      <td>we may associate activity and accounts under a...</td>\n",
              "    </tr>\n",
              "    <tr>\n",
              "      <th>1065</th>\n",
              "      <td>WE DO NOT REPRESENT, PROMISE, OR WARRANT THAT ...</td>\n",
              "      <td>1</td>\n",
              "      <td>we do not represent, promise, or warrant that ...</td>\n",
              "    </tr>\n",
              "    <tr>\n",
              "      <th>1066</th>\n",
              "      <td>THE UNAUTHORIZED ACCESS TO YOUR ACCOUNT OR ANY...</td>\n",
              "      <td>1</td>\n",
              "      <td>the unauthorized access to your account or any...</td>\n",
              "    </tr>\n",
              "    <tr>\n",
              "      <th>1067</th>\n",
              "      <td>Provide location-based Services, advertising, ...</td>\n",
              "      <td>1</td>\n",
              "      <td>provide location-based services, advertising, ...</td>\n",
              "    </tr>\n",
              "    <tr>\n",
              "      <th>1069</th>\n",
              "      <td>TO THE FULLEST EXTENT PERMITTED BY LAW AND EXC...</td>\n",
              "      <td>1</td>\n",
              "      <td>to the fullest extent permitted by law and exc...</td>\n",
              "    </tr>\n",
              "  </tbody>\n",
              "</table>\n",
              "<p>855 rows × 3 columns</p>\n",
              "</div>\n",
              "      <button class=\"colab-df-convert\" onclick=\"convertToInteractive('df-3d197cb5-f3ab-4d3b-a052-32288aa228ea')\"\n",
              "              title=\"Convert this dataframe to an interactive table.\"\n",
              "              style=\"display:none;\">\n",
              "        \n",
              "  <svg xmlns=\"http://www.w3.org/2000/svg\" height=\"24px\"viewBox=\"0 0 24 24\"\n",
              "       width=\"24px\">\n",
              "    <path d=\"M0 0h24v24H0V0z\" fill=\"none\"/>\n",
              "    <path d=\"M18.56 5.44l.94 2.06.94-2.06 2.06-.94-2.06-.94-.94-2.06-.94 2.06-2.06.94zm-11 1L8.5 8.5l.94-2.06 2.06-.94-2.06-.94L8.5 2.5l-.94 2.06-2.06.94zm10 10l.94 2.06.94-2.06 2.06-.94-2.06-.94-.94-2.06-.94 2.06-2.06.94z\"/><path d=\"M17.41 7.96l-1.37-1.37c-.4-.4-.92-.59-1.43-.59-.52 0-1.04.2-1.43.59L10.3 9.45l-7.72 7.72c-.78.78-.78 2.05 0 2.83L4 21.41c.39.39.9.59 1.41.59.51 0 1.02-.2 1.41-.59l7.78-7.78 2.81-2.81c.8-.78.8-2.07 0-2.86zM5.41 20L4 18.59l7.72-7.72 1.47 1.35L5.41 20z\"/>\n",
              "  </svg>\n",
              "      </button>\n",
              "      \n",
              "  <style>\n",
              "    .colab-df-container {\n",
              "      display:flex;\n",
              "      flex-wrap:wrap;\n",
              "      gap: 12px;\n",
              "    }\n",
              "\n",
              "    .colab-df-convert {\n",
              "      background-color: #E8F0FE;\n",
              "      border: none;\n",
              "      border-radius: 50%;\n",
              "      cursor: pointer;\n",
              "      display: none;\n",
              "      fill: #1967D2;\n",
              "      height: 32px;\n",
              "      padding: 0 0 0 0;\n",
              "      width: 32px;\n",
              "    }\n",
              "\n",
              "    .colab-df-convert:hover {\n",
              "      background-color: #E2EBFA;\n",
              "      box-shadow: 0px 1px 2px rgba(60, 64, 67, 0.3), 0px 1px 3px 1px rgba(60, 64, 67, 0.15);\n",
              "      fill: #174EA6;\n",
              "    }\n",
              "\n",
              "    [theme=dark] .colab-df-convert {\n",
              "      background-color: #3B4455;\n",
              "      fill: #D2E3FC;\n",
              "    }\n",
              "\n",
              "    [theme=dark] .colab-df-convert:hover {\n",
              "      background-color: #434B5C;\n",
              "      box-shadow: 0px 1px 3px 1px rgba(0, 0, 0, 0.15);\n",
              "      filter: drop-shadow(0px 1px 2px rgba(0, 0, 0, 0.3));\n",
              "      fill: #FFFFFF;\n",
              "    }\n",
              "  </style>\n",
              "\n",
              "      <script>\n",
              "        const buttonEl =\n",
              "          document.querySelector('#df-3d197cb5-f3ab-4d3b-a052-32288aa228ea button.colab-df-convert');\n",
              "        buttonEl.style.display =\n",
              "          google.colab.kernel.accessAllowed ? 'block' : 'none';\n",
              "\n",
              "        async function convertToInteractive(key) {\n",
              "          const element = document.querySelector('#df-3d197cb5-f3ab-4d3b-a052-32288aa228ea');\n",
              "          const dataTable =\n",
              "            await google.colab.kernel.invokeFunction('convertToInteractive',\n",
              "                                                     [key], {});\n",
              "          if (!dataTable) return;\n",
              "\n",
              "          const docLinkHtml = 'Like what you see? Visit the ' +\n",
              "            '<a target=\"_blank\" href=https://colab.research.google.com/notebooks/data_table.ipynb>data table notebook</a>'\n",
              "            + ' to learn more about interactive tables.';\n",
              "          element.innerHTML = '';\n",
              "          dataTable['output_type'] = 'display_data';\n",
              "          await google.colab.output.renderOutput(dataTable, element);\n",
              "          const docLink = document.createElement('div');\n",
              "          docLink.innerHTML = docLinkHtml;\n",
              "          element.appendChild(docLink);\n",
              "        }\n",
              "      </script>\n",
              "    </div>\n",
              "  </div>\n",
              "  "
            ]
          },
          "metadata": {},
          "execution_count": 35
        }
      ]
    },
    {
      "cell_type": "markdown",
      "source": [
        "## Removing Stopwords"
      ],
      "metadata": {
        "id": "uJN-TIr6xOFi"
      }
    },
    {
      "cell_type": "code",
      "source": [
        "import nltk\n",
        "nltk.download('stopwords')\n",
        "nltk.download('punkt')"
      ],
      "metadata": {
        "colab": {
          "base_uri": "https://localhost:8080/"
        },
        "id": "8gpGl9jbxIJN",
        "outputId": "1f03d4fc-041e-48fa-9e35-c476eb2d0001"
      },
      "execution_count": null,
      "outputs": [
        {
          "output_type": "stream",
          "name": "stderr",
          "text": [
            "[nltk_data] Downloading package stopwords to /root/nltk_data...\n",
            "[nltk_data]   Unzipping corpora/stopwords.zip.\n",
            "[nltk_data] Downloading package punkt to /root/nltk_data...\n",
            "[nltk_data]   Unzipping tokenizers/punkt.zip.\n"
          ]
        },
        {
          "output_type": "execute_result",
          "data": {
            "text/plain": [
              "True"
            ]
          },
          "metadata": {},
          "execution_count": 36
        }
      ]
    },
    {
      "cell_type": "code",
      "source": [
        "from nltk.corpus import stopwords"
      ],
      "metadata": {
        "id": "3J4Z85KbxS2L"
      },
      "execution_count": null,
      "outputs": []
    },
    {
      "cell_type": "code",
      "source": [
        "df['Pre_Process_Terms'][11]"
      ],
      "metadata": {
        "colab": {
          "base_uri": "https://localhost:8080/",
          "height": 174
        },
        "id": "Psok6F6rxS55",
        "outputId": "bbd468d1-ded2-4738-e9ea-469bc24d90b2"
      },
      "execution_count": null,
      "outputs": [
        {
          "output_type": "execute_result",
          "data": {
            "text/plain": [
              "\"for example, when you go to a website with a = button, we need to know who you are in order to show you what your facebook friends have liked on that site. the data we receive includes your user id, the website you're visiting, the date and time and other browser-related info.if you’re logged out or don’t have a facebook account and visit a website with the = button or another social plugin, your browser sends us a more limited set of info. for example, because you’re not logged into facebook, you’ll have fewer cookies than someone who's logged in. like other sites on the internet, we receive info about the web page you're visiting, the date and time and other browser-related info. we record this info to help us improve our products. as our data policy indicates, we use cookies to show you ads on and off facebook. we may also use the info we receive when you visit a site with social plugins to help us show you more interesting and useful ads.\""
            ],
            "application/vnd.google.colaboratory.intrinsic+json": {
              "type": "string"
            }
          },
          "metadata": {},
          "execution_count": 38
        }
      ]
    },
    {
      "cell_type": "code",
      "source": [
        "from nltk import word_tokenize\n",
        "stoplist  = set(stopwords.words('english'))\n",
        "\n",
        "def remove_stopwords(text):\n",
        "    word_tokenized_sent = [word for word in word_tokenize(text) if not word in stoplist]\n",
        "    sw_removed_text = ' '.join(word_tokenized_sent)\n",
        "    return sw_removed_text"
      ],
      "metadata": {
        "id": "wtggnbGDxS80"
      },
      "execution_count": null,
      "outputs": []
    },
    {
      "cell_type": "code",
      "source": [
        "remove_stopwords(df['Pre_Process_Terms'][11])"
      ],
      "metadata": {
        "colab": {
          "base_uri": "https://localhost:8080/",
          "height": 122
        },
        "id": "EUd7rgQcxIMx",
        "outputId": "8a0705f5-903b-48f6-d0d2-87b489585749"
      },
      "execution_count": null,
      "outputs": [
        {
          "output_type": "execute_result",
          "data": {
            "text/plain": [
              "\"example , go website = button , need know order show facebook friends liked site . data receive includes user id , website 're visiting , date time browser-related info.if ’ logged ’ facebook account visit website = button another social plugin , browser sends us limited set info . example , ’ logged facebook , ’ fewer cookies someone 's logged . like sites internet , receive info web page 're visiting , date time browser-related info . record info help us improve products . data policy indicates , use cookies show ads facebook . may also use info receive visit site social plugins help us show interesting useful ads .\""
            ],
            "application/vnd.google.colaboratory.intrinsic+json": {
              "type": "string"
            }
          },
          "metadata": {},
          "execution_count": 40
        }
      ]
    },
    {
      "cell_type": "code",
      "source": [
        "df['Pre_Process_Terms'] = df['Pre_Process_Terms'].apply(remove_stopwords)"
      ],
      "metadata": {
        "id": "6icWYcUNuDez"
      },
      "execution_count": null,
      "outputs": []
    },
    {
      "cell_type": "code",
      "source": [
        "df"
      ],
      "metadata": {
        "colab": {
          "base_uri": "https://localhost:8080/",
          "height": 468
        },
        "id": "3yvItrjox1n0",
        "outputId": "0484b171-3983-4f52-8dc0-8a3d5a2b3f76"
      },
      "execution_count": null,
      "outputs": [
        {
          "output_type": "execute_result",
          "data": {
            "text/plain": [
              "                                         Original Terms  Score  \\\n",
              "0     Facebook uses cookies and receives information...      2   \n",
              "1     You give us permission to use your name and pr...      2   \n",
              "2     Our systems automatically process content and ...      2   \n",
              "3     You can review your Off-Facebook activity, whi...      2   \n",
              "4     The terms state: \"In addition, content you del...      2   \n",
              "...                                                 ...    ...   \n",
              "1064  We may associate activity and accounts under a...      1   \n",
              "1065  WE DO NOT REPRESENT, PROMISE, OR WARRANT THAT ...      1   \n",
              "1066  THE UNAUTHORIZED ACCESS TO YOUR ACCOUNT OR ANY...      1   \n",
              "1067  Provide location-based Services, advertising, ...      1   \n",
              "1069  TO THE FULLEST EXTENT PERMITTED BY LAW AND EXC...      1   \n",
              "\n",
              "                                      Pre_Process_Terms  \n",
              "0     facebook uses cookies receives information vis...  \n",
              "1     give us permission use name profile picture in...  \n",
              "2     systems automatically process content communic...  \n",
              "3     review off-facebook activity , summary activit...  \n",
              "4     terms state : `` addition , content delete may...  \n",
              "...                                                 ...  \n",
              "1064  may associate activity accounts single user id...  \n",
              "1065  represent , promise , warrant services uninter...  \n",
              "1066  unauthorized access account data maintained tr...  \n",
              "1067  provide location-based services , advertising ...  \n",
              "1069  fullest extent permitted law except otherwise ...  \n",
              "\n",
              "[855 rows x 3 columns]"
            ],
            "text/html": [
              "\n",
              "  <div id=\"df-bc142dc8-88e8-4ca4-b2f2-26f8c5c76619\">\n",
              "    <div class=\"colab-df-container\">\n",
              "      <div>\n",
              "<style scoped>\n",
              "    .dataframe tbody tr th:only-of-type {\n",
              "        vertical-align: middle;\n",
              "    }\n",
              "\n",
              "    .dataframe tbody tr th {\n",
              "        vertical-align: top;\n",
              "    }\n",
              "\n",
              "    .dataframe thead th {\n",
              "        text-align: right;\n",
              "    }\n",
              "</style>\n",
              "<table border=\"1\" class=\"dataframe\">\n",
              "  <thead>\n",
              "    <tr style=\"text-align: right;\">\n",
              "      <th></th>\n",
              "      <th>Original Terms</th>\n",
              "      <th>Score</th>\n",
              "      <th>Pre_Process_Terms</th>\n",
              "    </tr>\n",
              "  </thead>\n",
              "  <tbody>\n",
              "    <tr>\n",
              "      <th>0</th>\n",
              "      <td>Facebook uses cookies and receives information...</td>\n",
              "      <td>2</td>\n",
              "      <td>facebook uses cookies receives information vis...</td>\n",
              "    </tr>\n",
              "    <tr>\n",
              "      <th>1</th>\n",
              "      <td>You give us permission to use your name and pr...</td>\n",
              "      <td>2</td>\n",
              "      <td>give us permission use name profile picture in...</td>\n",
              "    </tr>\n",
              "    <tr>\n",
              "      <th>2</th>\n",
              "      <td>Our systems automatically process content and ...</td>\n",
              "      <td>2</td>\n",
              "      <td>systems automatically process content communic...</td>\n",
              "    </tr>\n",
              "    <tr>\n",
              "      <th>3</th>\n",
              "      <td>You can review your Off-Facebook activity, whi...</td>\n",
              "      <td>2</td>\n",
              "      <td>review off-facebook activity , summary activit...</td>\n",
              "    </tr>\n",
              "    <tr>\n",
              "      <th>4</th>\n",
              "      <td>The terms state: \"In addition, content you del...</td>\n",
              "      <td>2</td>\n",
              "      <td>terms state : `` addition , content delete may...</td>\n",
              "    </tr>\n",
              "    <tr>\n",
              "      <th>...</th>\n",
              "      <td>...</td>\n",
              "      <td>...</td>\n",
              "      <td>...</td>\n",
              "    </tr>\n",
              "    <tr>\n",
              "      <th>1064</th>\n",
              "      <td>We may associate activity and accounts under a...</td>\n",
              "      <td>1</td>\n",
              "      <td>may associate activity accounts single user id...</td>\n",
              "    </tr>\n",
              "    <tr>\n",
              "      <th>1065</th>\n",
              "      <td>WE DO NOT REPRESENT, PROMISE, OR WARRANT THAT ...</td>\n",
              "      <td>1</td>\n",
              "      <td>represent , promise , warrant services uninter...</td>\n",
              "    </tr>\n",
              "    <tr>\n",
              "      <th>1066</th>\n",
              "      <td>THE UNAUTHORIZED ACCESS TO YOUR ACCOUNT OR ANY...</td>\n",
              "      <td>1</td>\n",
              "      <td>unauthorized access account data maintained tr...</td>\n",
              "    </tr>\n",
              "    <tr>\n",
              "      <th>1067</th>\n",
              "      <td>Provide location-based Services, advertising, ...</td>\n",
              "      <td>1</td>\n",
              "      <td>provide location-based services , advertising ...</td>\n",
              "    </tr>\n",
              "    <tr>\n",
              "      <th>1069</th>\n",
              "      <td>TO THE FULLEST EXTENT PERMITTED BY LAW AND EXC...</td>\n",
              "      <td>1</td>\n",
              "      <td>fullest extent permitted law except otherwise ...</td>\n",
              "    </tr>\n",
              "  </tbody>\n",
              "</table>\n",
              "<p>855 rows × 3 columns</p>\n",
              "</div>\n",
              "      <button class=\"colab-df-convert\" onclick=\"convertToInteractive('df-bc142dc8-88e8-4ca4-b2f2-26f8c5c76619')\"\n",
              "              title=\"Convert this dataframe to an interactive table.\"\n",
              "              style=\"display:none;\">\n",
              "        \n",
              "  <svg xmlns=\"http://www.w3.org/2000/svg\" height=\"24px\"viewBox=\"0 0 24 24\"\n",
              "       width=\"24px\">\n",
              "    <path d=\"M0 0h24v24H0V0z\" fill=\"none\"/>\n",
              "    <path d=\"M18.56 5.44l.94 2.06.94-2.06 2.06-.94-2.06-.94-.94-2.06-.94 2.06-2.06.94zm-11 1L8.5 8.5l.94-2.06 2.06-.94-2.06-.94L8.5 2.5l-.94 2.06-2.06.94zm10 10l.94 2.06.94-2.06 2.06-.94-2.06-.94-.94-2.06-.94 2.06-2.06.94z\"/><path d=\"M17.41 7.96l-1.37-1.37c-.4-.4-.92-.59-1.43-.59-.52 0-1.04.2-1.43.59L10.3 9.45l-7.72 7.72c-.78.78-.78 2.05 0 2.83L4 21.41c.39.39.9.59 1.41.59.51 0 1.02-.2 1.41-.59l7.78-7.78 2.81-2.81c.8-.78.8-2.07 0-2.86zM5.41 20L4 18.59l7.72-7.72 1.47 1.35L5.41 20z\"/>\n",
              "  </svg>\n",
              "      </button>\n",
              "      \n",
              "  <style>\n",
              "    .colab-df-container {\n",
              "      display:flex;\n",
              "      flex-wrap:wrap;\n",
              "      gap: 12px;\n",
              "    }\n",
              "\n",
              "    .colab-df-convert {\n",
              "      background-color: #E8F0FE;\n",
              "      border: none;\n",
              "      border-radius: 50%;\n",
              "      cursor: pointer;\n",
              "      display: none;\n",
              "      fill: #1967D2;\n",
              "      height: 32px;\n",
              "      padding: 0 0 0 0;\n",
              "      width: 32px;\n",
              "    }\n",
              "\n",
              "    .colab-df-convert:hover {\n",
              "      background-color: #E2EBFA;\n",
              "      box-shadow: 0px 1px 2px rgba(60, 64, 67, 0.3), 0px 1px 3px 1px rgba(60, 64, 67, 0.15);\n",
              "      fill: #174EA6;\n",
              "    }\n",
              "\n",
              "    [theme=dark] .colab-df-convert {\n",
              "      background-color: #3B4455;\n",
              "      fill: #D2E3FC;\n",
              "    }\n",
              "\n",
              "    [theme=dark] .colab-df-convert:hover {\n",
              "      background-color: #434B5C;\n",
              "      box-shadow: 0px 1px 3px 1px rgba(0, 0, 0, 0.15);\n",
              "      filter: drop-shadow(0px 1px 2px rgba(0, 0, 0, 0.3));\n",
              "      fill: #FFFFFF;\n",
              "    }\n",
              "  </style>\n",
              "\n",
              "      <script>\n",
              "        const buttonEl =\n",
              "          document.querySelector('#df-bc142dc8-88e8-4ca4-b2f2-26f8c5c76619 button.colab-df-convert');\n",
              "        buttonEl.style.display =\n",
              "          google.colab.kernel.accessAllowed ? 'block' : 'none';\n",
              "\n",
              "        async function convertToInteractive(key) {\n",
              "          const element = document.querySelector('#df-bc142dc8-88e8-4ca4-b2f2-26f8c5c76619');\n",
              "          const dataTable =\n",
              "            await google.colab.kernel.invokeFunction('convertToInteractive',\n",
              "                                                     [key], {});\n",
              "          if (!dataTable) return;\n",
              "\n",
              "          const docLinkHtml = 'Like what you see? Visit the ' +\n",
              "            '<a target=\"_blank\" href=https://colab.research.google.com/notebooks/data_table.ipynb>data table notebook</a>'\n",
              "            + ' to learn more about interactive tables.';\n",
              "          element.innerHTML = '';\n",
              "          dataTable['output_type'] = 'display_data';\n",
              "          await google.colab.output.renderOutput(dataTable, element);\n",
              "          const docLink = document.createElement('div');\n",
              "          docLink.innerHTML = docLinkHtml;\n",
              "          element.appendChild(docLink);\n",
              "        }\n",
              "      </script>\n",
              "    </div>\n",
              "  </div>\n",
              "  "
            ]
          },
          "metadata": {},
          "execution_count": 42
        }
      ]
    },
    {
      "cell_type": "markdown",
      "source": [
        "## Removing Punctuations"
      ],
      "metadata": {
        "id": "5RKyHQQeyv8r"
      }
    },
    {
      "cell_type": "code",
      "source": [
        "import string\n",
        "string.punctuation"
      ],
      "metadata": {
        "colab": {
          "base_uri": "https://localhost:8080/",
          "height": 35
        },
        "id": "xb6Ptkxnx1qa",
        "outputId": "2652d0b7-b73a-4803-9e46-675f374f2281"
      },
      "execution_count": null,
      "outputs": [
        {
          "output_type": "execute_result",
          "data": {
            "text/plain": [
              "'!\"#$%&\\'()*+,-./:;<=>?@[\\\\]^_`{|}~'"
            ],
            "application/vnd.google.colaboratory.intrinsic+json": {
              "type": "string"
            }
          },
          "metadata": {},
          "execution_count": 43
        }
      ]
    },
    {
      "cell_type": "code",
      "source": [
        "exclude = \"!#$%&'()*’+,-/:;<=>?@[\\]^_`{|}~\""
      ],
      "metadata": {
        "id": "91ZTPFtyx1tk"
      },
      "execution_count": null,
      "outputs": []
    },
    {
      "cell_type": "code",
      "source": [
        "def remove_punc(text):\n",
        "  return text.translate(str.maketrans('','',exclude))"
      ],
      "metadata": {
        "id": "z-6mJaUVx1wB"
      },
      "execution_count": null,
      "outputs": []
    },
    {
      "cell_type": "code",
      "source": [
        "df['Pre_Process_Terms'][11]"
      ],
      "metadata": {
        "colab": {
          "base_uri": "https://localhost:8080/",
          "height": 122
        },
        "id": "IVD9Xc3NzUnz",
        "outputId": "2822d14a-94b0-4664-bdb6-28883973ff35"
      },
      "execution_count": null,
      "outputs": [
        {
          "output_type": "execute_result",
          "data": {
            "text/plain": [
              "\"example , go website = button , need know order show facebook friends liked site . data receive includes user id , website 're visiting , date time browser-related info.if ’ logged ’ facebook account visit website = button another social plugin , browser sends us limited set info . example , ’ logged facebook , ’ fewer cookies someone 's logged . like sites internet , receive info web page 're visiting , date time browser-related info . record info help us improve products . data policy indicates , use cookies show ads facebook . may also use info receive visit site social plugins help us show interesting useful ads .\""
            ],
            "application/vnd.google.colaboratory.intrinsic+json": {
              "type": "string"
            }
          },
          "metadata": {},
          "execution_count": 46
        }
      ]
    },
    {
      "cell_type": "code",
      "source": [
        "remove_punc(df['Pre_Process_Terms'][11])"
      ],
      "metadata": {
        "colab": {
          "base_uri": "https://localhost:8080/",
          "height": 122
        },
        "id": "Q9U3uqttzUqw",
        "outputId": "7fb33560-428a-4409-fae9-03ac0b38b0a1"
      },
      "execution_count": null,
      "outputs": [
        {
          "output_type": "execute_result",
          "data": {
            "text/plain": [
              "'example  go website  button  need know order show facebook friends liked site . data receive includes user id  website re visiting  date time browserrelated info.if  logged  facebook account visit website  button another social plugin  browser sends us limited set info . example   logged facebook   fewer cookies someone s logged . like sites internet  receive info web page re visiting  date time browserrelated info . record info help us improve products . data policy indicates  use cookies show ads facebook . may also use info receive visit site social plugins help us show interesting useful ads .'"
            ],
            "application/vnd.google.colaboratory.intrinsic+json": {
              "type": "string"
            }
          },
          "metadata": {},
          "execution_count": 47
        }
      ]
    },
    {
      "cell_type": "code",
      "source": [
        "df['Pre_Process_Terms'] = df['Pre_Process_Terms'].apply(remove_punc)"
      ],
      "metadata": {
        "id": "-ApjOcj_zUto"
      },
      "execution_count": null,
      "outputs": []
    },
    {
      "cell_type": "code",
      "source": [
        "df"
      ],
      "metadata": {
        "colab": {
          "base_uri": "https://localhost:8080/",
          "height": 468
        },
        "id": "WxlywmSezUxA",
        "outputId": "408b0ad8-17ba-42ea-b1a6-cc811778fba4"
      },
      "execution_count": null,
      "outputs": [
        {
          "output_type": "execute_result",
          "data": {
            "text/plain": [
              "                                         Original Terms  Score  \\\n",
              "0     Facebook uses cookies and receives information...      2   \n",
              "1     You give us permission to use your name and pr...      2   \n",
              "2     Our systems automatically process content and ...      2   \n",
              "3     You can review your Off-Facebook activity, whi...      2   \n",
              "4     The terms state: \"In addition, content you del...      2   \n",
              "...                                                 ...    ...   \n",
              "1064  We may associate activity and accounts under a...      1   \n",
              "1065  WE DO NOT REPRESENT, PROMISE, OR WARRANT THAT ...      1   \n",
              "1066  THE UNAUTHORIZED ACCESS TO YOUR ACCOUNT OR ANY...      1   \n",
              "1067  Provide location-based Services, advertising, ...      1   \n",
              "1069  TO THE FULLEST EXTENT PERMITTED BY LAW AND EXC...      1   \n",
              "\n",
              "                                      Pre_Process_Terms  \n",
              "0     facebook uses cookies receives information vis...  \n",
              "1     give us permission use name profile picture in...  \n",
              "2     systems automatically process content communic...  \n",
              "3     review offfacebook activity  summary activity ...  \n",
              "4     terms state   addition  content delete may con...  \n",
              "...                                                 ...  \n",
              "1064  may associate activity accounts single user id...  \n",
              "1065  represent  promise  warrant services uninterru...  \n",
              "1066  unauthorized access account data maintained tr...  \n",
              "1067  provide locationbased services  advertising  s...  \n",
              "1069  fullest extent permitted law except otherwise ...  \n",
              "\n",
              "[855 rows x 3 columns]"
            ],
            "text/html": [
              "\n",
              "  <div id=\"df-36f66eb5-efa4-4720-83ea-919cac66109b\">\n",
              "    <div class=\"colab-df-container\">\n",
              "      <div>\n",
              "<style scoped>\n",
              "    .dataframe tbody tr th:only-of-type {\n",
              "        vertical-align: middle;\n",
              "    }\n",
              "\n",
              "    .dataframe tbody tr th {\n",
              "        vertical-align: top;\n",
              "    }\n",
              "\n",
              "    .dataframe thead th {\n",
              "        text-align: right;\n",
              "    }\n",
              "</style>\n",
              "<table border=\"1\" class=\"dataframe\">\n",
              "  <thead>\n",
              "    <tr style=\"text-align: right;\">\n",
              "      <th></th>\n",
              "      <th>Original Terms</th>\n",
              "      <th>Score</th>\n",
              "      <th>Pre_Process_Terms</th>\n",
              "    </tr>\n",
              "  </thead>\n",
              "  <tbody>\n",
              "    <tr>\n",
              "      <th>0</th>\n",
              "      <td>Facebook uses cookies and receives information...</td>\n",
              "      <td>2</td>\n",
              "      <td>facebook uses cookies receives information vis...</td>\n",
              "    </tr>\n",
              "    <tr>\n",
              "      <th>1</th>\n",
              "      <td>You give us permission to use your name and pr...</td>\n",
              "      <td>2</td>\n",
              "      <td>give us permission use name profile picture in...</td>\n",
              "    </tr>\n",
              "    <tr>\n",
              "      <th>2</th>\n",
              "      <td>Our systems automatically process content and ...</td>\n",
              "      <td>2</td>\n",
              "      <td>systems automatically process content communic...</td>\n",
              "    </tr>\n",
              "    <tr>\n",
              "      <th>3</th>\n",
              "      <td>You can review your Off-Facebook activity, whi...</td>\n",
              "      <td>2</td>\n",
              "      <td>review offfacebook activity  summary activity ...</td>\n",
              "    </tr>\n",
              "    <tr>\n",
              "      <th>4</th>\n",
              "      <td>The terms state: \"In addition, content you del...</td>\n",
              "      <td>2</td>\n",
              "      <td>terms state   addition  content delete may con...</td>\n",
              "    </tr>\n",
              "    <tr>\n",
              "      <th>...</th>\n",
              "      <td>...</td>\n",
              "      <td>...</td>\n",
              "      <td>...</td>\n",
              "    </tr>\n",
              "    <tr>\n",
              "      <th>1064</th>\n",
              "      <td>We may associate activity and accounts under a...</td>\n",
              "      <td>1</td>\n",
              "      <td>may associate activity accounts single user id...</td>\n",
              "    </tr>\n",
              "    <tr>\n",
              "      <th>1065</th>\n",
              "      <td>WE DO NOT REPRESENT, PROMISE, OR WARRANT THAT ...</td>\n",
              "      <td>1</td>\n",
              "      <td>represent  promise  warrant services uninterru...</td>\n",
              "    </tr>\n",
              "    <tr>\n",
              "      <th>1066</th>\n",
              "      <td>THE UNAUTHORIZED ACCESS TO YOUR ACCOUNT OR ANY...</td>\n",
              "      <td>1</td>\n",
              "      <td>unauthorized access account data maintained tr...</td>\n",
              "    </tr>\n",
              "    <tr>\n",
              "      <th>1067</th>\n",
              "      <td>Provide location-based Services, advertising, ...</td>\n",
              "      <td>1</td>\n",
              "      <td>provide locationbased services  advertising  s...</td>\n",
              "    </tr>\n",
              "    <tr>\n",
              "      <th>1069</th>\n",
              "      <td>TO THE FULLEST EXTENT PERMITTED BY LAW AND EXC...</td>\n",
              "      <td>1</td>\n",
              "      <td>fullest extent permitted law except otherwise ...</td>\n",
              "    </tr>\n",
              "  </tbody>\n",
              "</table>\n",
              "<p>855 rows × 3 columns</p>\n",
              "</div>\n",
              "      <button class=\"colab-df-convert\" onclick=\"convertToInteractive('df-36f66eb5-efa4-4720-83ea-919cac66109b')\"\n",
              "              title=\"Convert this dataframe to an interactive table.\"\n",
              "              style=\"display:none;\">\n",
              "        \n",
              "  <svg xmlns=\"http://www.w3.org/2000/svg\" height=\"24px\"viewBox=\"0 0 24 24\"\n",
              "       width=\"24px\">\n",
              "    <path d=\"M0 0h24v24H0V0z\" fill=\"none\"/>\n",
              "    <path d=\"M18.56 5.44l.94 2.06.94-2.06 2.06-.94-2.06-.94-.94-2.06-.94 2.06-2.06.94zm-11 1L8.5 8.5l.94-2.06 2.06-.94-2.06-.94L8.5 2.5l-.94 2.06-2.06.94zm10 10l.94 2.06.94-2.06 2.06-.94-2.06-.94-.94-2.06-.94 2.06-2.06.94z\"/><path d=\"M17.41 7.96l-1.37-1.37c-.4-.4-.92-.59-1.43-.59-.52 0-1.04.2-1.43.59L10.3 9.45l-7.72 7.72c-.78.78-.78 2.05 0 2.83L4 21.41c.39.39.9.59 1.41.59.51 0 1.02-.2 1.41-.59l7.78-7.78 2.81-2.81c.8-.78.8-2.07 0-2.86zM5.41 20L4 18.59l7.72-7.72 1.47 1.35L5.41 20z\"/>\n",
              "  </svg>\n",
              "      </button>\n",
              "      \n",
              "  <style>\n",
              "    .colab-df-container {\n",
              "      display:flex;\n",
              "      flex-wrap:wrap;\n",
              "      gap: 12px;\n",
              "    }\n",
              "\n",
              "    .colab-df-convert {\n",
              "      background-color: #E8F0FE;\n",
              "      border: none;\n",
              "      border-radius: 50%;\n",
              "      cursor: pointer;\n",
              "      display: none;\n",
              "      fill: #1967D2;\n",
              "      height: 32px;\n",
              "      padding: 0 0 0 0;\n",
              "      width: 32px;\n",
              "    }\n",
              "\n",
              "    .colab-df-convert:hover {\n",
              "      background-color: #E2EBFA;\n",
              "      box-shadow: 0px 1px 2px rgba(60, 64, 67, 0.3), 0px 1px 3px 1px rgba(60, 64, 67, 0.15);\n",
              "      fill: #174EA6;\n",
              "    }\n",
              "\n",
              "    [theme=dark] .colab-df-convert {\n",
              "      background-color: #3B4455;\n",
              "      fill: #D2E3FC;\n",
              "    }\n",
              "\n",
              "    [theme=dark] .colab-df-convert:hover {\n",
              "      background-color: #434B5C;\n",
              "      box-shadow: 0px 1px 3px 1px rgba(0, 0, 0, 0.15);\n",
              "      filter: drop-shadow(0px 1px 2px rgba(0, 0, 0, 0.3));\n",
              "      fill: #FFFFFF;\n",
              "    }\n",
              "  </style>\n",
              "\n",
              "      <script>\n",
              "        const buttonEl =\n",
              "          document.querySelector('#df-36f66eb5-efa4-4720-83ea-919cac66109b button.colab-df-convert');\n",
              "        buttonEl.style.display =\n",
              "          google.colab.kernel.accessAllowed ? 'block' : 'none';\n",
              "\n",
              "        async function convertToInteractive(key) {\n",
              "          const element = document.querySelector('#df-36f66eb5-efa4-4720-83ea-919cac66109b');\n",
              "          const dataTable =\n",
              "            await google.colab.kernel.invokeFunction('convertToInteractive',\n",
              "                                                     [key], {});\n",
              "          if (!dataTable) return;\n",
              "\n",
              "          const docLinkHtml = 'Like what you see? Visit the ' +\n",
              "            '<a target=\"_blank\" href=https://colab.research.google.com/notebooks/data_table.ipynb>data table notebook</a>'\n",
              "            + ' to learn more about interactive tables.';\n",
              "          element.innerHTML = '';\n",
              "          dataTable['output_type'] = 'display_data';\n",
              "          await google.colab.output.renderOutput(dataTable, element);\n",
              "          const docLink = document.createElement('div');\n",
              "          docLink.innerHTML = docLinkHtml;\n",
              "          element.appendChild(docLink);\n",
              "        }\n",
              "      </script>\n",
              "    </div>\n",
              "  </div>\n",
              "  "
            ]
          },
          "metadata": {},
          "execution_count": 49
        }
      ]
    },
    {
      "cell_type": "markdown",
      "source": [
        "## Summarizing Big TNC"
      ],
      "metadata": {
        "id": "2pl0RVuD0g5N"
      }
    },
    {
      "cell_type": "code",
      "source": [
        "df['Pre_Process_Terms'][21]"
      ],
      "metadata": {
        "colab": {
          "base_uri": "https://localhost:8080/",
          "height": 174
        },
        "id": "G8xOqjpSz0fL",
        "outputId": "8bc98ae5-d08f-4897-fd9a-945b4556e4af"
      },
      "execution_count": null,
      "outputs": [
        {
          "output_type": "execute_result",
          "data": {
            "text/plain": [
              "'sharing thirdparty partners work thirdparty partners help us provide improve products use facebook business tools grow businesses  makes possible operate companies provide free services people around world . nt sell information anyone  never . also impose strict restrictions partners use disclose data provide . types third parties share information  partners use analytics services . provide aggregated statistics insights help people businesses understand people engaging posts  listings  pages  videos content facebook products . example  page admins instagram business profiles receive information number people accounts viewed  reacted  commented posts  well aggregate demographic information helps understand interactions page account . advertisers . provide advertisers reports kinds people seeing ads ads performing  nt share information personally identifies unless give us permission . example  provide general demographic interest information advertisers help better understand audience . also confirm facebook ads led make purchase take action advertiser . measurement partners . share information companies aggregate provide analytics measurement reports partners . partners offering goods services products . subscribe receive premium content  buy something seller products  content creator seller receive public information information share  well information needed complete transaction  including shipping contact details . vendors service providers . provide information content vendors service providers support business  providing technical infrastructure services  analyzing products used  providing customer service  facilitating payments conducting surveys . researchers academics . also provide information content research partners academics conduct research advances scholarship innovation support business mission  enhances discovery innovation topics general social welfare  technological advancement  public interest  health wellbeing . law enforcement legal requests . share information law enforcement response legal requests circumstances outlined . learn control information others share thirdparty partners facebook settings instagram settings .'"
            ],
            "application/vnd.google.colaboratory.intrinsic+json": {
              "type": "string"
            }
          },
          "metadata": {},
          "execution_count": 50
        }
      ]
    },
    {
      "cell_type": "code",
      "source": [
        "len(df['Pre_Process_Terms'][21].split(\".\"))"
      ],
      "metadata": {
        "colab": {
          "base_uri": "https://localhost:8080/"
        },
        "id": "fQLY5aTS0i-I",
        "outputId": "ade69c90-b862-4b5e-e8bd-f5db21c1d392"
      },
      "execution_count": null,
      "outputs": [
        {
          "output_type": "execute_result",
          "data": {
            "text/plain": [
              "22"
            ]
          },
          "metadata": {},
          "execution_count": 51
        }
      ]
    },
    {
      "cell_type": "code",
      "source": [
        "from gensim.summarization import summarize"
      ],
      "metadata": {
        "id": "FKpdjGWe0jAn"
      },
      "execution_count": null,
      "outputs": []
    },
    {
      "cell_type": "code",
      "source": [
        "def summarize_text(text):\n",
        "  #text = text.split(\".\")\n",
        "  #print(text)\n",
        "  #print(len(text))\n",
        "  if(len(text.split(\".\"))>10):\n",
        "    summarized_text = summarize(text, ratio=0.3, split=True)\n",
        "    summarized_text = \"\".join(summarized_text)\n",
        "    return summarized_text\n",
        "  else:\n",
        "    return text"
      ],
      "metadata": {
        "id": "3i6MsG_S0jDZ"
      },
      "execution_count": null,
      "outputs": []
    },
    {
      "cell_type": "code",
      "source": [
        "summarize_text(df['Pre_Process_Terms'][21])"
      ],
      "metadata": {
        "colab": {
          "base_uri": "https://localhost:8080/",
          "height": 157
        },
        "id": "FhmxOlmk0jIP",
        "outputId": "37c1db9f-eb31-40a4-fa23-fc992829dfa5"
      },
      "execution_count": null,
      "outputs": [
        {
          "output_type": "execute_result",
          "data": {
            "text/plain": [
              "'sharing thirdparty partners work thirdparty partners help us provide improve products use facebook business tools grow businesses  makes possible operate companies provide free services people around world .types third parties share information  partners use analytics services .provide aggregated statistics insights help people businesses understand people engaging posts  listings  pages  videos content facebook products .example  page admins instagram business profiles receive information number people accounts viewed  reacted  commented posts  well aggregate demographic information helps understand interactions page account .example  provide general demographic interest information advertisers help better understand audience .share information companies aggregate provide analytics measurement reports partners .'"
            ],
            "application/vnd.google.colaboratory.intrinsic+json": {
              "type": "string"
            }
          },
          "metadata": {},
          "execution_count": 54
        }
      ]
    },
    {
      "cell_type": "code",
      "source": [
        "df['Pre_Process_Terms'] = df['Pre_Process_Terms'].apply(summarize_text)"
      ],
      "metadata": {
        "colab": {
          "base_uri": "https://localhost:8080/"
        },
        "id": "QEwOgZax0qfR",
        "outputId": "d32312a2-9f08-4db7-8e85-fdfc3ca8bb6f"
      },
      "execution_count": null,
      "outputs": [
        {
          "output_type": "stream",
          "name": "stderr",
          "text": [
            "WARNING:gensim.summarization.summarizer:Input text is expected to have at least 10 sentences.\n",
            "WARNING:gensim.summarization.summarizer:Input corpus is expected to have at least 10 documents.\n",
            "WARNING:gensim.summarization.summarizer:Input text is expected to have at least 10 sentences.\n",
            "WARNING:gensim.summarization.summarizer:Input corpus is expected to have at least 10 documents.\n",
            "WARNING:gensim.summarization.summarizer:Input text is expected to have at least 10 sentences.\n",
            "WARNING:gensim.summarization.summarizer:Input corpus is expected to have at least 10 documents.\n",
            "WARNING:gensim.summarization.summarizer:Please add more sentences to the text. The number of reachable nodes is below 3\n",
            "WARNING:gensim.summarization.summarizer:Couldn't get relevant sentences.\n"
          ]
        }
      ]
    },
    {
      "cell_type": "code",
      "source": [
        "df.head()"
      ],
      "metadata": {
        "colab": {
          "base_uri": "https://localhost:8080/",
          "height": 206
        },
        "id": "mXuPSzpI0qif",
        "outputId": "000bcde8-99a5-4d98-db21-04260fc3967d"
      },
      "execution_count": null,
      "outputs": [
        {
          "output_type": "execute_result",
          "data": {
            "text/plain": [
              "                                      Original Terms  Score  \\\n",
              "0  Facebook uses cookies and receives information...      2   \n",
              "1  You give us permission to use your name and pr...      2   \n",
              "2  Our systems automatically process content and ...      2   \n",
              "3  You can review your Off-Facebook activity, whi...      2   \n",
              "4  The terms state: \"In addition, content you del...      2   \n",
              "\n",
              "                                   Pre_Process_Terms  \n",
              "0  facebook uses cookies receives information vis...  \n",
              "1  give us permission use name profile picture in...  \n",
              "2  systems automatically process content communic...  \n",
              "3  review offfacebook activity  summary activity ...  \n",
              "4  terms state   addition  content delete may con...  "
            ],
            "text/html": [
              "\n",
              "  <div id=\"df-d76be242-a696-456a-b8b9-0157e9c7f6fd\">\n",
              "    <div class=\"colab-df-container\">\n",
              "      <div>\n",
              "<style scoped>\n",
              "    .dataframe tbody tr th:only-of-type {\n",
              "        vertical-align: middle;\n",
              "    }\n",
              "\n",
              "    .dataframe tbody tr th {\n",
              "        vertical-align: top;\n",
              "    }\n",
              "\n",
              "    .dataframe thead th {\n",
              "        text-align: right;\n",
              "    }\n",
              "</style>\n",
              "<table border=\"1\" class=\"dataframe\">\n",
              "  <thead>\n",
              "    <tr style=\"text-align: right;\">\n",
              "      <th></th>\n",
              "      <th>Original Terms</th>\n",
              "      <th>Score</th>\n",
              "      <th>Pre_Process_Terms</th>\n",
              "    </tr>\n",
              "  </thead>\n",
              "  <tbody>\n",
              "    <tr>\n",
              "      <th>0</th>\n",
              "      <td>Facebook uses cookies and receives information...</td>\n",
              "      <td>2</td>\n",
              "      <td>facebook uses cookies receives information vis...</td>\n",
              "    </tr>\n",
              "    <tr>\n",
              "      <th>1</th>\n",
              "      <td>You give us permission to use your name and pr...</td>\n",
              "      <td>2</td>\n",
              "      <td>give us permission use name profile picture in...</td>\n",
              "    </tr>\n",
              "    <tr>\n",
              "      <th>2</th>\n",
              "      <td>Our systems automatically process content and ...</td>\n",
              "      <td>2</td>\n",
              "      <td>systems automatically process content communic...</td>\n",
              "    </tr>\n",
              "    <tr>\n",
              "      <th>3</th>\n",
              "      <td>You can review your Off-Facebook activity, whi...</td>\n",
              "      <td>2</td>\n",
              "      <td>review offfacebook activity  summary activity ...</td>\n",
              "    </tr>\n",
              "    <tr>\n",
              "      <th>4</th>\n",
              "      <td>The terms state: \"In addition, content you del...</td>\n",
              "      <td>2</td>\n",
              "      <td>terms state   addition  content delete may con...</td>\n",
              "    </tr>\n",
              "  </tbody>\n",
              "</table>\n",
              "</div>\n",
              "      <button class=\"colab-df-convert\" onclick=\"convertToInteractive('df-d76be242-a696-456a-b8b9-0157e9c7f6fd')\"\n",
              "              title=\"Convert this dataframe to an interactive table.\"\n",
              "              style=\"display:none;\">\n",
              "        \n",
              "  <svg xmlns=\"http://www.w3.org/2000/svg\" height=\"24px\"viewBox=\"0 0 24 24\"\n",
              "       width=\"24px\">\n",
              "    <path d=\"M0 0h24v24H0V0z\" fill=\"none\"/>\n",
              "    <path d=\"M18.56 5.44l.94 2.06.94-2.06 2.06-.94-2.06-.94-.94-2.06-.94 2.06-2.06.94zm-11 1L8.5 8.5l.94-2.06 2.06-.94-2.06-.94L8.5 2.5l-.94 2.06-2.06.94zm10 10l.94 2.06.94-2.06 2.06-.94-2.06-.94-.94-2.06-.94 2.06-2.06.94z\"/><path d=\"M17.41 7.96l-1.37-1.37c-.4-.4-.92-.59-1.43-.59-.52 0-1.04.2-1.43.59L10.3 9.45l-7.72 7.72c-.78.78-.78 2.05 0 2.83L4 21.41c.39.39.9.59 1.41.59.51 0 1.02-.2 1.41-.59l7.78-7.78 2.81-2.81c.8-.78.8-2.07 0-2.86zM5.41 20L4 18.59l7.72-7.72 1.47 1.35L5.41 20z\"/>\n",
              "  </svg>\n",
              "      </button>\n",
              "      \n",
              "  <style>\n",
              "    .colab-df-container {\n",
              "      display:flex;\n",
              "      flex-wrap:wrap;\n",
              "      gap: 12px;\n",
              "    }\n",
              "\n",
              "    .colab-df-convert {\n",
              "      background-color: #E8F0FE;\n",
              "      border: none;\n",
              "      border-radius: 50%;\n",
              "      cursor: pointer;\n",
              "      display: none;\n",
              "      fill: #1967D2;\n",
              "      height: 32px;\n",
              "      padding: 0 0 0 0;\n",
              "      width: 32px;\n",
              "    }\n",
              "\n",
              "    .colab-df-convert:hover {\n",
              "      background-color: #E2EBFA;\n",
              "      box-shadow: 0px 1px 2px rgba(60, 64, 67, 0.3), 0px 1px 3px 1px rgba(60, 64, 67, 0.15);\n",
              "      fill: #174EA6;\n",
              "    }\n",
              "\n",
              "    [theme=dark] .colab-df-convert {\n",
              "      background-color: #3B4455;\n",
              "      fill: #D2E3FC;\n",
              "    }\n",
              "\n",
              "    [theme=dark] .colab-df-convert:hover {\n",
              "      background-color: #434B5C;\n",
              "      box-shadow: 0px 1px 3px 1px rgba(0, 0, 0, 0.15);\n",
              "      filter: drop-shadow(0px 1px 2px rgba(0, 0, 0, 0.3));\n",
              "      fill: #FFFFFF;\n",
              "    }\n",
              "  </style>\n",
              "\n",
              "      <script>\n",
              "        const buttonEl =\n",
              "          document.querySelector('#df-d76be242-a696-456a-b8b9-0157e9c7f6fd button.colab-df-convert');\n",
              "        buttonEl.style.display =\n",
              "          google.colab.kernel.accessAllowed ? 'block' : 'none';\n",
              "\n",
              "        async function convertToInteractive(key) {\n",
              "          const element = document.querySelector('#df-d76be242-a696-456a-b8b9-0157e9c7f6fd');\n",
              "          const dataTable =\n",
              "            await google.colab.kernel.invokeFunction('convertToInteractive',\n",
              "                                                     [key], {});\n",
              "          if (!dataTable) return;\n",
              "\n",
              "          const docLinkHtml = 'Like what you see? Visit the ' +\n",
              "            '<a target=\"_blank\" href=https://colab.research.google.com/notebooks/data_table.ipynb>data table notebook</a>'\n",
              "            + ' to learn more about interactive tables.';\n",
              "          element.innerHTML = '';\n",
              "          dataTable['output_type'] = 'display_data';\n",
              "          await google.colab.output.renderOutput(dataTable, element);\n",
              "          const docLink = document.createElement('div');\n",
              "          docLink.innerHTML = docLinkHtml;\n",
              "          element.appendChild(docLink);\n",
              "        }\n",
              "      </script>\n",
              "    </div>\n",
              "  </div>\n",
              "  "
            ]
          },
          "metadata": {},
          "execution_count": 56
        }
      ]
    },
    {
      "cell_type": "markdown",
      "source": [
        "## Lemmatization"
      ],
      "metadata": {
        "id": "BJEadRfkRUOa"
      }
    },
    {
      "cell_type": "code",
      "source": [
        "df['Pre_Process_Terms'][16]"
      ],
      "metadata": {
        "colab": {
          "base_uri": "https://localhost:8080/",
          "height": 70
        },
        "id": "DC7V2aThStMR",
        "outputId": "a7792226-32a8-48a0-91a4-3a81314a613d"
      },
      "execution_count": null,
      "outputs": [
        {
          "output_type": "execute_result",
          "data": {
            "text/plain": [
              "'also process information across facebook companies purposes  permitted applicable law accordance terms policies . example  process information whatsapp accounts sending spam service take appropriate action accounts facebook  instagram messenger .'"
            ],
            "application/vnd.google.colaboratory.intrinsic+json": {
              "type": "string"
            }
          },
          "metadata": {},
          "execution_count": 57
        }
      ]
    },
    {
      "cell_type": "code",
      "source": [
        "import nltk\n",
        "nltk.download('wordnet')\n",
        "nltk.download('omw-1.4')"
      ],
      "metadata": {
        "colab": {
          "base_uri": "https://localhost:8080/"
        },
        "id": "zIlaISJxTd9H",
        "outputId": "4de3fd6c-fe64-4ad8-822b-9410f99dbe7a"
      },
      "execution_count": null,
      "outputs": [
        {
          "output_type": "stream",
          "name": "stderr",
          "text": [
            "[nltk_data] Downloading package wordnet to /root/nltk_data...\n",
            "[nltk_data] Downloading package omw-1.4 to /root/nltk_data...\n"
          ]
        },
        {
          "output_type": "execute_result",
          "data": {
            "text/plain": [
              "True"
            ]
          },
          "metadata": {},
          "execution_count": 58
        }
      ]
    },
    {
      "cell_type": "code",
      "source": [
        "from nltk.stem import WordNetLemmatizer\n",
        "lemmatizer = WordNetLemmatizer()\n",
        "def lemmatize_words(text):\n",
        "  return \" \".join([lemmatizer.lemmatize(word) for word in text.split()])"
      ],
      "metadata": {
        "id": "kn0cDz7lRYKJ"
      },
      "execution_count": null,
      "outputs": []
    },
    {
      "cell_type": "code",
      "source": [
        "lemmatizer.lemmatize(\"use\")"
      ],
      "metadata": {
        "colab": {
          "base_uri": "https://localhost:8080/",
          "height": 35
        },
        "id": "Jhxo840hUOPI",
        "outputId": "1b79abfd-1a53-4f37-ca96-55ed1e319bcf"
      },
      "execution_count": null,
      "outputs": [
        {
          "output_type": "execute_result",
          "data": {
            "text/plain": [
              "'use'"
            ],
            "application/vnd.google.colaboratory.intrinsic+json": {
              "type": "string"
            }
          },
          "metadata": {},
          "execution_count": 60
        }
      ]
    },
    {
      "cell_type": "code",
      "source": [
        "lemmatize_words(df['Pre_Process_Terms'][16])"
      ],
      "metadata": {
        "colab": {
          "base_uri": "https://localhost:8080/",
          "height": 70
        },
        "id": "yNep7FRvRYNf",
        "outputId": "70aba193-f3c2-4435-8545-656a62651a9f"
      },
      "execution_count": null,
      "outputs": [
        {
          "output_type": "execute_result",
          "data": {
            "text/plain": [
              "'also process information across facebook company purpose permitted applicable law accordance term policy . example process information whatsapp account sending spam service take appropriate action account facebook instagram messenger .'"
            ],
            "application/vnd.google.colaboratory.intrinsic+json": {
              "type": "string"
            }
          },
          "metadata": {},
          "execution_count": 61
        }
      ]
    },
    {
      "cell_type": "code",
      "source": [
        "df['Pre_Process_Terms'] = df['Pre_Process_Terms'].apply(lemmatize_words)"
      ],
      "metadata": {
        "id": "Rtoj6p6RRYUg"
      },
      "execution_count": null,
      "outputs": []
    },
    {
      "cell_type": "code",
      "source": [
        "df"
      ],
      "metadata": {
        "colab": {
          "base_uri": "https://localhost:8080/",
          "height": 468
        },
        "id": "YtqlvfOtT-Ey",
        "outputId": "1d607bdf-4fb4-42d9-f052-2d576ee9fb94"
      },
      "execution_count": null,
      "outputs": [
        {
          "output_type": "execute_result",
          "data": {
            "text/plain": [
              "                                         Original Terms  Score  \\\n",
              "0     Facebook uses cookies and receives information...      2   \n",
              "1     You give us permission to use your name and pr...      2   \n",
              "2     Our systems automatically process content and ...      2   \n",
              "3     You can review your Off-Facebook activity, whi...      2   \n",
              "4     The terms state: \"In addition, content you del...      2   \n",
              "...                                                 ...    ...   \n",
              "1064  We may associate activity and accounts under a...      1   \n",
              "1065  WE DO NOT REPRESENT, PROMISE, OR WARRANT THAT ...      1   \n",
              "1066  THE UNAUTHORIZED ACCESS TO YOUR ACCOUNT OR ANY...      1   \n",
              "1067  Provide location-based Services, advertising, ...      1   \n",
              "1069  TO THE FULLEST EXTENT PERMITTED BY LAW AND EXC...      1   \n",
              "\n",
              "                                      Pre_Process_Terms  \n",
              "0     facebook us cooky receives information visit s...  \n",
              "1     give u permission use name profile picture inf...  \n",
              "2     system automatically process content communica...  \n",
              "3     review offfacebook activity summary activity b...  \n",
              "4     term state addition content delete may continu...  \n",
              "...                                                 ...  \n",
              "1064  may associate activity account single user id....  \n",
              "1065  represent promise warrant service uninterrupte...  \n",
              "1066  unauthorized access account data maintained tr...  \n",
              "1067  provide locationbased service advertising sear...  \n",
              "1069  fullest extent permitted law except otherwise ...  \n",
              "\n",
              "[855 rows x 3 columns]"
            ],
            "text/html": [
              "\n",
              "  <div id=\"df-8d394fb6-dc96-466d-9463-e63cce4818b6\">\n",
              "    <div class=\"colab-df-container\">\n",
              "      <div>\n",
              "<style scoped>\n",
              "    .dataframe tbody tr th:only-of-type {\n",
              "        vertical-align: middle;\n",
              "    }\n",
              "\n",
              "    .dataframe tbody tr th {\n",
              "        vertical-align: top;\n",
              "    }\n",
              "\n",
              "    .dataframe thead th {\n",
              "        text-align: right;\n",
              "    }\n",
              "</style>\n",
              "<table border=\"1\" class=\"dataframe\">\n",
              "  <thead>\n",
              "    <tr style=\"text-align: right;\">\n",
              "      <th></th>\n",
              "      <th>Original Terms</th>\n",
              "      <th>Score</th>\n",
              "      <th>Pre_Process_Terms</th>\n",
              "    </tr>\n",
              "  </thead>\n",
              "  <tbody>\n",
              "    <tr>\n",
              "      <th>0</th>\n",
              "      <td>Facebook uses cookies and receives information...</td>\n",
              "      <td>2</td>\n",
              "      <td>facebook us cooky receives information visit s...</td>\n",
              "    </tr>\n",
              "    <tr>\n",
              "      <th>1</th>\n",
              "      <td>You give us permission to use your name and pr...</td>\n",
              "      <td>2</td>\n",
              "      <td>give u permission use name profile picture inf...</td>\n",
              "    </tr>\n",
              "    <tr>\n",
              "      <th>2</th>\n",
              "      <td>Our systems automatically process content and ...</td>\n",
              "      <td>2</td>\n",
              "      <td>system automatically process content communica...</td>\n",
              "    </tr>\n",
              "    <tr>\n",
              "      <th>3</th>\n",
              "      <td>You can review your Off-Facebook activity, whi...</td>\n",
              "      <td>2</td>\n",
              "      <td>review offfacebook activity summary activity b...</td>\n",
              "    </tr>\n",
              "    <tr>\n",
              "      <th>4</th>\n",
              "      <td>The terms state: \"In addition, content you del...</td>\n",
              "      <td>2</td>\n",
              "      <td>term state addition content delete may continu...</td>\n",
              "    </tr>\n",
              "    <tr>\n",
              "      <th>...</th>\n",
              "      <td>...</td>\n",
              "      <td>...</td>\n",
              "      <td>...</td>\n",
              "    </tr>\n",
              "    <tr>\n",
              "      <th>1064</th>\n",
              "      <td>We may associate activity and accounts under a...</td>\n",
              "      <td>1</td>\n",
              "      <td>may associate activity account single user id....</td>\n",
              "    </tr>\n",
              "    <tr>\n",
              "      <th>1065</th>\n",
              "      <td>WE DO NOT REPRESENT, PROMISE, OR WARRANT THAT ...</td>\n",
              "      <td>1</td>\n",
              "      <td>represent promise warrant service uninterrupte...</td>\n",
              "    </tr>\n",
              "    <tr>\n",
              "      <th>1066</th>\n",
              "      <td>THE UNAUTHORIZED ACCESS TO YOUR ACCOUNT OR ANY...</td>\n",
              "      <td>1</td>\n",
              "      <td>unauthorized access account data maintained tr...</td>\n",
              "    </tr>\n",
              "    <tr>\n",
              "      <th>1067</th>\n",
              "      <td>Provide location-based Services, advertising, ...</td>\n",
              "      <td>1</td>\n",
              "      <td>provide locationbased service advertising sear...</td>\n",
              "    </tr>\n",
              "    <tr>\n",
              "      <th>1069</th>\n",
              "      <td>TO THE FULLEST EXTENT PERMITTED BY LAW AND EXC...</td>\n",
              "      <td>1</td>\n",
              "      <td>fullest extent permitted law except otherwise ...</td>\n",
              "    </tr>\n",
              "  </tbody>\n",
              "</table>\n",
              "<p>855 rows × 3 columns</p>\n",
              "</div>\n",
              "      <button class=\"colab-df-convert\" onclick=\"convertToInteractive('df-8d394fb6-dc96-466d-9463-e63cce4818b6')\"\n",
              "              title=\"Convert this dataframe to an interactive table.\"\n",
              "              style=\"display:none;\">\n",
              "        \n",
              "  <svg xmlns=\"http://www.w3.org/2000/svg\" height=\"24px\"viewBox=\"0 0 24 24\"\n",
              "       width=\"24px\">\n",
              "    <path d=\"M0 0h24v24H0V0z\" fill=\"none\"/>\n",
              "    <path d=\"M18.56 5.44l.94 2.06.94-2.06 2.06-.94-2.06-.94-.94-2.06-.94 2.06-2.06.94zm-11 1L8.5 8.5l.94-2.06 2.06-.94-2.06-.94L8.5 2.5l-.94 2.06-2.06.94zm10 10l.94 2.06.94-2.06 2.06-.94-2.06-.94-.94-2.06-.94 2.06-2.06.94z\"/><path d=\"M17.41 7.96l-1.37-1.37c-.4-.4-.92-.59-1.43-.59-.52 0-1.04.2-1.43.59L10.3 9.45l-7.72 7.72c-.78.78-.78 2.05 0 2.83L4 21.41c.39.39.9.59 1.41.59.51 0 1.02-.2 1.41-.59l7.78-7.78 2.81-2.81c.8-.78.8-2.07 0-2.86zM5.41 20L4 18.59l7.72-7.72 1.47 1.35L5.41 20z\"/>\n",
              "  </svg>\n",
              "      </button>\n",
              "      \n",
              "  <style>\n",
              "    .colab-df-container {\n",
              "      display:flex;\n",
              "      flex-wrap:wrap;\n",
              "      gap: 12px;\n",
              "    }\n",
              "\n",
              "    .colab-df-convert {\n",
              "      background-color: #E8F0FE;\n",
              "      border: none;\n",
              "      border-radius: 50%;\n",
              "      cursor: pointer;\n",
              "      display: none;\n",
              "      fill: #1967D2;\n",
              "      height: 32px;\n",
              "      padding: 0 0 0 0;\n",
              "      width: 32px;\n",
              "    }\n",
              "\n",
              "    .colab-df-convert:hover {\n",
              "      background-color: #E2EBFA;\n",
              "      box-shadow: 0px 1px 2px rgba(60, 64, 67, 0.3), 0px 1px 3px 1px rgba(60, 64, 67, 0.15);\n",
              "      fill: #174EA6;\n",
              "    }\n",
              "\n",
              "    [theme=dark] .colab-df-convert {\n",
              "      background-color: #3B4455;\n",
              "      fill: #D2E3FC;\n",
              "    }\n",
              "\n",
              "    [theme=dark] .colab-df-convert:hover {\n",
              "      background-color: #434B5C;\n",
              "      box-shadow: 0px 1px 3px 1px rgba(0, 0, 0, 0.15);\n",
              "      filter: drop-shadow(0px 1px 2px rgba(0, 0, 0, 0.3));\n",
              "      fill: #FFFFFF;\n",
              "    }\n",
              "  </style>\n",
              "\n",
              "      <script>\n",
              "        const buttonEl =\n",
              "          document.querySelector('#df-8d394fb6-dc96-466d-9463-e63cce4818b6 button.colab-df-convert');\n",
              "        buttonEl.style.display =\n",
              "          google.colab.kernel.accessAllowed ? 'block' : 'none';\n",
              "\n",
              "        async function convertToInteractive(key) {\n",
              "          const element = document.querySelector('#df-8d394fb6-dc96-466d-9463-e63cce4818b6');\n",
              "          const dataTable =\n",
              "            await google.colab.kernel.invokeFunction('convertToInteractive',\n",
              "                                                     [key], {});\n",
              "          if (!dataTable) return;\n",
              "\n",
              "          const docLinkHtml = 'Like what you see? Visit the ' +\n",
              "            '<a target=\"_blank\" href=https://colab.research.google.com/notebooks/data_table.ipynb>data table notebook</a>'\n",
              "            + ' to learn more about interactive tables.';\n",
              "          element.innerHTML = '';\n",
              "          dataTable['output_type'] = 'display_data';\n",
              "          await google.colab.output.renderOutput(dataTable, element);\n",
              "          const docLink = document.createElement('div');\n",
              "          docLink.innerHTML = docLinkHtml;\n",
              "          element.appendChild(docLink);\n",
              "        }\n",
              "      </script>\n",
              "    </div>\n",
              "  </div>\n",
              "  "
            ]
          },
          "metadata": {},
          "execution_count": 63
        }
      ]
    },
    {
      "cell_type": "markdown",
      "source": [
        "## Stemming"
      ],
      "metadata": {
        "id": "iivkKGyV0_t4"
      }
    },
    {
      "cell_type": "code",
      "source": [
        "#from nltk.stem import PorterStemmer"
      ],
      "metadata": {
        "id": "7M0KnyHA0qmj"
      },
      "execution_count": null,
      "outputs": []
    },
    {
      "cell_type": "code",
      "source": [
        "# ps = PorterStemmer()\n",
        "# def stem_words(text):\n",
        "#     return \" \".join([ps.stem(word) for word in text.split()])"
      ],
      "metadata": {
        "id": "M_yertrg1LPC"
      },
      "execution_count": null,
      "outputs": []
    },
    {
      "cell_type": "code",
      "source": [
        "# df['Pre_Process_Terms'][2]"
      ],
      "metadata": {
        "id": "Umh6NmHv1LTT"
      },
      "execution_count": null,
      "outputs": []
    },
    {
      "cell_type": "code",
      "source": [
        "# stem_words(df['Pre_Process_Terms'][2])"
      ],
      "metadata": {
        "id": "vEjY1IaW1LXO"
      },
      "execution_count": null,
      "outputs": []
    },
    {
      "cell_type": "code",
      "source": [
        "# df['Pre_Process_Terms'] = df['Pre_Process_Terms'].apply(stem_words)"
      ],
      "metadata": {
        "id": "vsOKtLw31Lbb"
      },
      "execution_count": null,
      "outputs": []
    },
    {
      "cell_type": "code",
      "source": [
        "# df.head()"
      ],
      "metadata": {
        "id": "NH9uzi7K1TX4"
      },
      "execution_count": null,
      "outputs": []
    },
    {
      "cell_type": "markdown",
      "source": [
        "## Fullstop removal"
      ],
      "metadata": {
        "id": "QyQ6xNje1bn3"
      }
    },
    {
      "cell_type": "code",
      "source": [
        "df['Pre_Process_Terms'][11]"
      ],
      "metadata": {
        "colab": {
          "base_uri": "https://localhost:8080/",
          "height": 122
        },
        "id": "sjrutyqK1acQ",
        "outputId": "5a7e8185-0342-4920-ca00-3bc7bf3a4463"
      },
      "execution_count": null,
      "outputs": [
        {
          "output_type": "execute_result",
          "data": {
            "text/plain": [
              "'example go website button need know order show facebook friend liked site . data receive includes user id website re visiting date time browserrelated info.if logged facebook account visit website button another social plugin browser sends u limited set info . example logged facebook fewer cooky someone s logged . like site internet receive info web page re visiting date time browserrelated info . record info help u improve product . data policy indicates use cooky show ad facebook . may also use info receive visit site social plugins help u show interesting useful ad .'"
            ],
            "application/vnd.google.colaboratory.intrinsic+json": {
              "type": "string"
            }
          },
          "metadata": {},
          "execution_count": 70
        }
      ]
    },
    {
      "cell_type": "code",
      "source": [
        "def remove_fullstop(text):\n",
        "    return text.translate(str.maketrans('', '', '.'))"
      ],
      "metadata": {
        "id": "IRICNP9r10A9"
      },
      "execution_count": null,
      "outputs": []
    },
    {
      "cell_type": "code",
      "source": [
        "remove_fullstop(df['Pre_Process_Terms'][11])"
      ],
      "metadata": {
        "colab": {
          "base_uri": "https://localhost:8080/",
          "height": 104
        },
        "id": "EXImDM-C10En",
        "outputId": "5430625e-f9cd-40e0-c0c0-e718c73df138"
      },
      "execution_count": null,
      "outputs": [
        {
          "output_type": "execute_result",
          "data": {
            "text/plain": [
              "'example go website button need know order show facebook friend liked site  data receive includes user id website re visiting date time browserrelated infoif logged facebook account visit website button another social plugin browser sends u limited set info  example logged facebook fewer cooky someone s logged  like site internet receive info web page re visiting date time browserrelated info  record info help u improve product  data policy indicates use cooky show ad facebook  may also use info receive visit site social plugins help u show interesting useful ad '"
            ],
            "application/vnd.google.colaboratory.intrinsic+json": {
              "type": "string"
            }
          },
          "metadata": {},
          "execution_count": 72
        }
      ]
    },
    {
      "cell_type": "code",
      "source": [
        "df['Pre_Process_Terms'] = df['Pre_Process_Terms'].apply(remove_fullstop)"
      ],
      "metadata": {
        "id": "RlYJ1Q6510I0"
      },
      "execution_count": null,
      "outputs": []
    },
    {
      "cell_type": "code",
      "source": [
        "df.head()"
      ],
      "metadata": {
        "colab": {
          "base_uri": "https://localhost:8080/",
          "height": 206
        },
        "id": "UAoOQUVJ15GJ",
        "outputId": "db34ebda-4aec-4b27-ec5e-c686a7c2f8fe"
      },
      "execution_count": null,
      "outputs": [
        {
          "output_type": "execute_result",
          "data": {
            "text/plain": [
              "                                      Original Terms  Score  \\\n",
              "0  Facebook uses cookies and receives information...      2   \n",
              "1  You give us permission to use your name and pr...      2   \n",
              "2  Our systems automatically process content and ...      2   \n",
              "3  You can review your Off-Facebook activity, whi...      2   \n",
              "4  The terms state: \"In addition, content you del...      2   \n",
              "\n",
              "                                   Pre_Process_Terms  \n",
              "0  facebook us cooky receives information visit s...  \n",
              "1  give u permission use name profile picture inf...  \n",
              "2  system automatically process content communica...  \n",
              "3  review offfacebook activity summary activity b...  \n",
              "4  term state addition content delete may continu...  "
            ],
            "text/html": [
              "\n",
              "  <div id=\"df-f6720d3e-2a4b-4ec4-b4cd-0540af3dc81b\">\n",
              "    <div class=\"colab-df-container\">\n",
              "      <div>\n",
              "<style scoped>\n",
              "    .dataframe tbody tr th:only-of-type {\n",
              "        vertical-align: middle;\n",
              "    }\n",
              "\n",
              "    .dataframe tbody tr th {\n",
              "        vertical-align: top;\n",
              "    }\n",
              "\n",
              "    .dataframe thead th {\n",
              "        text-align: right;\n",
              "    }\n",
              "</style>\n",
              "<table border=\"1\" class=\"dataframe\">\n",
              "  <thead>\n",
              "    <tr style=\"text-align: right;\">\n",
              "      <th></th>\n",
              "      <th>Original Terms</th>\n",
              "      <th>Score</th>\n",
              "      <th>Pre_Process_Terms</th>\n",
              "    </tr>\n",
              "  </thead>\n",
              "  <tbody>\n",
              "    <tr>\n",
              "      <th>0</th>\n",
              "      <td>Facebook uses cookies and receives information...</td>\n",
              "      <td>2</td>\n",
              "      <td>facebook us cooky receives information visit s...</td>\n",
              "    </tr>\n",
              "    <tr>\n",
              "      <th>1</th>\n",
              "      <td>You give us permission to use your name and pr...</td>\n",
              "      <td>2</td>\n",
              "      <td>give u permission use name profile picture inf...</td>\n",
              "    </tr>\n",
              "    <tr>\n",
              "      <th>2</th>\n",
              "      <td>Our systems automatically process content and ...</td>\n",
              "      <td>2</td>\n",
              "      <td>system automatically process content communica...</td>\n",
              "    </tr>\n",
              "    <tr>\n",
              "      <th>3</th>\n",
              "      <td>You can review your Off-Facebook activity, whi...</td>\n",
              "      <td>2</td>\n",
              "      <td>review offfacebook activity summary activity b...</td>\n",
              "    </tr>\n",
              "    <tr>\n",
              "      <th>4</th>\n",
              "      <td>The terms state: \"In addition, content you del...</td>\n",
              "      <td>2</td>\n",
              "      <td>term state addition content delete may continu...</td>\n",
              "    </tr>\n",
              "  </tbody>\n",
              "</table>\n",
              "</div>\n",
              "      <button class=\"colab-df-convert\" onclick=\"convertToInteractive('df-f6720d3e-2a4b-4ec4-b4cd-0540af3dc81b')\"\n",
              "              title=\"Convert this dataframe to an interactive table.\"\n",
              "              style=\"display:none;\">\n",
              "        \n",
              "  <svg xmlns=\"http://www.w3.org/2000/svg\" height=\"24px\"viewBox=\"0 0 24 24\"\n",
              "       width=\"24px\">\n",
              "    <path d=\"M0 0h24v24H0V0z\" fill=\"none\"/>\n",
              "    <path d=\"M18.56 5.44l.94 2.06.94-2.06 2.06-.94-2.06-.94-.94-2.06-.94 2.06-2.06.94zm-11 1L8.5 8.5l.94-2.06 2.06-.94-2.06-.94L8.5 2.5l-.94 2.06-2.06.94zm10 10l.94 2.06.94-2.06 2.06-.94-2.06-.94-.94-2.06-.94 2.06-2.06.94z\"/><path d=\"M17.41 7.96l-1.37-1.37c-.4-.4-.92-.59-1.43-.59-.52 0-1.04.2-1.43.59L10.3 9.45l-7.72 7.72c-.78.78-.78 2.05 0 2.83L4 21.41c.39.39.9.59 1.41.59.51 0 1.02-.2 1.41-.59l7.78-7.78 2.81-2.81c.8-.78.8-2.07 0-2.86zM5.41 20L4 18.59l7.72-7.72 1.47 1.35L5.41 20z\"/>\n",
              "  </svg>\n",
              "      </button>\n",
              "      \n",
              "  <style>\n",
              "    .colab-df-container {\n",
              "      display:flex;\n",
              "      flex-wrap:wrap;\n",
              "      gap: 12px;\n",
              "    }\n",
              "\n",
              "    .colab-df-convert {\n",
              "      background-color: #E8F0FE;\n",
              "      border: none;\n",
              "      border-radius: 50%;\n",
              "      cursor: pointer;\n",
              "      display: none;\n",
              "      fill: #1967D2;\n",
              "      height: 32px;\n",
              "      padding: 0 0 0 0;\n",
              "      width: 32px;\n",
              "    }\n",
              "\n",
              "    .colab-df-convert:hover {\n",
              "      background-color: #E2EBFA;\n",
              "      box-shadow: 0px 1px 2px rgba(60, 64, 67, 0.3), 0px 1px 3px 1px rgba(60, 64, 67, 0.15);\n",
              "      fill: #174EA6;\n",
              "    }\n",
              "\n",
              "    [theme=dark] .colab-df-convert {\n",
              "      background-color: #3B4455;\n",
              "      fill: #D2E3FC;\n",
              "    }\n",
              "\n",
              "    [theme=dark] .colab-df-convert:hover {\n",
              "      background-color: #434B5C;\n",
              "      box-shadow: 0px 1px 3px 1px rgba(0, 0, 0, 0.15);\n",
              "      filter: drop-shadow(0px 1px 2px rgba(0, 0, 0, 0.3));\n",
              "      fill: #FFFFFF;\n",
              "    }\n",
              "  </style>\n",
              "\n",
              "      <script>\n",
              "        const buttonEl =\n",
              "          document.querySelector('#df-f6720d3e-2a4b-4ec4-b4cd-0540af3dc81b button.colab-df-convert');\n",
              "        buttonEl.style.display =\n",
              "          google.colab.kernel.accessAllowed ? 'block' : 'none';\n",
              "\n",
              "        async function convertToInteractive(key) {\n",
              "          const element = document.querySelector('#df-f6720d3e-2a4b-4ec4-b4cd-0540af3dc81b');\n",
              "          const dataTable =\n",
              "            await google.colab.kernel.invokeFunction('convertToInteractive',\n",
              "                                                     [key], {});\n",
              "          if (!dataTable) return;\n",
              "\n",
              "          const docLinkHtml = 'Like what you see? Visit the ' +\n",
              "            '<a target=\"_blank\" href=https://colab.research.google.com/notebooks/data_table.ipynb>data table notebook</a>'\n",
              "            + ' to learn more about interactive tables.';\n",
              "          element.innerHTML = '';\n",
              "          dataTable['output_type'] = 'display_data';\n",
              "          await google.colab.output.renderOutput(dataTable, element);\n",
              "          const docLink = document.createElement('div');\n",
              "          docLink.innerHTML = docLinkHtml;\n",
              "          element.appendChild(docLink);\n",
              "        }\n",
              "      </script>\n",
              "    </div>\n",
              "  </div>\n",
              "  "
            ]
          },
          "metadata": {},
          "execution_count": 74
        }
      ]
    },
    {
      "cell_type": "markdown",
      "source": [
        "# Analyzing Keywords"
      ],
      "metadata": {
        "id": "vlTdVp84HPDe"
      }
    },
    {
      "cell_type": "markdown",
      "source": [
        "## Wordcloud"
      ],
      "metadata": {
        "id": "MOI6ofA7HUy2"
      }
    },
    {
      "cell_type": "code",
      "source": [
        "#Wordcloud of good t&c\n",
        "from wordcloud import WordCloud\n",
        "wc = WordCloud(width=500,height=500,min_font_size=10,background_color='white')"
      ],
      "metadata": {
        "id": "vU9T72xx19PG"
      },
      "execution_count": null,
      "outputs": []
    },
    {
      "cell_type": "code",
      "source": [
        "good_tnc_wc = wc.generate(df[df['Score']==0]['Pre_Process_Terms'].str.cat(sep=\" \"))"
      ],
      "metadata": {
        "id": "Owx3fNgp1-hp"
      },
      "execution_count": null,
      "outputs": []
    },
    {
      "cell_type": "code",
      "source": [
        "plt.figure(figsize=(15,6))\n",
        "plt.imshow(good_tnc_wc)"
      ],
      "metadata": {
        "colab": {
          "base_uri": "https://localhost:8080/",
          "height": 395
        },
        "id": "HLcE5KUL1-kw",
        "outputId": "a190c922-5383-4016-9aa1-ecc3f7da0fae"
      },
      "execution_count": null,
      "outputs": [
        {
          "output_type": "execute_result",
          "data": {
            "text/plain": [
              "<matplotlib.image.AxesImage at 0x7f5da9d08150>"
            ]
          },
          "metadata": {},
          "execution_count": 77
        },
        {
          "output_type": "display_data",
          "data": {
            "text/plain": [
              "<Figure size 1080x432 with 1 Axes>"
            ],
            "image/png": "[encoded data removed]"
          },
          "metadata": {
            "needs_background": "light"
          }
        }
      ]
    },
    {
      "cell_type": "code",
      "source": [
        "medium_tnc_wc = wc.generate(df[df['Score']==1]['Pre_Process_Terms'].str.cat(sep=\" \"))"
      ],
      "metadata": {
        "id": "z2RWjQga1-oW"
      },
      "execution_count": null,
      "outputs": []
    },
    {
      "cell_type": "code",
      "source": [
        "plt.figure(figsize=(15,6))\n",
        "plt.imshow(medium_tnc_wc)"
      ],
      "metadata": {
        "colab": {
          "base_uri": "https://localhost:8080/",
          "height": 395
        },
        "id": "77XlyLQ11-tF",
        "outputId": "46240131-6497-4dbf-f891-4c724bfec2da"
      },
      "execution_count": null,
      "outputs": [
        {
          "output_type": "execute_result",
          "data": {
            "text/plain": [
              "<matplotlib.image.AxesImage at 0x7f5da9314b90>"
            ]
          },
          "metadata": {},
          "execution_count": 79
        },
        {
          "output_type": "display_data",
          "data": {
            "text/plain": [
              "<Figure size 1080x432 with 1 Axes>"
            ],
            "image/png": "[encoded data removed]"
          },
          "metadata": {
            "needs_background": "light"
          }
        }
      ]
    },
    {
      "cell_type": "code",
      "source": [
        "bad_tnc_wc = wc.generate(df[df['Score']==2]['Pre_Process_Terms'].str.cat(sep=\" \"))"
      ],
      "metadata": {
        "id": "bzEWU7pp1-xD"
      },
      "execution_count": null,
      "outputs": []
    },
    {
      "cell_type": "code",
      "source": [
        "plt.figure(figsize=(15,6))\n",
        "plt.imshow(bad_tnc_wc)"
      ],
      "metadata": {
        "colab": {
          "base_uri": "https://localhost:8080/",
          "height": 395
        },
        "id": "HbfqViR3Hlls",
        "outputId": "a78e2f2d-9cd4-4f1c-d789-9475a695c695"
      },
      "execution_count": null,
      "outputs": [
        {
          "output_type": "execute_result",
          "data": {
            "text/plain": [
              "<matplotlib.image.AxesImage at 0x7f5da94539d0>"
            ]
          },
          "metadata": {},
          "execution_count": 81
        },
        {
          "output_type": "display_data",
          "data": {
            "text/plain": [
              "<Figure size 1080x432 with 1 Axes>"
            ],
            "image/png": "[encoded data removed]"
          },
          "metadata": {
            "needs_background": "light"
          }
        }
      ]
    },
    {
      "cell_type": "markdown",
      "source": [
        "## Top 50 words in each type of conditions"
      ],
      "metadata": {
        "id": "NCx8m0G7Hp-3"
      }
    },
    {
      "cell_type": "code",
      "source": [
        "import seaborn as sns"
      ],
      "metadata": {
        "id": "LtgVtUVuIR79"
      },
      "execution_count": null,
      "outputs": []
    },
    {
      "cell_type": "code",
      "source": [
        "df.head()"
      ],
      "metadata": {
        "colab": {
          "base_uri": "https://localhost:8080/",
          "height": 206
        },
        "id": "uryMavwqHmAe",
        "outputId": "8a542c35-41a6-40db-ac67-23cb482ac688"
      },
      "execution_count": null,
      "outputs": [
        {
          "output_type": "execute_result",
          "data": {
            "text/plain": [
              "                                      Original Terms  Score  \\\n",
              "0  Facebook uses cookies and receives information...      2   \n",
              "1  You give us permission to use your name and pr...      2   \n",
              "2  Our systems automatically process content and ...      2   \n",
              "3  You can review your Off-Facebook activity, whi...      2   \n",
              "4  The terms state: \"In addition, content you del...      2   \n",
              "\n",
              "                                   Pre_Process_Terms  \n",
              "0  facebook us cooky receives information visit s...  \n",
              "1  give u permission use name profile picture inf...  \n",
              "2  system automatically process content communica...  \n",
              "3  review offfacebook activity summary activity b...  \n",
              "4  term state addition content delete may continu...  "
            ],
            "text/html": [
              "\n",
              "  <div id=\"df-d8a31422-2d68-490d-9d6a-8ed74ca9d4d9\">\n",
              "    <div class=\"colab-df-container\">\n",
              "      <div>\n",
              "<style scoped>\n",
              "    .dataframe tbody tr th:only-of-type {\n",
              "        vertical-align: middle;\n",
              "    }\n",
              "\n",
              "    .dataframe tbody tr th {\n",
              "        vertical-align: top;\n",
              "    }\n",
              "\n",
              "    .dataframe thead th {\n",
              "        text-align: right;\n",
              "    }\n",
              "</style>\n",
              "<table border=\"1\" class=\"dataframe\">\n",
              "  <thead>\n",
              "    <tr style=\"text-align: right;\">\n",
              "      <th></th>\n",
              "      <th>Original Terms</th>\n",
              "      <th>Score</th>\n",
              "      <th>Pre_Process_Terms</th>\n",
              "    </tr>\n",
              "  </thead>\n",
              "  <tbody>\n",
              "    <tr>\n",
              "      <th>0</th>\n",
              "      <td>Facebook uses cookies and receives information...</td>\n",
              "      <td>2</td>\n",
              "      <td>facebook us cooky receives information visit s...</td>\n",
              "    </tr>\n",
              "    <tr>\n",
              "      <th>1</th>\n",
              "      <td>You give us permission to use your name and pr...</td>\n",
              "      <td>2</td>\n",
              "      <td>give u permission use name profile picture inf...</td>\n",
              "    </tr>\n",
              "    <tr>\n",
              "      <th>2</th>\n",
              "      <td>Our systems automatically process content and ...</td>\n",
              "      <td>2</td>\n",
              "      <td>system automatically process content communica...</td>\n",
              "    </tr>\n",
              "    <tr>\n",
              "      <th>3</th>\n",
              "      <td>You can review your Off-Facebook activity, whi...</td>\n",
              "      <td>2</td>\n",
              "      <td>review offfacebook activity summary activity b...</td>\n",
              "    </tr>\n",
              "    <tr>\n",
              "      <th>4</th>\n",
              "      <td>The terms state: \"In addition, content you del...</td>\n",
              "      <td>2</td>\n",
              "      <td>term state addition content delete may continu...</td>\n",
              "    </tr>\n",
              "  </tbody>\n",
              "</table>\n",
              "</div>\n",
              "      <button class=\"colab-df-convert\" onclick=\"convertToInteractive('df-d8a31422-2d68-490d-9d6a-8ed74ca9d4d9')\"\n",
              "              title=\"Convert this dataframe to an interactive table.\"\n",
              "              style=\"display:none;\">\n",
              "        \n",
              "  <svg xmlns=\"http://www.w3.org/2000/svg\" height=\"24px\"viewBox=\"0 0 24 24\"\n",
              "       width=\"24px\">\n",
              "    <path d=\"M0 0h24v24H0V0z\" fill=\"none\"/>\n",
              "    <path d=\"M18.56 5.44l.94 2.06.94-2.06 2.06-.94-2.06-.94-.94-2.06-.94 2.06-2.06.94zm-11 1L8.5 8.5l.94-2.06 2.06-.94-2.06-.94L8.5 2.5l-.94 2.06-2.06.94zm10 10l.94 2.06.94-2.06 2.06-.94-2.06-.94-.94-2.06-.94 2.06-2.06.94z\"/><path d=\"M17.41 7.96l-1.37-1.37c-.4-.4-.92-.59-1.43-.59-.52 0-1.04.2-1.43.59L10.3 9.45l-7.72 7.72c-.78.78-.78 2.05 0 2.83L4 21.41c.39.39.9.59 1.41.59.51 0 1.02-.2 1.41-.59l7.78-7.78 2.81-2.81c.8-.78.8-2.07 0-2.86zM5.41 20L4 18.59l7.72-7.72 1.47 1.35L5.41 20z\"/>\n",
              "  </svg>\n",
              "      </button>\n",
              "      \n",
              "  <style>\n",
              "    .colab-df-container {\n",
              "      display:flex;\n",
              "      flex-wrap:wrap;\n",
              "      gap: 12px;\n",
              "    }\n",
              "\n",
              "    .colab-df-convert {\n",
              "      background-color: #E8F0FE;\n",
              "      border: none;\n",
              "      border-radius: 50%;\n",
              "      cursor: pointer;\n",
              "      display: none;\n",
              "      fill: #1967D2;\n",
              "      height: 32px;\n",
              "      padding: 0 0 0 0;\n",
              "      width: 32px;\n",
              "    }\n",
              "\n",
              "    .colab-df-convert:hover {\n",
              "      background-color: #E2EBFA;\n",
              "      box-shadow: 0px 1px 2px rgba(60, 64, 67, 0.3), 0px 1px 3px 1px rgba(60, 64, 67, 0.15);\n",
              "      fill: #174EA6;\n",
              "    }\n",
              "\n",
              "    [theme=dark] .colab-df-convert {\n",
              "      background-color: #3B4455;\n",
              "      fill: #D2E3FC;\n",
              "    }\n",
              "\n",
              "    [theme=dark] .colab-df-convert:hover {\n",
              "      background-color: #434B5C;\n",
              "      box-shadow: 0px 1px 3px 1px rgba(0, 0, 0, 0.15);\n",
              "      filter: drop-shadow(0px 1px 2px rgba(0, 0, 0, 0.3));\n",
              "      fill: #FFFFFF;\n",
              "    }\n",
              "  </style>\n",
              "\n",
              "      <script>\n",
              "        const buttonEl =\n",
              "          document.querySelector('#df-d8a31422-2d68-490d-9d6a-8ed74ca9d4d9 button.colab-df-convert');\n",
              "        buttonEl.style.display =\n",
              "          google.colab.kernel.accessAllowed ? 'block' : 'none';\n",
              "\n",
              "        async function convertToInteractive(key) {\n",
              "          const element = document.querySelector('#df-d8a31422-2d68-490d-9d6a-8ed74ca9d4d9');\n",
              "          const dataTable =\n",
              "            await google.colab.kernel.invokeFunction('convertToInteractive',\n",
              "                                                     [key], {});\n",
              "          if (!dataTable) return;\n",
              "\n",
              "          const docLinkHtml = 'Like what you see? Visit the ' +\n",
              "            '<a target=\"_blank\" href=https://colab.research.google.com/notebooks/data_table.ipynb>data table notebook</a>'\n",
              "            + ' to learn more about interactive tables.';\n",
              "          element.innerHTML = '';\n",
              "          dataTable['output_type'] = 'display_data';\n",
              "          await google.colab.output.renderOutput(dataTable, element);\n",
              "          const docLink = document.createElement('div');\n",
              "          docLink.innerHTML = docLinkHtml;\n",
              "          element.appendChild(docLink);\n",
              "        }\n",
              "      </script>\n",
              "    </div>\n",
              "  </div>\n",
              "  "
            ]
          },
          "metadata": {},
          "execution_count": 83
        }
      ]
    },
    {
      "cell_type": "code",
      "source": [
        "#Extracting top 50 words in bad tnc\n",
        "#Getting List of spam messages = df[df['Score'] == 2]['Pre_Process_Terms'].tolist()\n",
        "bad_tnc_corpus = []\n",
        "for msg in df[df['Score'] == 2]['Pre_Process_Terms'].tolist():\n",
        "    for word in msg.split():\n",
        "        bad_tnc_corpus.append(word)"
      ],
      "metadata": {
        "id": "opoVWgIKHmDW"
      },
      "execution_count": null,
      "outputs": []
    },
    {
      "cell_type": "code",
      "source": [
        "len(bad_tnc_corpus)"
      ],
      "metadata": {
        "colab": {
          "base_uri": "https://localhost:8080/"
        },
        "id": "NOKp3Xt2HmG_",
        "outputId": "6165cad0-eef7-4370-8a04-a18c08a230c2"
      },
      "execution_count": null,
      "outputs": [
        {
          "output_type": "execute_result",
          "data": {
            "text/plain": [
              "3584"
            ]
          },
          "metadata": {},
          "execution_count": 85
        }
      ]
    },
    {
      "cell_type": "code",
      "source": [
        "from collections import Counter\n",
        "sns.barplot(pd.DataFrame(Counter(bad_tnc_corpus).most_common(30))[0],pd.DataFrame(Counter(bad_tnc_corpus).most_common(30))[1])\n",
        "plt.xticks(rotation='vertical')\n",
        "plt.show()"
      ],
      "metadata": {
        "colab": {
          "base_uri": "https://localhost:8080/",
          "height": 382
        },
        "id": "61gI5v6THmJ_",
        "outputId": "570689a9-f271-4a9a-f59e-500e8a7b69ed"
      },
      "execution_count": null,
      "outputs": [
        {
          "output_type": "stream",
          "name": "stderr",
          "text": [
            "/usr/local/lib/python3.7/dist-packages/seaborn/_decorators.py:43: FutureWarning: Pass the following variables as keyword args: x, y. From version 0.12, the only valid positional argument will be `data`, and passing other arguments without an explicit keyword will result in an error or misinterpretation.\n",
            "  FutureWarning\n"
          ]
        },
        {
          "output_type": "display_data",
          "data": {
            "text/plain": [
              "<Figure size 432x288 with 1 Axes>"
            ],
            "image/png": "[encoded data removed]"
          },
          "metadata": {
            "needs_background": "light"
          }
        }
      ]
    },
    {
      "cell_type": "code",
      "source": [
        "#Extracting top 50 words in medium tnc\n",
        "#Getting List of medium tnc = df[df['Score'] == 1]['Pre_Process_Terms'].tolist()\n",
        "medium_tnc_corpus = []\n",
        "for msg in df[df['Score'] == 1]['Pre_Process_Terms'].tolist():\n",
        "    for word in msg.split():\n",
        "        medium_tnc_corpus.append(word)"
      ],
      "metadata": {
        "id": "Vz7NlanmHxuU"
      },
      "execution_count": null,
      "outputs": []
    },
    {
      "cell_type": "code",
      "source": [
        "len(medium_tnc_corpus)"
      ],
      "metadata": {
        "colab": {
          "base_uri": "https://localhost:8080/"
        },
        "id": "m5vbVzQ7HxxX",
        "outputId": "5891c522-2b2b-495b-b2da-64e85be3e225"
      },
      "execution_count": null,
      "outputs": [
        {
          "output_type": "execute_result",
          "data": {
            "text/plain": [
              "7762"
            ]
          },
          "metadata": {},
          "execution_count": 88
        }
      ]
    },
    {
      "cell_type": "code",
      "source": [
        "from collections import Counter\n",
        "sns.barplot(pd.DataFrame(Counter(medium_tnc_corpus).most_common(30))[0],pd.DataFrame(Counter(medium_tnc_corpus).most_common(30))[1])\n",
        "plt.xticks(rotation='vertical')\n",
        "plt.show()"
      ],
      "metadata": {
        "colab": {
          "base_uri": "https://localhost:8080/",
          "height": 382
        },
        "id": "6jC6FSizHx0h",
        "outputId": "78ca916f-3c87-457d-8d28-19db51673c4a"
      },
      "execution_count": null,
      "outputs": [
        {
          "output_type": "stream",
          "name": "stderr",
          "text": [
            "/usr/local/lib/python3.7/dist-packages/seaborn/_decorators.py:43: FutureWarning: Pass the following variables as keyword args: x, y. From version 0.12, the only valid positional argument will be `data`, and passing other arguments without an explicit keyword will result in an error or misinterpretation.\n",
            "  FutureWarning\n"
          ]
        },
        {
          "output_type": "display_data",
          "data": {
            "text/plain": [
              "<Figure size 432x288 with 1 Axes>"
            ],
            "image/png": "[encoded data removed]"
          },
          "metadata": {
            "needs_background": "light"
          }
        }
      ]
    },
    {
      "cell_type": "code",
      "source": [
        "#Extracting top 50 words in good tnc\n",
        "#Getting List of good tnc = df[df['Score'] == 0]['Pre_Process_Terms'].tolist()\n",
        "good_tnc_corpus = []\n",
        "for msg in df[df['Score'] == 0]['Pre_Process_Terms'].tolist():\n",
        "    for word in msg.split():\n",
        "        good_tnc_corpus.append(word)"
      ],
      "metadata": {
        "id": "IbK45RdLHx3N"
      },
      "execution_count": null,
      "outputs": []
    },
    {
      "cell_type": "code",
      "source": [
        "len(good_tnc_corpus)"
      ],
      "metadata": {
        "colab": {
          "base_uri": "https://localhost:8080/"
        },
        "id": "OOK65FLsHx6i",
        "outputId": "8b3ef2ef-e702-4049-e3ef-5bc8e8ee096b"
      },
      "execution_count": null,
      "outputs": [
        {
          "output_type": "execute_result",
          "data": {
            "text/plain": [
              "6520"
            ]
          },
          "metadata": {},
          "execution_count": 91
        }
      ]
    },
    {
      "cell_type": "code",
      "source": [
        "from collections import Counter\n",
        "sns.barplot(pd.DataFrame(Counter(good_tnc_corpus).most_common(30))[0],pd.DataFrame(Counter(good_tnc_corpus).most_common(30))[1])\n",
        "plt.xticks(rotation='vertical')\n",
        "plt.show()"
      ],
      "metadata": {
        "colab": {
          "base_uri": "https://localhost:8080/",
          "height": 382
        },
        "id": "6rfO0jeuHmN-",
        "outputId": "e8ef9f06-2804-4647-efa0-5e34550b62ff"
      },
      "execution_count": null,
      "outputs": [
        {
          "output_type": "stream",
          "name": "stderr",
          "text": [
            "/usr/local/lib/python3.7/dist-packages/seaborn/_decorators.py:43: FutureWarning: Pass the following variables as keyword args: x, y. From version 0.12, the only valid positional argument will be `data`, and passing other arguments without an explicit keyword will result in an error or misinterpretation.\n",
            "  FutureWarning\n"
          ]
        },
        {
          "output_type": "display_data",
          "data": {
            "text/plain": [
              "<Figure size 432x288 with 1 Axes>"
            ],
            "image/png": "[encoded data removed]"
          },
          "metadata": {
            "needs_background": "light"
          }
        }
      ]
    },
    {
      "cell_type": "markdown",
      "source": [
        "# Model Building"
      ],
      "metadata": {
        "id": "4ALkXz08IDey"
      }
    },
    {
      "cell_type": "code",
      "source": [
        "# Applying BoW\n",
        "from sklearn.feature_extraction.text import CountVectorizer,TfidfVectorizer"
      ],
      "metadata": {
        "id": "991UHwDSIFle"
      },
      "execution_count": null,
      "outputs": []
    },
    {
      "cell_type": "code",
      "source": [
        "vectorizer = CountVectorizer()\n",
        "#vectorizer = CountVectorizer(ngram_range = (1,2))\n",
        "#vectorizer = TfidfVectorizer()"
      ],
      "metadata": {
        "id": "z9OxVG2dIeQE"
      },
      "execution_count": null,
      "outputs": []
    },
    {
      "cell_type": "code",
      "source": [
        "X = vectorizer.fit_transform(df['Pre_Process_Terms']).toarray()"
      ],
      "metadata": {
        "id": "3Uchz0H2IeS_"
      },
      "execution_count": null,
      "outputs": []
    },
    {
      "cell_type": "code",
      "source": [
        "# #Using MinMax Scaler beacuse naive_bayes don't accpet negative values.\n",
        "# from sklearn.preprocessing import MinMaxScaler\n",
        "# scaler = MinMaxScaler()\n",
        "# X = scaler.fit_transform(X)\n",
        "# #After scaling go to temp_df2"
      ],
      "metadata": {
        "id": "tA_4rwWTIeWJ"
      },
      "execution_count": null,
      "outputs": []
    },
    {
      "cell_type": "code",
      "source": [
        "X.shape"
      ],
      "metadata": {
        "colab": {
          "base_uri": "https://localhost:8080/"
        },
        "id": "Zdkf3MU6IeZZ",
        "outputId": "6ce0fe22-015f-40fa-f48b-b0e2d5e26e8d"
      },
      "execution_count": null,
      "outputs": [
        {
          "output_type": "execute_result",
          "data": {
            "text/plain": [
              "(855, 2504)"
            ]
          },
          "metadata": {},
          "execution_count": 97
        }
      ]
    },
    {
      "cell_type": "code",
      "source": [
        "y = df['Score'].values"
      ],
      "metadata": {
        "id": "3XdM_fZkIech"
      },
      "execution_count": null,
      "outputs": []
    },
    {
      "cell_type": "code",
      "source": [
        "from sklearn.model_selection import train_test_split"
      ],
      "metadata": {
        "id": "nqhit2qTIvHk"
      },
      "execution_count": null,
      "outputs": []
    },
    {
      "cell_type": "code",
      "source": [
        "X_train,X_test,y_train,y_test = train_test_split(X,y,test_size=0.2,random_state=2)"
      ],
      "metadata": {
        "id": "pwT8bh_wIvK8"
      },
      "execution_count": null,
      "outputs": []
    },
    {
      "cell_type": "code",
      "source": [
        "X_train.shape"
      ],
      "metadata": {
        "colab": {
          "base_uri": "https://localhost:8080/"
        },
        "id": "38qFOpqZIvOq",
        "outputId": "550a716b-1f9d-49ca-80ab-41c8a8ae458d"
      },
      "execution_count": null,
      "outputs": [
        {
          "output_type": "execute_result",
          "data": {
            "text/plain": [
              "(684, 2504)"
            ]
          },
          "metadata": {},
          "execution_count": 101
        }
      ]
    },
    {
      "cell_type": "markdown",
      "source": [
        "## Naive Bayes Variant"
      ],
      "metadata": {
        "id": "D59B1vqbJADS"
      }
    },
    {
      "cell_type": "code",
      "source": [
        "from sklearn.naive_bayes import GaussianNB,MultinomialNB,BernoulliNB\n",
        "from sklearn.metrics import accuracy_score,confusion_matrix,precision_score"
      ],
      "metadata": {
        "id": "wfBX3psQIvRl"
      },
      "execution_count": null,
      "outputs": []
    },
    {
      "cell_type": "code",
      "source": [
        "gnb = GaussianNB()\n",
        "mnb = MultinomialNB()\n",
        "bnb = BernoulliNB()"
      ],
      "metadata": {
        "id": "NGK7s0WwIvVQ"
      },
      "execution_count": null,
      "outputs": []
    },
    {
      "cell_type": "code",
      "source": [
        "gnb.fit(X_train,y_train)\n",
        "y_pred_gnb = gnb.predict(X_test)\n",
        "print(accuracy_score(y_test,y_pred_gnb))\n",
        "print(confusion_matrix(y_test,y_pred_gnb))\n",
        "print(precision_score(y_test,y_pred_gnb,average='micro'))"
      ],
      "metadata": {
        "colab": {
          "base_uri": "https://localhost:8080/"
        },
        "id": "yyFqkX3WIvYW",
        "outputId": "3f65dffa-f2a4-4f13-e8ba-3e7ee30eb58b"
      },
      "execution_count": null,
      "outputs": [
        {
          "output_type": "stream",
          "name": "stdout",
          "text": [
            "0.5906432748538012\n",
            "[[40  8 21]\n",
            " [15 44 15]\n",
            " [ 7  4 17]]\n",
            "0.5906432748538012\n"
          ]
        }
      ]
    },
    {
      "cell_type": "code",
      "source": [
        "mnb.fit(X_train,y_train)\n",
        "y_pred_mnb = mnb.predict(X_test)\n",
        "print(accuracy_score(y_test,y_pred_mnb))\n",
        "print(confusion_matrix(y_test,y_pred_mnb))\n",
        "print(precision_score(y_test,y_pred_mnb,average='micro'))"
      ],
      "metadata": {
        "colab": {
          "base_uri": "https://localhost:8080/"
        },
        "id": "1T8BmkiEJFgV",
        "outputId": "2cb0eaa9-2e57-49d4-c2d9-971a3767a7b5"
      },
      "execution_count": null,
      "outputs": [
        {
          "output_type": "stream",
          "name": "stdout",
          "text": [
            "0.631578947368421\n",
            "[[39 20 10]\n",
            " [14 51  9]\n",
            " [ 5  5 18]]\n",
            "0.631578947368421\n"
          ]
        }
      ]
    },
    {
      "cell_type": "code",
      "source": [
        "bnb.fit(X_train,y_train)\n",
        "y_pred_bnb = bnb.predict(X_test)\n",
        "print(accuracy_score(y_test,y_pred_bnb))\n",
        "print(confusion_matrix(y_test,y_pred_bnb))\n",
        "print(precision_score(y_test,y_pred_bnb,average='micro'))"
      ],
      "metadata": {
        "colab": {
          "base_uri": "https://localhost:8080/"
        },
        "id": "061K-dJiJFjm",
        "outputId": "2e9d6fd8-a92a-422b-d567-d15fc2f6aae9"
      },
      "execution_count": null,
      "outputs": [
        {
          "output_type": "stream",
          "name": "stdout",
          "text": [
            "0.6608187134502924\n",
            "[[60  7  2]\n",
            " [31 41  2]\n",
            " [10  6 12]]\n",
            "0.6608187134502924\n"
          ]
        }
      ]
    },
    {
      "cell_type": "markdown",
      "source": [
        "## Applying all classification algorithms"
      ],
      "metadata": {
        "id": "vdNPmBNxJUsU"
      }
    },
    {
      "cell_type": "code",
      "source": [
        "from sklearn.linear_model import LogisticRegression\n",
        "from sklearn.svm import SVC\n",
        "from sklearn.naive_bayes import MultinomialNB\n",
        "from sklearn.tree import DecisionTreeClassifier\n",
        "from sklearn.neighbors import KNeighborsClassifier\n",
        "from sklearn.ensemble import RandomForestClassifier\n",
        "from sklearn.ensemble import AdaBoostClassifier\n",
        "from sklearn.ensemble import BaggingClassifier\n",
        "from sklearn.ensemble import ExtraTreesClassifier\n",
        "from sklearn.ensemble import GradientBoostingClassifier\n",
        "from xgboost import XGBClassifier"
      ],
      "metadata": {
        "id": "AR6Nv4OwJFnB"
      },
      "execution_count": null,
      "outputs": []
    },
    {
      "cell_type": "code",
      "source": [
        "svc = SVC(kernel='sigmoid',gamma=1.0)\n",
        "knc = KNeighborsClassifier()\n",
        "mnb = MultinomialNB()\n",
        "dtc = DecisionTreeClassifier(max_depth=5)\n",
        "lrc = LogisticRegression(multi_class='multinomial',solver='lbfgs',penalty='l2')\n",
        "rfc = RandomForestClassifier(n_estimators=50,random_state=2)\n",
        "abc = AdaBoostClassifier(n_estimators=50,random_state=2)\n",
        "bc = BaggingClassifier(n_estimators=50,random_state=2)\n",
        "etc = ExtraTreesClassifier(n_estimators=50,random_state=2)\n",
        "gbdt = GradientBoostingClassifier(n_estimators=50,random_state=2)\n",
        "xgb = XGBClassifier(n_estimators=50,random_state=2)"
      ],
      "metadata": {
        "id": "PlLQesRSJXx3"
      },
      "execution_count": null,
      "outputs": []
    },
    {
      "cell_type": "code",
      "source": [
        "clfs = {\n",
        "    'SVC' : svc,\n",
        "    'KN' : knc,\n",
        "    'NB' : mnb,\n",
        "    'DT' : dtc,\n",
        "    'LR' : lrc,\n",
        "    'RF' : rfc,\n",
        "    'AdaBoost' : abc,\n",
        "    'BgC' : bc,\n",
        "    'ETC' : etc,\n",
        "    'GBDT' : gbdt,\n",
        "    'XGB' : xgb\n",
        "}"
      ],
      "metadata": {
        "id": "qHve55WOJX1A"
      },
      "execution_count": null,
      "outputs": []
    },
    {
      "cell_type": "code",
      "source": [
        "def train_classifier(clf,X_train,y_train,X_test,y_test):\n",
        "    clf.fit(X_train,y_train)\n",
        "    y_pred = clf.predict(X_test)\n",
        "    accuracy = accuracy_score(y_test,y_pred)\n",
        "    precision = precision_score(y_test,y_pred,average='micro')\n",
        "    \n",
        "    return accuracy,precision"
      ],
      "metadata": {
        "id": "l4RWZHOlJX3m"
      },
      "execution_count": null,
      "outputs": []
    },
    {
      "cell_type": "code",
      "source": [
        "train_classifier(svc,X_train,y_train,X_test,y_test)"
      ],
      "metadata": {
        "colab": {
          "base_uri": "https://localhost:8080/"
        },
        "id": "Ep67OKEGJFqa",
        "outputId": "7993e10b-83f9-45d2-eec1-38bacd00e0a5"
      },
      "execution_count": null,
      "outputs": [
        {
          "output_type": "execute_result",
          "data": {
            "text/plain": [
              "(0.3567251461988304, 0.3567251461988304)"
            ]
          },
          "metadata": {},
          "execution_count": 111
        }
      ]
    },
    {
      "cell_type": "code",
      "source": [
        "accuracy_scores = []\n",
        "precision_scores = []\n",
        "\n",
        "for name,clf in clfs.items():\n",
        "    \n",
        "    current_accuracy, current_precision = train_classifier(clf,X_train,y_train,X_test,y_test)\n",
        "    \n",
        "    print(\"For \",name)\n",
        "    print(\"Accuracy - \",current_accuracy)\n",
        "    print(\"Precision - \",current_precision)\n",
        "    \n",
        "    accuracy_scores.append(current_accuracy)\n",
        "    precision_scores.append(current_precision)"
      ],
      "metadata": {
        "colab": {
          "base_uri": "https://localhost:8080/"
        },
        "id": "gMRIeVS_IegQ",
        "outputId": "f1ab7f0a-3f1c-4194-e918-8a5ce4400aa0"
      },
      "execution_count": null,
      "outputs": [
        {
          "output_type": "stream",
          "name": "stdout",
          "text": [
            "For  SVC\n",
            "Accuracy -  0.3567251461988304\n",
            "Precision -  0.3567251461988304\n",
            "For  KN\n",
            "Accuracy -  0.5380116959064327\n",
            "Precision -  0.5380116959064327\n",
            "For  NB\n",
            "Accuracy -  0.631578947368421\n",
            "Precision -  0.631578947368421\n",
            "For  DT\n",
            "Accuracy -  0.5497076023391813\n",
            "Precision -  0.5497076023391813\n",
            "For  LR\n",
            "Accuracy -  0.7251461988304093\n",
            "Precision -  0.7251461988304093\n",
            "For  RF\n",
            "Accuracy -  0.695906432748538\n",
            "Precision -  0.695906432748538\n",
            "For  AdaBoost\n",
            "Accuracy -  0.5789473684210527\n",
            "Precision -  0.5789473684210527\n",
            "For  BgC\n",
            "Accuracy -  0.672514619883041\n",
            "Precision -  0.672514619883041\n",
            "For  ETC\n",
            "Accuracy -  0.7134502923976608\n",
            "Precision -  0.7134502923976608\n",
            "For  GBDT\n",
            "Accuracy -  0.672514619883041\n",
            "Precision -  0.672514619883041\n",
            "For  XGB\n",
            "Accuracy -  0.6374269005847953\n",
            "Precision -  0.6374269005847953\n"
          ]
        }
      ]
    },
    {
      "cell_type": "markdown",
      "source": [
        "# Evaluation"
      ],
      "metadata": {
        "id": "7w9iKv3iJoGB"
      }
    },
    {
      "cell_type": "code",
      "source": [
        "performance_df = pd.DataFrame({'Algorithm':clfs.keys(),'Accuracy':accuracy_scores,'Precision':precision_scores}).sort_values('Precision',ascending=False)"
      ],
      "metadata": {
        "id": "8DBaem0xJocC"
      },
      "execution_count": null,
      "outputs": []
    },
    {
      "cell_type": "code",
      "source": [
        "performance_df"
      ],
      "metadata": {
        "colab": {
          "base_uri": "https://localhost:8080/",
          "height": 394
        },
        "id": "G1l6Nhz1JosV",
        "outputId": "8cda228f-f7b8-4c72-9efc-a57f43a90db2"
      },
      "execution_count": null,
      "outputs": [
        {
          "output_type": "execute_result",
          "data": {
            "text/plain": [
              "   Algorithm  Accuracy  Precision\n",
              "4         LR  0.725146   0.725146\n",
              "8        ETC  0.713450   0.713450\n",
              "5         RF  0.695906   0.695906\n",
              "7        BgC  0.672515   0.672515\n",
              "9       GBDT  0.672515   0.672515\n",
              "10       XGB  0.637427   0.637427\n",
              "2         NB  0.631579   0.631579\n",
              "6   AdaBoost  0.578947   0.578947\n",
              "3         DT  0.549708   0.549708\n",
              "1         KN  0.538012   0.538012\n",
              "0        SVC  0.356725   0.356725"
            ],
            "text/html": [
              "\n",
              "  <div id=\"df-078286a7-f236-4ba5-ad7d-bc4a19217929\">\n",
              "    <div class=\"colab-df-container\">\n",
              "      <div>\n",
              "<style scoped>\n",
              "    .dataframe tbody tr th:only-of-type {\n",
              "        vertical-align: middle;\n",
              "    }\n",
              "\n",
              "    .dataframe tbody tr th {\n",
              "        vertical-align: top;\n",
              "    }\n",
              "\n",
              "    .dataframe thead th {\n",
              "        text-align: right;\n",
              "    }\n",
              "</style>\n",
              "<table border=\"1\" class=\"dataframe\">\n",
              "  <thead>\n",
              "    <tr style=\"text-align: right;\">\n",
              "      <th></th>\n",
              "      <th>Algorithm</th>\n",
              "      <th>Accuracy</th>\n",
              "      <th>Precision</th>\n",
              "    </tr>\n",
              "  </thead>\n",
              "  <tbody>\n",
              "    <tr>\n",
              "      <th>4</th>\n",
              "      <td>LR</td>\n",
              "      <td>0.725146</td>\n",
              "      <td>0.725146</td>\n",
              "    </tr>\n",
              "    <tr>\n",
              "      <th>8</th>\n",
              "      <td>ETC</td>\n",
              "      <td>0.713450</td>\n",
              "      <td>0.713450</td>\n",
              "    </tr>\n",
              "    <tr>\n",
              "      <th>5</th>\n",
              "      <td>RF</td>\n",
              "      <td>0.695906</td>\n",
              "      <td>0.695906</td>\n",
              "    </tr>\n",
              "    <tr>\n",
              "      <th>7</th>\n",
              "      <td>BgC</td>\n",
              "      <td>0.672515</td>\n",
              "      <td>0.672515</td>\n",
              "    </tr>\n",
              "    <tr>\n",
              "      <th>9</th>\n",
              "      <td>GBDT</td>\n",
              "      <td>0.672515</td>\n",
              "      <td>0.672515</td>\n",
              "    </tr>\n",
              "    <tr>\n",
              "      <th>10</th>\n",
              "      <td>XGB</td>\n",
              "      <td>0.637427</td>\n",
              "      <td>0.637427</td>\n",
              "    </tr>\n",
              "    <tr>\n",
              "      <th>2</th>\n",
              "      <td>NB</td>\n",
              "      <td>0.631579</td>\n",
              "      <td>0.631579</td>\n",
              "    </tr>\n",
              "    <tr>\n",
              "      <th>6</th>\n",
              "      <td>AdaBoost</td>\n",
              "      <td>0.578947</td>\n",
              "      <td>0.578947</td>\n",
              "    </tr>\n",
              "    <tr>\n",
              "      <th>3</th>\n",
              "      <td>DT</td>\n",
              "      <td>0.549708</td>\n",
              "      <td>0.549708</td>\n",
              "    </tr>\n",
              "    <tr>\n",
              "      <th>1</th>\n",
              "      <td>KN</td>\n",
              "      <td>0.538012</td>\n",
              "      <td>0.538012</td>\n",
              "    </tr>\n",
              "    <tr>\n",
              "      <th>0</th>\n",
              "      <td>SVC</td>\n",
              "      <td>0.356725</td>\n",
              "      <td>0.356725</td>\n",
              "    </tr>\n",
              "  </tbody>\n",
              "</table>\n",
              "</div>\n",
              "      <button class=\"colab-df-convert\" onclick=\"convertToInteractive('df-078286a7-f236-4ba5-ad7d-bc4a19217929')\"\n",
              "              title=\"Convert this dataframe to an interactive table.\"\n",
              "              style=\"display:none;\">\n",
              "        \n",
              "  <svg xmlns=\"http://www.w3.org/2000/svg\" height=\"24px\"viewBox=\"0 0 24 24\"\n",
              "       width=\"24px\">\n",
              "    <path d=\"M0 0h24v24H0V0z\" fill=\"none\"/>\n",
              "    <path d=\"M18.56 5.44l.94 2.06.94-2.06 2.06-.94-2.06-.94-.94-2.06-.94 2.06-2.06.94zm-11 1L8.5 8.5l.94-2.06 2.06-.94-2.06-.94L8.5 2.5l-.94 2.06-2.06.94zm10 10l.94 2.06.94-2.06 2.06-.94-2.06-.94-.94-2.06-.94 2.06-2.06.94z\"/><path d=\"M17.41 7.96l-1.37-1.37c-.4-.4-.92-.59-1.43-.59-.52 0-1.04.2-1.43.59L10.3 9.45l-7.72 7.72c-.78.78-.78 2.05 0 2.83L4 21.41c.39.39.9.59 1.41.59.51 0 1.02-.2 1.41-.59l7.78-7.78 2.81-2.81c.8-.78.8-2.07 0-2.86zM5.41 20L4 18.59l7.72-7.72 1.47 1.35L5.41 20z\"/>\n",
              "  </svg>\n",
              "      </button>\n",
              "      \n",
              "  <style>\n",
              "    .colab-df-container {\n",
              "      display:flex;\n",
              "      flex-wrap:wrap;\n",
              "      gap: 12px;\n",
              "    }\n",
              "\n",
              "    .colab-df-convert {\n",
              "      background-color: #E8F0FE;\n",
              "      border: none;\n",
              "      border-radius: 50%;\n",
              "      cursor: pointer;\n",
              "      display: none;\n",
              "      fill: #1967D2;\n",
              "      height: 32px;\n",
              "      padding: 0 0 0 0;\n",
              "      width: 32px;\n",
              "    }\n",
              "\n",
              "    .colab-df-convert:hover {\n",
              "      background-color: #E2EBFA;\n",
              "      box-shadow: 0px 1px 2px rgba(60, 64, 67, 0.3), 0px 1px 3px 1px rgba(60, 64, 67, 0.15);\n",
              "      fill: #174EA6;\n",
              "    }\n",
              "\n",
              "    [theme=dark] .colab-df-convert {\n",
              "      background-color: #3B4455;\n",
              "      fill: #D2E3FC;\n",
              "    }\n",
              "\n",
              "    [theme=dark] .colab-df-convert:hover {\n",
              "      background-color: #434B5C;\n",
              "      box-shadow: 0px 1px 3px 1px rgba(0, 0, 0, 0.15);\n",
              "      filter: drop-shadow(0px 1px 2px rgba(0, 0, 0, 0.3));\n",
              "      fill: #FFFFFF;\n",
              "    }\n",
              "  </style>\n",
              "\n",
              "      <script>\n",
              "        const buttonEl =\n",
              "          document.querySelector('#df-078286a7-f236-4ba5-ad7d-bc4a19217929 button.colab-df-convert');\n",
              "        buttonEl.style.display =\n",
              "          google.colab.kernel.accessAllowed ? 'block' : 'none';\n",
              "\n",
              "        async function convertToInteractive(key) {\n",
              "          const element = document.querySelector('#df-078286a7-f236-4ba5-ad7d-bc4a19217929');\n",
              "          const dataTable =\n",
              "            await google.colab.kernel.invokeFunction('convertToInteractive',\n",
              "                                                     [key], {});\n",
              "          if (!dataTable) return;\n",
              "\n",
              "          const docLinkHtml = 'Like what you see? Visit the ' +\n",
              "            '<a target=\"_blank\" href=https://colab.research.google.com/notebooks/data_table.ipynb>data table notebook</a>'\n",
              "            + ' to learn more about interactive tables.';\n",
              "          element.innerHTML = '';\n",
              "          dataTable['output_type'] = 'display_data';\n",
              "          await google.colab.output.renderOutput(dataTable, element);\n",
              "          const docLink = document.createElement('div');\n",
              "          docLink.innerHTML = docLinkHtml;\n",
              "          element.appendChild(docLink);\n",
              "        }\n",
              "      </script>\n",
              "    </div>\n",
              "  </div>\n",
              "  "
            ]
          },
          "metadata": {},
          "execution_count": 114
        }
      ]
    },
    {
      "cell_type": "code",
      "source": [
        "performance_df1 = pd.melt(performance_df, id_vars='Algorithm')"
      ],
      "metadata": {
        "id": "-N_Mt4YuJovN"
      },
      "execution_count": null,
      "outputs": []
    },
    {
      "cell_type": "code",
      "source": [
        "performance_df1"
      ],
      "metadata": {
        "colab": {
          "base_uri": "https://localhost:8080/",
          "height": 739
        },
        "id": "JIrFw-3uJoyA",
        "outputId": "2f726a24-d7ef-43ca-eff4-bbabe74266e2"
      },
      "execution_count": null,
      "outputs": [
        {
          "output_type": "execute_result",
          "data": {
            "text/plain": [
              "   Algorithm   variable     value\n",
              "0         LR   Accuracy  0.725146\n",
              "1        ETC   Accuracy  0.713450\n",
              "2         RF   Accuracy  0.695906\n",
              "3        BgC   Accuracy  0.672515\n",
              "4       GBDT   Accuracy  0.672515\n",
              "5        XGB   Accuracy  0.637427\n",
              "6         NB   Accuracy  0.631579\n",
              "7   AdaBoost   Accuracy  0.578947\n",
              "8         DT   Accuracy  0.549708\n",
              "9         KN   Accuracy  0.538012\n",
              "10       SVC   Accuracy  0.356725\n",
              "11        LR  Precision  0.725146\n",
              "12       ETC  Precision  0.713450\n",
              "13        RF  Precision  0.695906\n",
              "14       BgC  Precision  0.672515\n",
              "15      GBDT  Precision  0.672515\n",
              "16       XGB  Precision  0.637427\n",
              "17        NB  Precision  0.631579\n",
              "18  AdaBoost  Precision  0.578947\n",
              "19        DT  Precision  0.549708\n",
              "20        KN  Precision  0.538012\n",
              "21       SVC  Precision  0.356725"
            ],
            "text/html": [
              "\n",
              "  <div id=\"df-cb6502bb-3c42-465e-94ee-707e415e0356\">\n",
              "    <div class=\"colab-df-container\">\n",
              "      <div>\n",
              "<style scoped>\n",
              "    .dataframe tbody tr th:only-of-type {\n",
              "        vertical-align: middle;\n",
              "    }\n",
              "\n",
              "    .dataframe tbody tr th {\n",
              "        vertical-align: top;\n",
              "    }\n",
              "\n",
              "    .dataframe thead th {\n",
              "        text-align: right;\n",
              "    }\n",
              "</style>\n",
              "<table border=\"1\" class=\"dataframe\">\n",
              "  <thead>\n",
              "    <tr style=\"text-align: right;\">\n",
              "      <th></th>\n",
              "      <th>Algorithm</th>\n",
              "      <th>variable</th>\n",
              "      <th>value</th>\n",
              "    </tr>\n",
              "  </thead>\n",
              "  <tbody>\n",
              "    <tr>\n",
              "      <th>0</th>\n",
              "      <td>LR</td>\n",
              "      <td>Accuracy</td>\n",
              "      <td>0.725146</td>\n",
              "    </tr>\n",
              "    <tr>\n",
              "      <th>1</th>\n",
              "      <td>ETC</td>\n",
              "      <td>Accuracy</td>\n",
              "      <td>0.713450</td>\n",
              "    </tr>\n",
              "    <tr>\n",
              "      <th>2</th>\n",
              "      <td>RF</td>\n",
              "      <td>Accuracy</td>\n",
              "      <td>0.695906</td>\n",
              "    </tr>\n",
              "    <tr>\n",
              "      <th>3</th>\n",
              "      <td>BgC</td>\n",
              "      <td>Accuracy</td>\n",
              "      <td>0.672515</td>\n",
              "    </tr>\n",
              "    <tr>\n",
              "      <th>4</th>\n",
              "      <td>GBDT</td>\n",
              "      <td>Accuracy</td>\n",
              "      <td>0.672515</td>\n",
              "    </tr>\n",
              "    <tr>\n",
              "      <th>5</th>\n",
              "      <td>XGB</td>\n",
              "      <td>Accuracy</td>\n",
              "      <td>0.637427</td>\n",
              "    </tr>\n",
              "    <tr>\n",
              "      <th>6</th>\n",
              "      <td>NB</td>\n",
              "      <td>Accuracy</td>\n",
              "      <td>0.631579</td>\n",
              "    </tr>\n",
              "    <tr>\n",
              "      <th>7</th>\n",
              "      <td>AdaBoost</td>\n",
              "      <td>Accuracy</td>\n",
              "      <td>0.578947</td>\n",
              "    </tr>\n",
              "    <tr>\n",
              "      <th>8</th>\n",
              "      <td>DT</td>\n",
              "      <td>Accuracy</td>\n",
              "      <td>0.549708</td>\n",
              "    </tr>\n",
              "    <tr>\n",
              "      <th>9</th>\n",
              "      <td>KN</td>\n",
              "      <td>Accuracy</td>\n",
              "      <td>0.538012</td>\n",
              "    </tr>\n",
              "    <tr>\n",
              "      <th>10</th>\n",
              "      <td>SVC</td>\n",
              "      <td>Accuracy</td>\n",
              "      <td>0.356725</td>\n",
              "    </tr>\n",
              "    <tr>\n",
              "      <th>11</th>\n",
              "      <td>LR</td>\n",
              "      <td>Precision</td>\n",
              "      <td>0.725146</td>\n",
              "    </tr>\n",
              "    <tr>\n",
              "      <th>12</th>\n",
              "      <td>ETC</td>\n",
              "      <td>Precision</td>\n",
              "      <td>0.713450</td>\n",
              "    </tr>\n",
              "    <tr>\n",
              "      <th>13</th>\n",
              "      <td>RF</td>\n",
              "      <td>Precision</td>\n",
              "      <td>0.695906</td>\n",
              "    </tr>\n",
              "    <tr>\n",
              "      <th>14</th>\n",
              "      <td>BgC</td>\n",
              "      <td>Precision</td>\n",
              "      <td>0.672515</td>\n",
              "    </tr>\n",
              "    <tr>\n",
              "      <th>15</th>\n",
              "      <td>GBDT</td>\n",
              "      <td>Precision</td>\n",
              "      <td>0.672515</td>\n",
              "    </tr>\n",
              "    <tr>\n",
              "      <th>16</th>\n",
              "      <td>XGB</td>\n",
              "      <td>Precision</td>\n",
              "      <td>0.637427</td>\n",
              "    </tr>\n",
              "    <tr>\n",
              "      <th>17</th>\n",
              "      <td>NB</td>\n",
              "      <td>Precision</td>\n",
              "      <td>0.631579</td>\n",
              "    </tr>\n",
              "    <tr>\n",
              "      <th>18</th>\n",
              "      <td>AdaBoost</td>\n",
              "      <td>Precision</td>\n",
              "      <td>0.578947</td>\n",
              "    </tr>\n",
              "    <tr>\n",
              "      <th>19</th>\n",
              "      <td>DT</td>\n",
              "      <td>Precision</td>\n",
              "      <td>0.549708</td>\n",
              "    </tr>\n",
              "    <tr>\n",
              "      <th>20</th>\n",
              "      <td>KN</td>\n",
              "      <td>Precision</td>\n",
              "      <td>0.538012</td>\n",
              "    </tr>\n",
              "    <tr>\n",
              "      <th>21</th>\n",
              "      <td>SVC</td>\n",
              "      <td>Precision</td>\n",
              "      <td>0.356725</td>\n",
              "    </tr>\n",
              "  </tbody>\n",
              "</table>\n",
              "</div>\n",
              "      <button class=\"colab-df-convert\" onclick=\"convertToInteractive('df-cb6502bb-3c42-465e-94ee-707e415e0356')\"\n",
              "              title=\"Convert this dataframe to an interactive table.\"\n",
              "              style=\"display:none;\">\n",
              "        \n",
              "  <svg xmlns=\"http://www.w3.org/2000/svg\" height=\"24px\"viewBox=\"0 0 24 24\"\n",
              "       width=\"24px\">\n",
              "    <path d=\"M0 0h24v24H0V0z\" fill=\"none\"/>\n",
              "    <path d=\"M18.56 5.44l.94 2.06.94-2.06 2.06-.94-2.06-.94-.94-2.06-.94 2.06-2.06.94zm-11 1L8.5 8.5l.94-2.06 2.06-.94-2.06-.94L8.5 2.5l-.94 2.06-2.06.94zm10 10l.94 2.06.94-2.06 2.06-.94-2.06-.94-.94-2.06-.94 2.06-2.06.94z\"/><path d=\"M17.41 7.96l-1.37-1.37c-.4-.4-.92-.59-1.43-.59-.52 0-1.04.2-1.43.59L10.3 9.45l-7.72 7.72c-.78.78-.78 2.05 0 2.83L4 21.41c.39.39.9.59 1.41.59.51 0 1.02-.2 1.41-.59l7.78-7.78 2.81-2.81c.8-.78.8-2.07 0-2.86zM5.41 20L4 18.59l7.72-7.72 1.47 1.35L5.41 20z\"/>\n",
              "  </svg>\n",
              "      </button>\n",
              "      \n",
              "  <style>\n",
              "    .colab-df-container {\n",
              "      display:flex;\n",
              "      flex-wrap:wrap;\n",
              "      gap: 12px;\n",
              "    }\n",
              "\n",
              "    .colab-df-convert {\n",
              "      background-color: #E8F0FE;\n",
              "      border: none;\n",
              "      border-radius: 50%;\n",
              "      cursor: pointer;\n",
              "      display: none;\n",
              "      fill: #1967D2;\n",
              "      height: 32px;\n",
              "      padding: 0 0 0 0;\n",
              "      width: 32px;\n",
              "    }\n",
              "\n",
              "    .colab-df-convert:hover {\n",
              "      background-color: #E2EBFA;\n",
              "      box-shadow: 0px 1px 2px rgba(60, 64, 67, 0.3), 0px 1px 3px 1px rgba(60, 64, 67, 0.15);\n",
              "      fill: #174EA6;\n",
              "    }\n",
              "\n",
              "    [theme=dark] .colab-df-convert {\n",
              "      background-color: #3B4455;\n",
              "      fill: #D2E3FC;\n",
              "    }\n",
              "\n",
              "    [theme=dark] .colab-df-convert:hover {\n",
              "      background-color: #434B5C;\n",
              "      box-shadow: 0px 1px 3px 1px rgba(0, 0, 0, 0.15);\n",
              "      filter: drop-shadow(0px 1px 2px rgba(0, 0, 0, 0.3));\n",
              "      fill: #FFFFFF;\n",
              "    }\n",
              "  </style>\n",
              "\n",
              "      <script>\n",
              "        const buttonEl =\n",
              "          document.querySelector('#df-cb6502bb-3c42-465e-94ee-707e415e0356 button.colab-df-convert');\n",
              "        buttonEl.style.display =\n",
              "          google.colab.kernel.accessAllowed ? 'block' : 'none';\n",
              "\n",
              "        async function convertToInteractive(key) {\n",
              "          const element = document.querySelector('#df-cb6502bb-3c42-465e-94ee-707e415e0356');\n",
              "          const dataTable =\n",
              "            await google.colab.kernel.invokeFunction('convertToInteractive',\n",
              "                                                     [key], {});\n",
              "          if (!dataTable) return;\n",
              "\n",
              "          const docLinkHtml = 'Like what you see? Visit the ' +\n",
              "            '<a target=\"_blank\" href=https://colab.research.google.com/notebooks/data_table.ipynb>data table notebook</a>'\n",
              "            + ' to learn more about interactive tables.';\n",
              "          element.innerHTML = '';\n",
              "          dataTable['output_type'] = 'display_data';\n",
              "          await google.colab.output.renderOutput(dataTable, element);\n",
              "          const docLink = document.createElement('div');\n",
              "          docLink.innerHTML = docLinkHtml;\n",
              "          element.appendChild(docLink);\n",
              "        }\n",
              "      </script>\n",
              "    </div>\n",
              "  </div>\n",
              "  "
            ]
          },
          "metadata": {},
          "execution_count": 116
        }
      ]
    },
    {
      "cell_type": "code",
      "source": [
        "sns.catplot(x='Algorithm', y='value',\n",
        "            hue='variable',data=performance_df1,kind='bar',height=5)\n",
        "plt.ylim(0.5,1.0)\n",
        "plt.xticks(rotation='vertical')\n",
        "plt.show()"
      ],
      "metadata": {
        "colab": {
          "base_uri": "https://localhost:8080/",
          "height": 411
        },
        "id": "-ODCTpf1Jy5G",
        "outputId": "daade0d8-ca7a-4117-acef-16fa45538c36"
      },
      "execution_count": null,
      "outputs": [
        {
          "output_type": "display_data",
          "data": {
            "text/plain": [
              "<Figure size 441.75x360 with 1 Axes>"
            ],
            "image/png": "[encoded data removed]"
          },
          "metadata": {
            "needs_background": "light"
          }
        }
      ]
    },
    {
      "cell_type": "markdown",
      "source": [
        "## Voting Classifier"
      ],
      "metadata": {
        "id": "6y8-GTGsKHe0"
      }
    },
    {
      "cell_type": "code",
      "source": [
        "#mnb_v = MultinomialNB()\n",
        "lrc_v = LogisticRegression(multi_class='multinomial',solver='lbfgs',penalty='l2')\n",
        "etc_v = ExtraTreesClassifier(n_estimators=50,random_state=2)\n",
        "rfc_v = RandomForestClassifier(n_estimators=50,random_state=2)\n",
        "#gbdt_v = GradientBoostingClassifier(n_estimators=50,random_state=2)\n",
        "#svc_v = SVC(kernel='sigmoid',gamma=1.0,probability=True)\n",
        "\n",
        "from sklearn.ensemble import VotingClassifier"
      ],
      "metadata": {
        "id": "LAvfHAf_J8dJ"
      },
      "execution_count": null,
      "outputs": []
    },
    {
      "cell_type": "code",
      "source": [
        "voting = VotingClassifier(estimators=[('lrc',lrc_v),('etc',etc_v),('rfc',rfc_v)],voting='soft')"
      ],
      "metadata": {
        "id": "CnGiklpwJ9KZ"
      },
      "execution_count": null,
      "outputs": []
    },
    {
      "cell_type": "code",
      "source": [
        "voting.fit(X_train,y_train)"
      ],
      "metadata": {
        "colab": {
          "base_uri": "https://localhost:8080/"
        },
        "id": "5BhhgVn6J9Pt",
        "outputId": "6c0f8381-38b7-4c41-9400-137aa925da29"
      },
      "execution_count": null,
      "outputs": [
        {
          "output_type": "execute_result",
          "data": {
            "text/plain": [
              "VotingClassifier(estimators=[('lrc',\n",
              "                              LogisticRegression(multi_class='multinomial')),\n",
              "                             ('etc',\n",
              "                              ExtraTreesClassifier(n_estimators=50,\n",
              "                                                   random_state=2)),\n",
              "                             ('rfc',\n",
              "                              RandomForestClassifier(n_estimators=50,\n",
              "                                                     random_state=2))],\n",
              "                 voting='soft')"
            ]
          },
          "metadata": {},
          "execution_count": 120
        }
      ]
    },
    {
      "cell_type": "code",
      "source": [
        "y_pred = voting.predict(X_test)\n",
        "print('Accuracy of Voting classifier',accuracy_score(y_test,y_pred))\n",
        "print('Precision of Voting classifier',precision_score(y_test,y_pred,average='micro'))"
      ],
      "metadata": {
        "colab": {
          "base_uri": "https://localhost:8080/"
        },
        "id": "rpFJWoSaJ9S0",
        "outputId": "de9ca0e3-3bc6-496b-dc66-789daaf4cb53"
      },
      "execution_count": null,
      "outputs": [
        {
          "output_type": "stream",
          "name": "stdout",
          "text": [
            "Accuracy of Voting classifier 0.7368421052631579\n",
            "Precision of Voting classifier 0.7368421052631579\n"
          ]
        }
      ]
    },
    {
      "cell_type": "code",
      "source": [
        "confusion_matrix(y_test,y_pred)"
      ],
      "metadata": {
        "colab": {
          "base_uri": "https://localhost:8080/"
        },
        "id": "GNc0I2xPKSYO",
        "outputId": "9b08ee66-f77f-452a-e310-4c9d3425bfcc"
      },
      "execution_count": null,
      "outputs": [
        {
          "output_type": "execute_result",
          "data": {
            "text/plain": [
              "array([[56, 10,  3],\n",
              "       [20, 52,  2],\n",
              "       [ 4,  6, 18]])"
            ]
          },
          "metadata": {},
          "execution_count": 122
        }
      ]
    },
    {
      "cell_type": "markdown",
      "source": [
        "## Stacking Classifier"
      ],
      "metadata": {
        "id": "PvoNXNVXKYig"
      }
    },
    {
      "cell_type": "code",
      "source": [
        "#Applying Stacking\n",
        "estimators = [('lrc',lrc_v),('rfc',rfc_v),('etc',etc_v)]\n",
        "#estimators = [('lrc',lrc_v),('svc',svc_v),('mnb',mnb_v)]\n",
        "final_estimator = RandomForestClassifier()"
      ],
      "metadata": {
        "id": "5Boz-Or1KSbL"
      },
      "execution_count": null,
      "outputs": []
    },
    {
      "cell_type": "code",
      "source": [
        "from sklearn.ensemble import StackingClassifier"
      ],
      "metadata": {
        "id": "944hDoZ4KSej"
      },
      "execution_count": null,
      "outputs": []
    },
    {
      "cell_type": "code",
      "source": [
        "sclf = StackingClassifier(estimators=estimators,final_estimator=final_estimator)"
      ],
      "metadata": {
        "id": "PhLV4GWrKdUk"
      },
      "execution_count": null,
      "outputs": []
    },
    {
      "cell_type": "code",
      "source": [
        "sclf.fit(X_train,y_train)\n",
        "y_pred = sclf.predict(X_test)\n",
        "print('Accuracy of Stacking classifier',accuracy_score(y_test,y_pred)) \n",
        "print('Precision of Stacking classifier',precision_score(y_test,y_pred,average='macro'))"
      ],
      "metadata": {
        "colab": {
          "base_uri": "https://localhost:8080/"
        },
        "id": "4WKt_KWFKdXb",
        "outputId": "dd34bfec-5710-46bd-e832-6e66a4ca9836"
      },
      "execution_count": null,
      "outputs": [
        {
          "output_type": "stream",
          "name": "stdout",
          "text": [
            "Accuracy of Stacking classifier 0.695906432748538\n",
            "Precision of Stacking classifier 0.7012112112112113\n"
          ]
        }
      ]
    },
    {
      "cell_type": "code",
      "source": [
        "# import pickle\n",
        "# pickle.dump(vectorizer,open('bow_vectorizer_1.pkl','wb'))\n",
        "# pickle.dump(etc,open('etc_model_1.pkl','wb'))\n",
        "# pickle.dump(voting,open('voting_model_1.pkl','wb'))"
      ],
      "metadata": {
        "id": "wd_eYiyWKdaw"
      },
      "execution_count": null,
      "outputs": []
    },
    {
      "cell_type": "markdown",
      "source": [
        "# Preprocessing Function"
      ],
      "metadata": {
        "id": "j1mPKAUpKkGL"
      }
    },
    {
      "cell_type": "code",
      "source": [
        "import re\n",
        "import nltk\n",
        "nltk.download('stopwords')\n",
        "nltk.download('punkt')\n",
        "nltk.download('wordnet')\n",
        "nltk.download('omw-1.4')\n",
        "from nltk.corpus import stopwords\n",
        "from nltk import word_tokenize\n",
        "from gensim.summarization import summarize\n",
        "from nltk.stem import WordNetLemmatizer\n",
        "lemmatizer = WordNetLemmatizer()\n",
        "\n",
        "def sample_preprocess(text):\n",
        "\n",
        "  #Lowercasing the sentence\n",
        "  lowercase_text = text[0].lower()\n",
        "  #print(lowercase_text)\n",
        "\n",
        "  #removing html tags, numbers, and dates from sentence\n",
        "  pattern = re.compile(\"<.*?>|[0-9]+|[0-9]{,2}\\/[0-9]{,2}\\/[0-9]{2}\")\n",
        "  html_removed_text = pattern.sub(r'',lowercase_text)\n",
        "  #print(html_removed_text)\n",
        "\n",
        "  #Removing bracket of contents in sentence\n",
        "  pattern = re.compile('[\\(\\[].*?[\\)\\]]')\n",
        "  bracket_removed_text =  pattern.sub(r'',html_removed_text)\n",
        "  #print(bracket_removed_text)\n",
        "\n",
        "  #Removing stopwords from sentence\n",
        "  stoplist  = set(stopwords.words('english'))\n",
        "  word_tokenized_sent = [word for word in word_tokenize(bracket_removed_text) if not word in stoplist]\n",
        "  sw_removed_text = ' '.join(word_tokenized_sent)\n",
        "  #print(sw_removed_text)\n",
        "\n",
        "  #Removing punctuation from sentence\n",
        "  exclude = \"!#$%&'()*’+,-/:;<=>?@[\\]^_`{|}~\"\n",
        "  punc_removed_text =  sw_removed_text.translate(str.maketrans('', '', exclude))\n",
        "  #print(punc_removed_text)\n",
        "\n",
        "  #Summarizing if the sentence is bigger\n",
        "  if(len(punc_removed_text.split(\".\"))>10):\n",
        "    summarized_text = summarize(punc_removed_text, ratio=0.3, split=True)\n",
        "    summarized_text = \"\".join(summarized_text)\n",
        "    text_pre = summarized_text\n",
        "  else:\n",
        "    text_pre = punc_removed_text\n",
        "  #print(text_pre)\n",
        "\n",
        "  #Lemmatizing the words in sentence\n",
        "  lemmatized_words =  \" \".join([lemmatizer.lemmatize(word) for word in text_pre.split()])\n",
        "  #print(lemmatized_words)\n",
        "\n",
        "  #Removing fullstop from sentence\n",
        "  final_text =  lemmatized_words.translate(str.maketrans('', '', '.'))\n",
        "  final_text = [final_text]\n",
        "  return final_text"
      ],
      "metadata": {
        "colab": {
          "base_uri": "https://localhost:8080/"
        },
        "id": "I6x1mWOFKdeb",
        "outputId": "4dac2e27-0daa-48c9-d467-6aa84669420f"
      },
      "execution_count": null,
      "outputs": [
        {
          "output_type": "stream",
          "name": "stderr",
          "text": [
            "[nltk_data] Downloading package stopwords to /root/nltk_data...\n",
            "[nltk_data]   Package stopwords is already up-to-date!\n",
            "[nltk_data] Downloading package punkt to /root/nltk_data...\n",
            "[nltk_data]   Package punkt is already up-to-date!\n",
            "[nltk_data] Downloading package wordnet to /root/nltk_data...\n",
            "[nltk_data]   Package wordnet is already up-to-date!\n",
            "[nltk_data] Downloading package omw-1.4 to /root/nltk_data...\n",
            "[nltk_data]   Package omw-1.4 is already up-to-date!\n"
          ]
        }
      ]
    },
    {
      "cell_type": "markdown",
      "source": [
        "## Testing"
      ],
      "metadata": {
        "id": "fSYBKU2ULU87"
      }
    },
    {
      "cell_type": "code",
      "source": [
        "sample1 = [\"\"\"TERMINATION <p>You agree that We, in Our sole discretion, may terminate Your account (if applicable), and remove and discard any of Your content within the Service, for any reason, including and without limitation, the lack of use, or if We find that You have violated or acted inconsistently with the letter or spirit of the TOS. You agree that any termination of Your access to the Service under any provision of this TOS may be effected without prior notice, and acknowledge and agree that We may immediately deactivate or delete Your account and any or all related information and files. We reserve the right to bar any further access to such files or the Service. You agree that We shall not be liable to You or any third party for any termination of Your access to the Service. Any advanced accounts that are terminated will not be refunded.</p> <p>Should You object to any terms and conditions of the TOS or any subsequent modifications thereto or become dissatisfied with the Service in any way, Your only recourse is to immediately discontinue use of the Service.</p> <p>Upon termination of the Service, Your right to use the Service immediately ceases. You shall have no right and We will have no obligation thereafter to forward any unread or unsent messages to You or any third party.\"\"\"]"
      ],
      "metadata": {
        "id": "WaHbf5zALEKK"
      },
      "execution_count": null,
      "outputs": []
    },
    {
      "cell_type": "code",
      "source": [
        "sample1 = [\"\"\"We provide the Service on software we have developed, participated in the development in, as well as software that was developed by third parties. All that software is <strong>Open Source / Free Software</strong> according to the definitions of the Open Source Initiative (OSI) and the Free Software Foundation (FSF). This is essential to protect <strong>your freedom to leave</strong>: There are <strong>no proprietary components</strong> that would stop you from setting up your own server for the same purpose, and migrate your data from Kolab Now to that server.\"\"\"]"
      ],
      "metadata": {
        "id": "3j2-qWjAMgYk"
      },
      "execution_count": null,
      "outputs": []
    },
    {
      "cell_type": "code",
      "source": [
        "sample1 = sample_preprocess(sample1)\n",
        "print(sample1)"
      ],
      "metadata": {
        "colab": {
          "base_uri": "https://localhost:8080/"
        },
        "id": "3qNhj5n2LXpU",
        "outputId": "dd3a4149-f39a-4f57-f76a-212c49b8be08"
      },
      "execution_count": null,
      "outputs": [
        {
          "output_type": "stream",
          "name": "stdout",
          "text": [
            "['provide service software developed participated development well software developed third party  software open source free software according definition open source initiative free software foundation  essential protect freedom leave proprietary component would stop setting server purpose migrate data kolab server ']\n"
          ]
        }
      ]
    },
    {
      "cell_type": "code",
      "source": [
        "sample1_bow = vectorizer.transform(sample1).toarray()"
      ],
      "metadata": {
        "id": "MDfr0zqJLXtI"
      },
      "execution_count": null,
      "outputs": []
    },
    {
      "cell_type": "code",
      "source": [
        "print(\"MNB result on T&C :\",mnb.predict(sample1_bow))\n",
        "print(\"RFC result on T&C :\",rfc.predict(sample1_bow))\n",
        "print(\"LRC result on T&C :\",lrc.predict(sample1_bow))\n",
        "print(\"VC result on T&C :\",voting.predict(sample1_bow))"
      ],
      "metadata": {
        "colab": {
          "base_uri": "https://localhost:8080/"
        },
        "id": "orct81r7LXwl",
        "outputId": "cc40a64a-844c-4727-c72e-ee856b8127a0"
      },
      "execution_count": null,
      "outputs": [
        {
          "output_type": "stream",
          "name": "stdout",
          "text": [
            "MNB result on T&C : [1]\n",
            "RFC result on T&C : [0]\n",
            "LRC result on T&C : [1]\n",
            "VC result on T&C : [0]\n"
          ]
        }
      ]
    },
    {
      "cell_type": "markdown",
      "source": [
        "##Testing on real terms"
      ],
      "metadata": {
        "id": "xCLGl__CL0aM"
      }
    },
    {
      "cell_type": "code",
      "source": [
        "import unicodedata\n",
        "import re\n",
        "import nltk\n",
        "nltk.download('punkt')\n",
        "from nltk import tokenize\n",
        "\n",
        "def sent_tokenized_text(real_terms):\n",
        "  sent_tokenize_terms = tokenize.sent_tokenize(real_terms)\n",
        "  #print(sent_tokenize_terms)\n",
        "  cleaned_text=[]\n",
        "  for i in range(len(sent_tokenize_terms)):\n",
        "    #print(sent_tokenize_terms[i])\n",
        "    clean_text = unicodedata.normalize(\"NFKD\",sent_tokenize_terms[i])\n",
        "    clean_text = re.sub(\"\\n|\\r\", \" \",clean_text)\n",
        "    clean_text = [clean_text]\n",
        "    cleaned_text.append(clean_text)\n",
        "    #print(cleaned_text)\n",
        "  return cleaned_text"
      ],
      "metadata": {
        "colab": {
          "base_uri": "https://localhost:8080/"
        },
        "id": "fbjRNS5nLXzy",
        "outputId": "5714bc4f-927f-4fd7-a266-0b299084b65f"
      },
      "execution_count": null,
      "outputs": [
        {
          "output_type": "stream",
          "name": "stderr",
          "text": [
            "[nltk_data] Downloading package punkt to /root/nltk_data...\n",
            "[nltk_data]   Package punkt is already up-to-date!\n"
          ]
        }
      ]
    },
    {
      "cell_type": "code",
      "source": [
        "def predict_terms(cleaned_text):\n",
        "  for j in range(len(cleaned_text)):\n",
        "    #print(cleaned_text[j])\n",
        "    sentence_to_predict = cleaned_text[j]\n",
        "    processed_text = sample_preprocess(sentence_to_predict)\n",
        "    vectorized_text = vectorizer.transform(processed_text).toarray()\n",
        "    print(sentence_to_predict,\" :\",voting.predict(vectorized_text))"
      ],
      "metadata": {
        "id": "XZggWvaQL80X"
      },
      "execution_count": null,
      "outputs": []
    },
    {
      "cell_type": "code",
      "source": [
        "real_life_terms = input(\"Enter terms\")"
      ],
      "metadata": {
        "colab": {
          "base_uri": "https://localhost:8080/"
        },
        "id": "c8aRsYCMNRai",
        "outputId": "431f006b-cde0-40af-91d2-9c33ce84f45b"
      },
      "execution_count": null,
      "outputs": [
        {
          "name": "stdout",
          "output_type": "stream",
          "text": [
            "Enter termsWhat is the Privacy Policy and what does it cover? Effective from 26 July 2022 |  We at Meta want you to understand what information we collect, and how we use and share it. That's why we encourage you to read our Privacy Policy. This helps you use Meta Products in the way that's right for you. In the Privacy Policy, we explain how we collect, use, share, retain and transfer information. We also let you know your rights. Each section of the Policy includes helpful examples and simpler language to make our practices easier to understand. We've also added links to resources where you can learn more about the privacy topics that interest you. It's important to us that you know how to control your privacy, so we also show you where you can manage your information in the settings of the Meta Products you use. You can  to shape your experience. Read the full policy below. What information do we collect? The information we collect and process about you depends on how you use our products. For example, we collect different information if you sell furniture on Marketplace than if you post a reel on Instagram. When you use our products, we collect some information about you . Here's the information we collect: What if you don't let us collect certain information? Some information is required for our products to work. Other information is optional, but without it, the quality of your experience might be affected. Take control in Privacy Centre How do we use your information? We use  to provide a personalised experience to you, including ads, along with the other purposes that we explain in detail below. For some of these purposes, we use information  and . The information that we use for these purposes is automatically processed by our systems. But in some cases, we also use  to access and review your information. To use less information that's connected to individual users, in some cases we de-identify or aggregate information. We might also anonymise it so that it no longer identifies you. We use this information in the same ways we use your information as described in this section. Here are the ways we use your information: To provide, personalise and improve our products We use information we have, including any  that you choose to share, to provide and improve our products. This includes personalising features, content and , such as your , , Stories and ads. We don't use profile fields about religious views, political views or who you're \"interested in\" to show you ads. Read more about how we use information to provide, personalise and improve our products: To promote safety, security and integrity We use the information we collect to help protect people from harm and provide safe, secure products. To provide measurement, analytics and business services Lots of people rely on our products to run or promote their businesses. We help them measure how well their ads and other content are working. To communicate with you We communicate with you using information you've given us, such as contact information you've entered on your profile. To research and innovate for social good We use information we have, information from researchers and datasets from publicly available sources, professional groups and non-profit groups to conduct and support research. More in the Privacy Policy How is your information shared on Meta Products or with integrated partners? Hands holding a phone, using Facebook Login to log in to an integrated partner's website. On Meta Products Learn more about the different cases when your information can be shared on our products: With integrated partners You can choose to connect with  who use our products. If you do, these integrated partners receive information about you and your activity. These integrated partners can always access information that's public on our products. Learn more about other information they receive and how they handle your information: Take control How do we share information with partners, vendors, service providers and third parties? A row of images, including a bar graph, two ads and an online shopping basket. We don't sell any of your information to anyone and we never will. We also require partners and third parties to follow rules about how they can and cannot use and disclose the information that we provide. Here's more detail about who we share information with: Partners Vendors Service providers Third parties Other times that we share with third parties We also share information with third parties in response to legal requests, to comply with applicable law or to prevent harm. . And if we sell or transfer all or part of our business to someone else, then we may give the new owner your information as part of that transaction, in line with applicable law. How do the Meta Companies work together? A Portal, a Quest 2 and a mobile phone. The phone screen shows the Messenger, WhatsApp, Facebook and Instagram apps. We are part of the  that provide Meta Company Products.  include all of the Meta Products covered by this Policy, plus other products such as WhatsApp, Novi and more. We share the information we collect, infrastructure, systems and technology with the other Meta Companies.  about how we transfer information to other countries. We also process information that we receive about you from other Meta Companies, according to their terms and policies and as permitted by applicable law. In some cases, Meta acts as a service provider for other Meta Companies. We act on their behalf and in accordance with their instructions and terms. Why we share across the Meta Companies Meta Products share information with other Meta Companies: To promote safety, security and integrity and comply with applicable laws To personalise offers, ads and other sponsored or commercial content To develop and provide features and integrations To understand how people use and interact with Meta Company Products  of why we share. More resources How can you manage or delete your information and exercise your rights? We offer you a variety of tools to view, manage, download and delete your information below. You can also manage your information by visiting the settings of the Products you use. You may also have other privacy rights under applicable laws. To exercise your rights, visit our Help centres, your settings for Facebook and Instagram and your device-based settings. Take a Privacy Checkup View and manage your information Port, download or delete your information You can learn more about how privacy works on  and on , and in the . If you have any questions about this policy, you can  as described below. In some countries, you may also be able to contact the Data Protection Officer for Meta Platforms, Inc., and depending on your jurisdiction, you may also contact your local Data Protection Authority (\"DPA\") directly. How long do we keep your information for? We keep information for as long as we need it to provide our products, comply with legal obligations or to protect our or other's interests. We decide how long we need information on a case-by-case basis. Here's what we consider when we decide: If we need it to operate or provide our products. For example, we need to keep some of your information to maintain your account. . The feature that we use it for and how that feature works. For example, messages sent using Messenger's vanish mode are retained for less time than regular messages. . How long we need to retain the information for to comply with certain legal obligations. . If we need it for other legitimate purposes, such as to prevent harm; investigate possible violations of our terms or policies; promote safety, security and integrity; or protect ourselves, including our rights, property or products In some instances and for specific reasons, we'll keep information for an extended period of time.  about when we may preserve your information. How do we transfer information? How do we respond to legal requests, comply with applicable law and prevent harm? We access, preserve, use and share your information: In response to legal requests, such as search warrants, court orders, production orders or subpoenas. These requests come from third parties such as civil litigants, law enforcement and other government authorities.  about when we respond to legal requests. In accordance with applicable law To promote the safety, security and integrity of Meta Products, users, employees, property and the public. . We may access or preserve your information for an extended amount of time. . How will you know the policy has changed? We'll notify you before we make material changes to this Policy. You'll have the opportunity to review the revised Policy before you choose to continue using our products. How to contact Meta with questions You can learn more about how privacy works on  and on , and in the . If you have questions about this Policy or have questions, complaints or requests regarding your information, you can contact us as described below. You can contact us  or by post at: Meta Platforms, Inc. FAO: Privacy operations 1601 Willow Road Menlo Park, CA 94025, US Why and how we process your information The categories of information we use, and why and how information is processed, are set out below: Why and how we process your information Information categories we use (see '' for more information on each information category) The actual information we use depends on your factual circumstances, but could include any of the following: Personalising the Meta Products: Our systems automatically process information we collect and store associated with you and others to assess and understand your interests and your preferences and provide you with personalised experiences across the Meta Products in accordance with our terms. This is how we: Personalise features and content (such as your ,  and Stories); Personalise the ads people see; and Make suggestions for you (such as people you may know, groups or events that you may be interested in or topics that you may want to follow) on and off our products.  about how we use information about you to personalise your experience on and across Meta Products and how we choose the ads that you see. : Content that you create, such as posts, comments or audio Content that you provide through our camera feature or your camera roll settings, or through our voice-enabled features Metadata about content Types of content that you view or interact with, and how you interact with it Apps and features that you use, and what actions you take in them Purchases or other transactions that you make Hashtags you use The time, frequency and duration of your activities on our products : Device characteristics and device software What you're doing on your device (such as whether our app is in the foreground or if your mouse is moving) Identifiers that tell your device apart from other users' Device signals Information you've shared through your device settings (e.g. GPS location) Information about the network that you connect your device to Reports about our products' performance on your device Information from cookies and similar technologies . (You have control over Meta's use of Partner data to tailor ads to you.) Providing and improving our Meta Products: The provision of the Meta Products includes collecting, storing and, where relevant, sharing, profiling, reviewing and curating, and in some instances not only automated processing but also manual (human) reviewing, to: Create and maintain your account and profile, Facilitate the sharing of content and status, Provide and curate features, Provide messaging services, the ability to make voice and video calls and connect with others, Provide advertising products and Undertake analytics. We also use information to develop, research and test improvements to our products. We use information we have to: see if a product is working correctly; troubleshoot and fix it when it isn't; test out new products and features to see if they work; get feedback on our ideas for products or features, and conduct surveys and other research about what you like about our products and brands and what we can do better. : Content that you create, such as posts, comments or audio Content that you provide through our camera feature or your camera roll settings, or through our voice-enabled features Messages that you send and receive, including their content, subject to applicable law Metadata about content and messages, subject to applicable law Types of content that you view or interact with, and how you interact with it Apps and features that you use, and what actions you take in them Purchases or other transactions that you make, including truncated credit card information Hashtags you use The time, frequency and duration of your activities on our products : Device characteristics and device software What you're doing on your device (such as whether our app is in the foreground or if your mouse is moving) Identifiers that tell your device apart from other users' Device signals Information that you've shared through your device settings Information about the network you connect your device to, including your IP address Information from cookies and similar technologies Promoting safety, integrity and security on and across the Meta Products: The Meta Products are designed to research and help ensure the safety, integrity and security of those services and those people who enjoy them, on and off Meta Products. We process the information that we have associated with you and apply automated processing techniques and, in some instances, conduct manual (human) review to: Verify accounts and activity, Find and address violations of our terms or policies. In some cases, the decisions we make about violations are reviewed by the , Investigate suspicious activity, Detect, prevent and combat harmful or unlawful behaviour, such as to review and, in some cases, remove content reported to us, Identify and combat disparities and racial bias against historically marginalised communities, Protect the life, physical or mental health, well-being or integrity of our users or others, Detect and prevent spam, other security matters and other bad experiences, Detect and stop threats to our personnel and property, and Maintain the integrity of our products. For more information on safety, integrity and security generally on Meta Products, visit the  and . : Content that you create, such as posts, comments or audio Content that you provide through our camera feature or your camera roll settings, or through our voice-enabled features Messages that you send and receive, including their content, subject to applicable law Metadata about content and messages, subject to applicable law Types of content that you view or interact with, and how you interact with it Apps and features that you use, and what actions you take in them Purchases or other transactions that you make, including truncated credit card information Hashtags you use The time, frequency and duration of your activities on our products : Device characteristics and device software What you're doing on your device (such as whether our app is in the foreground or if your mouse is moving) Identifiers that tell your device apart from other users' Device signals Information that you've shared through your device settings Information about the network you connect your device to, including your IP address Information from cookies and similar technologies To communicate with you: We use the information you've given us (e.g. contact information on your profile) to send you a communication, such as an email or in-product notice, for example: We'll contact you via email or in-product notifications in relation to the Meta Products, product-related issues, research or to let you know about our terms and policies. We also use contact information such as your email address to respond when you contact us. : Contact information on your profile and your communications with us Content that you create, such as posts, comments or audio Content that you provide through our camera feature or your camera roll settings, or through our voice-enabled features : Device characteristics and device software What you're doing on your device (such as whether our app is in the foreground or if your mouse is moving) Identifiers that tell your device apart from other users' Device signals Information that you've shared through your device settings Information about the network you connect your device to, including your IP address Information from cookies and similar technologies. Transferring, storing or processing your information across borders, including from and to the United States and other countries: We share information that we collect globally, both internally across our offices and data centres and externally with our Partners, third parties and service providers. As Meta is global, with users, Partners, vendors and employees around the world, transfers are necessary: To operate and provide the services described in the terms that apply to the Meta Product(s) you are using. This includes allowing you to share information and connect with your family and friends around the globe; and To fix, analyse and improve our products. For more information, see the  section of the Meta Privacy Policy. : Content that you create, such as posts, comments or audio Content that you provide through our camera feature or your camera roll settings, or through our voice-enabled features Metadata about content and messages, subject to applicable law Types of content that you view or interact with, and how you interact with it Apps and features that you use, and what actions you take in them Purchases or other transactions that you make, including truncated credit card information Hashtags you use The time, frequency and duration of your activities on our products : Device characteristics and device software What you're doing on your device (such as whether our app is in the foreground or if your mouse is moving) Identifiers that tell your advice apart from other users' Device signals Information that you've shared through your device settings Information about the network you connect your device to, including your IP address Information from cookies and similar technologies Processing information subject to special protections under applicable laws that you provide so we can share it with those you choose, to provide, personalise and improve our products and to undertake analytics. We'll collect, store, publish and apply automated, or sometimes manual (human), processing for these purposes. :  Any information with special protections that you choose to provide in your profile fields (such as your religious views, political views, or who you are \"interested in\"), or as part of surveys you choose to participate in Receiving and using information from third parties to tailor the ads you see: We'll use information that advertisers, businesses and other partners provide for us about activity off Meta Products that we have associated with you to personalise ads that we show you on Meta Products, and on websites, apps and devices that use our advertising services. We receive this information whether or not you're logged in or have an account on our products. See the  for more information. : Information and content you provide, such as your name or email address Sharing your contact, profile or other information with third parties upon your request: The type of third party and categories of information shared depend on the circumstances of what you ask us to share. For example: We share your email address (or other contact information) or other information you might choose when you direct us to share it with an advertiser so they can contact you with additional information about a promoted product, and  If you choose to integrate other apps, games or websites with Meta Products and log in, we'll share your information with the app, game or website to log you in. : Content you create, such as your contact, profile or other information, such as posts or comments Providing measurement, analytics and business services: Our systems automatically, as well as with some manual (human) processing, process information that we've collected and stored about you and others. We use this information to: Provide insights and measurement reports to businesses, advertisers and other Partners to help them measure the effectiveness and distribution of their or their clients' ads, content and services, to understand the kinds of people who are seeing their content and ads, and how their content and ads are performing on and off Meta Products, and Provide aggregated user analytics and insights reports that help businesses, advertisers and other Partners better understand the audiences with whom they may want to connect, as well as the types of people who use their services and how people interact with their websites, apps and services. : Content that you create, such as posts, comments or audio Content that you provide through our camera feature or your camera roll settings, or through our voice-enabled features Types of content that you view or interact with, and how you interact with it Apps and features that you use, and what actions you take in them Purchases or other transactions that you make Hashtags you use The time, frequency and duration of your activities on our products : Device characteristics and device software What you're doing on your device (such as whether our app is in the foreground or if your mouse is moving) Identifiers that tell your device apart from other users Device signals Information that you've shared through your device settings Information about the network you connect your device to, including your IP address Information from cookies and similar technologies Sharing of information across the Meta Companies: To provide a seamless, consistent and richer, innovative experience across the Meta Company Products to enable cross app interactions, sharing, viewing and engaging with content, including posts and videos. : Content that you create, such as posts, comments or audio Content that you provide through our camera feature or your camera roll settings, or through our voice-enabled features Metadata about content Types of content that you view or interact with, and how you interact with it Apps and features that you use, and what actions you take in them Purchases or other transactions that you make Hashtags you use The time, frequency and duration of your activities on our products : Device characteristics and device software What you're doing on your device (such as whether our app is in the foreground or if your mouse is moving) Identifiers that tell your device apart from other users Device signals Information that you've shared through your device settings Information about the network you connect your device to, including your IP address Information from cookies and similar technologies Business intelligence and analytics: To understand, in aggregate, your usage of and across our products, to accurately count people and businesses; and To validate metrics directly related to these, in order to inform and improve product direction and development and to adhere to (shareholder/earning) reporting obligations. : Content that you create, such as posts, comments or audio Content that you provide through our camera feature or your camera roll settings, or through our voice-enabled features Metadata about content and messages, subject to applicable law Types of content that you view or interact with, and how you interact with it Apps and features that you use, and what actions you take in them Purchases or other transactions that you make Hashtags you use The time, frequency and duration of your activities on our products : Device characteristics and device software What you're doing on your device (such as whether our app is in the foreground or if your mouse is moving) Identifiers that tell your device apart from other users Device signals Information that you've shared through your device settings Information about the network you connect your device to, including your IP address Information from cookies and similar technologies Identifying you as a Meta Product user and personalising the ads we show you through Meta Audience Network when you visit other apps: When we show you ads through  when you visit other apps, our systems automatically process the information we have collected and stored about you and others to identify you as a Meta Product user and tailor the ads you see. : Information you provide Content that you create, such as posts, comments or audio Content that you provide through our camera feature or your camera roll settings, or through our voice-enabled features Metadata about content Types of content that you view or interact with, and how you interact with it Apps and features that you use, and what actions you take in them Purchases or other transactions that you make Hashtags you use The time, frequency and duration of your activities on our products : Device characteristics and device software What you're doing on your device (such as whether our app is in the foreground or if your mouse is moving) Identifiers that tell your device apart from other users Device signals Information that you've shared through your device settings Information about the network you connect your device to, including your IP address Information from cookies and similar technologies Providing marketing communications to you: Depending on your settings and subject to applicable law, we'll share marketing communications with you. We'll collect and store your information and use it to send marketing communications to you, such as an email, subject to applicable laws. : Information and content you provide, including your contact information such as email address : Device identifiers Research and innovate for social good: We carry out surveys and use information (including from researchers that we collaborate with) to conduct and support research and innovation on topics of general social welfare, technological advancement, public interest, health and well-being. For example, we analyse information that we have about migration patterns during crises. This helps relief organisations get aid to the right places. We collect, store, combine, analyse and apply automatic processing techniques such as aggregation of information as well as manual (human) review, and share information, as necessary to research and innovate for social good in this way. We do this to help us create things such as COVID-19 forecasting models.  about our research programmes. : Content that you create, such as posts, comments or audio Content that you provide through our camera feature or your camera roll settings, or through our voice-enabled features Metadata about content and messages, subject to applicable law Types of content that you view or interact with, and how you interact with it Apps and features that you use, and what actions you take in them Purchases or other transactions that you make Hashtags you use The time, frequency and duration of your activities on our products : Device characteristics and device software What you're doing on your device (such as whether our app is in the foreground or if your mouse is moving) Identifiers that tell your device apart from other users' Device signals Information that you've shared through your device settings Information about the network you connect your device to, including your IP address Information from cookies and similar technologies Anonymising your information In some cases, we anonymise information we have associated with you, such as your activity on and off our products, and use the resulting information, for example, to provide and improve our Meta Products, including ads. : Content that you create, such as posts, comments or audio Content that you provide through our camera feature or your camera roll settings, or through our voice-enabled features Metadata about content Types of content that you view or interact with, and how you interact with it Apps and features that you use, and what actions you take in them Purchases or other transactions that you make Hashtags you use The time, frequency and duration of your activities on our products : Device characteristics and device software What you're doing on your device (such as whether our app is in the foreground or if your mouse is moving) Identifiers that tell your device apart from other users' Device signals Information that you've shared through your device settings Information about the network you connect your device to, including your IP address Information from cookies and similar technologies Share information with others, including law enforcement and to respond to legal requests. See the  section of the Meta Privacy Policy for more for information on when we share information with law enforcement and others. The categories of information that we access, preserve, use and share depend on the specific circumstances. For example, responses to legal requests where not compelled by law will typically include limited information (such as contact details and login information). However, the information we process will depend on the purposes, which could include the following: In response to legal requests from third parties such as civil litigants, law enforcement and other government authorities To comply with applicable law or legitimate legal purposes To promote the safety, security and integrity of Meta Companies, Meta Products, users, employees, property and the public  about how we promote safety, security and integrity. : Content that you create, such as posts, comments or audio Content that you provide through our camera feature or your camera roll settings, or through our voice-enabled features Metadata about content, subject to applicable law Types of content that you view or interact with, and how you interact with it Apps and features that you use, and what actions you take in them Purchases or other transactions that you make Hashtags you use : Device characteristics and device software What you're doing on your device (such as whether our app is in the foreground or if your mouse is moving) Identifiers that tell your device apart from other users' Device signals Information that you've shared through your device settings Information about the network you connect your device to, including your IP address Information from cookies and similar technologies For processing information when the law requires it: Where we are under an obligation to disclose information such as, for example, if we receive a valid legal request for certain information such as a search warrant, we will access, preserve and/or share your information with regulators, law enforcement or others. The way in which the information will be processed depends on the specific circumstances. See the  section of the Meta Privacy Policy for more. \"\" provides information on the operational guidelines law enforcement needs to follow. The categories of information depend on the specific circumstances of each mandatory request or obligation. Only the information necessary to comply with the relevant legal obligation will be shared or otherwise processed. For example, for civil matters, this will typically include limited information (such as contact details and login information). However, depending on the circumstances, it could include the following: : Content that you create, such as posts, comments or audio Content that you provide through our camera feature or your camera roll settings, or through our voice-enabled features Messages that you send and receive, including their content, subject to applicable law Metadata about content and messages, subject to applicable law Types of content that you view or interact with, and how you interact with it Apps and features that you use, and what actions you take in them Purchases or other transactions that you make, including truncated credit card information Hashtags you use The time, frequency and duration of your activities on our products : Device characteristics and device software What you're doing on your device (such as whether our app is in the foreground or if your mouse is moving) Identifiers that tell your device apart from other users' Device signals Information that you've shared through your device settings Information about the network you connect your device to, including your IP address Information from cookies and similar technologies\n"
          ]
        }
      ]
    },
    {
      "cell_type": "code",
      "source": [
        "real_life_terms"
      ],
      "metadata": {
        "colab": {
          "base_uri": "https://localhost:8080/"
        },
        "id": "bjJJ0vAENieD",
        "outputId": "0b929c90-896a-448b-c140-97ced92b93f0"
      },
      "execution_count": null,
      "outputs": [
        {
          "output_type": "execute_result",
          "data": {
            "text/plain": [
              "[['What is the Privacy Policy and what does it cover?'],\n",
              " ['Effective from 26 July 2022 |  We at Meta want you to understand what information we collect, and how we use and share it.'],\n",
              " [\"That's why we encourage you to read our Privacy Policy.\"],\n",
              " [\"This helps you use Meta Products in the way that's right for you.\"],\n",
              " ['In the Privacy Policy, we explain how we collect, use, share, retain and transfer information.'],\n",
              " ['We also let you know your rights.'],\n",
              " ['Each section of the Policy includes helpful examples and simpler language to make our practices easier to understand.'],\n",
              " [\"We've also added links to resources where you can learn more about the privacy topics that interest you.\"],\n",
              " [\"It's important to us that you know how to control your privacy, so we also show you where you can manage your information in the settings of the Meta Products you use.\"],\n",
              " ['You can  to shape your experience.'],\n",
              " ['Read the full policy below.'],\n",
              " ['What information do we collect?'],\n",
              " ['The information we collect and process about you depends on how you use our products.'],\n",
              " ['For example, we collect different information if you sell furniture on Marketplace than if you post a reel on Instagram.'],\n",
              " ['When you use our products, we collect some information about you .'],\n",
              " [\"Here's the information we collect: What if you don't let us collect certain information?\"],\n",
              " ['Some information is required for our products to work.'],\n",
              " ['Other information is optional, but without it, the quality of your experience might be affected.'],\n",
              " ['Take control in Privacy Centre How do we use your information?'],\n",
              " ['We use  to provide a personalised experience to you, including ads, along with the other purposes that we explain in detail below.'],\n",
              " ['For some of these purposes, we use information  and .'],\n",
              " ['The information that we use for these purposes is automatically processed by our systems.'],\n",
              " ['But in some cases, we also use  to access and review your information.'],\n",
              " [\"To use less information that's connected to individual users, in some cases we de-identify or aggregate information.\"],\n",
              " ['We might also anonymise it so that it no longer identifies you.'],\n",
              " ['We use this information in the same ways we use your information as described in this section.'],\n",
              " ['Here are the ways we use your information: To provide, personalise and improve our products We use information we have, including any  that you choose to share, to provide and improve our products.'],\n",
              " ['This includes personalising features, content and , such as your , , Stories and ads.'],\n",
              " ['We don\\'t use profile fields about religious views, political views or who you\\'re \"interested in\" to show you ads.'],\n",
              " ['Read more about how we use information to provide, personalise and improve our products: To promote safety, security and integrity We use the information we collect to help protect people from harm and provide safe, secure products.'],\n",
              " ['To provide measurement, analytics and business services Lots of people rely on our products to run or promote their businesses.'],\n",
              " ['We help them measure how well their ads and other content are working.'],\n",
              " [\"To communicate with you We communicate with you using information you've given us, such as contact information you've entered on your profile.\"],\n",
              " ['To research and innovate for social good We use information we have, information from researchers and datasets from publicly available sources, professional groups and non-profit groups to conduct and support research.'],\n",
              " ['More in the Privacy Policy How is your information shared on Meta Products or with integrated partners?'],\n",
              " [\"Hands holding a phone, using Facebook Login to log in to an integrated partner's website.\"],\n",
              " ['On Meta Products Learn more about the different cases when your information can be shared on our products: With integrated partners You can choose to connect with  who use our products.'],\n",
              " ['If you do, these integrated partners receive information about you and your activity.'],\n",
              " [\"These integrated partners can always access information that's public on our products.\"],\n",
              " ['Learn more about other information they receive and how they handle your information: Take control How do we share information with partners, vendors, service providers and third parties?'],\n",
              " ['A row of images, including a bar graph, two ads and an online shopping basket.'],\n",
              " [\"We don't sell any of your information to anyone and we never will.\"],\n",
              " ['We also require partners and third parties to follow rules about how they can and cannot use and disclose the information that we provide.'],\n",
              " [\"Here's more detail about who we share information with: Partners Vendors Service providers Third parties Other times that we share with third parties We also share information with third parties in response to legal requests, to comply with applicable law or to prevent harm. . And if we sell or transfer all or part of our business to someone else, then we may give the new owner your information as part of that transaction, in line with applicable law.\"],\n",
              " ['How do the Meta Companies work together?'],\n",
              " ['A Portal, a Quest 2 and a mobile phone.'],\n",
              " ['The phone screen shows the Messenger, WhatsApp, Facebook and Instagram apps.'],\n",
              " ['We are part of the  that provide Meta Company Products.'],\n",
              " ['include all of the Meta Products covered by this Policy, plus other products such as WhatsApp, Novi and more.'],\n",
              " ['We share the information we collect, infrastructure, systems and technology with the other Meta Companies.'],\n",
              " ['about how we transfer information to other countries.'],\n",
              " ['We also process information that we receive about you from other Meta Companies, according to their terms and policies and as permitted by applicable law.'],\n",
              " ['In some cases, Meta acts as a service provider for other Meta Companies.'],\n",
              " ['We act on their behalf and in accordance with their instructions and terms.'],\n",
              " ['Why we share across the Meta Companies Meta Products share information with other Meta Companies: To promote safety, security and integrity and comply with applicable laws To personalise offers, ads and other sponsored or commercial content To develop and provide features and integrations To understand how people use and interact with Meta Company Products  of why we share.'],\n",
              " ['More resources How can you manage or delete your information and exercise your rights?'],\n",
              " ['We offer you a variety of tools to view, manage, download and delete your information below.'],\n",
              " ['You can also manage your information by visiting the settings of the Products you use.'],\n",
              " ['You may also have other privacy rights under applicable laws.'],\n",
              " ['To exercise your rights, visit our Help centres, your settings for Facebook and Instagram and your device-based settings.'],\n",
              " ['Take a Privacy Checkup View and manage your information Port, download or delete your information You can learn more about how privacy works on  and on , and in the .'],\n",
              " ['If you have any questions about this policy, you can  as described below.'],\n",
              " ['In some countries, you may also be able to contact the Data Protection Officer for Meta Platforms, Inc., and depending on your jurisdiction, you may also contact your local Data Protection Authority (\"DPA\") directly.'],\n",
              " ['How long do we keep your information for?'],\n",
              " [\"We keep information for as long as we need it to provide our products, comply with legal obligations or to protect our or other's interests.\"],\n",
              " ['We decide how long we need information on a case-by-case basis.'],\n",
              " [\"Here's what we consider when we decide: If we need it to operate or provide our products.\"],\n",
              " ['For example, we need to keep some of your information to maintain your account. .'],\n",
              " ['The feature that we use it for and how that feature works.'],\n",
              " [\"For example, messages sent using Messenger's vanish mode are retained for less time than regular messages. . How long we need to retain the information for to comply with certain legal obligations. .\"],\n",
              " [\"If we need it for other legitimate purposes, such as to prevent harm; investigate possible violations of our terms or policies; promote safety, security and integrity; or protect ourselves, including our rights, property or products In some instances and for specific reasons, we'll keep information for an extended period of time.\"],\n",
              " ['about when we may preserve your information.'],\n",
              " ['How do we transfer information?'],\n",
              " ['How do we respond to legal requests, comply with applicable law and prevent harm?'],\n",
              " ['We access, preserve, use and share your information: In response to legal requests, such as search warrants, court orders, production orders or subpoenas.'],\n",
              " ['These requests come from third parties such as civil litigants, law enforcement and other government authorities.'],\n",
              " ['about when we respond to legal requests.'],\n",
              " ['In accordance with applicable law To promote the safety, security and integrity of Meta Products, users, employees, property and the public. . We may access or preserve your information for an extended amount of time. . How will you know the policy has changed?'],\n",
              " [\"We'll notify you before we make material changes to this Policy.\"],\n",
              " [\"You'll have the opportunity to review the revised Policy before you choose to continue using our products.\"],\n",
              " ['How to contact Meta with questions You can learn more about how privacy works on  and on , and in the .'],\n",
              " ['If you have questions about this Policy or have questions, complaints or requests regarding your information, you can contact us as described below.'],\n",
              " [\"You can contact us  or by post at: Meta Platforms, Inc. FAO: Privacy operations 1601 Willow Road Menlo Park, CA 94025, US Why and how we process your information The categories of information we use, and why and how information is processed, are set out below: Why and how we process your information Information categories we use (see '' for more information on each information category) The actual information we use depends on your factual circumstances, but could include any of the following: Personalising the Meta Products: Our systems automatically process information we collect and store associated with you and others to assess and understand your interests and your preferences and provide you with personalised experiences across the Meta Products in accordance with our terms.\"],\n",
              " ['This is how we: Personalise features and content (such as your ,  and Stories); Personalise the ads people see; and Make suggestions for you (such as people you may know, groups or events that you may be interested in or topics that you may want to follow) on and off our products.'],\n",
              " ['about how we use information about you to personalise your experience on and across Meta Products and how we choose the ads that you see.'],\n",
              " [\": Content that you create, such as posts, comments or audio Content that you provide through our camera feature or your camera roll settings, or through our voice-enabled features Metadata about content Types of content that you view or interact with, and how you interact with it Apps and features that you use, and what actions you take in them Purchases or other transactions that you make Hashtags you use The time, frequency and duration of your activities on our products : Device characteristics and device software What you're doing on your device (such as whether our app is in the foreground or if your mouse is moving) Identifiers that tell your device apart from other users' Device signals Information you've shared through your device settings (e.g.\"],\n",
              " [\"GPS location) Information about the network that you connect your device to Reports about our products' performance on your device Information from cookies and similar technologies .\"],\n",
              " [\"(You have control over Meta's use of Partner data to tailor ads to you.)\"],\n",
              " ['Providing and improving our Meta Products: The provision of the Meta Products includes collecting, storing and, where relevant, sharing, profiling, reviewing and curating, and in some instances not only automated processing but also manual (human) reviewing, to: Create and maintain your account and profile, Facilitate the sharing of content and status, Provide and curate features, Provide messaging services, the ability to make voice and video calls and connect with others, Provide advertising products and Undertake analytics.'],\n",
              " ['We also use information to develop, research and test improvements to our products.'],\n",
              " [\"We use information we have to: see if a product is working correctly; troubleshoot and fix it when it isn't; test out new products and features to see if they work; get feedback on our ideas for products or features, and conduct surveys and other research about what you like about our products and brands and what we can do better.\"],\n",
              " [\": Content that you create, such as posts, comments or audio Content that you provide through our camera feature or your camera roll settings, or through our voice-enabled features Messages that you send and receive, including their content, subject to applicable law Metadata about content and messages, subject to applicable law Types of content that you view or interact with, and how you interact with it Apps and features that you use, and what actions you take in them Purchases or other transactions that you make, including truncated credit card information Hashtags you use The time, frequency and duration of your activities on our products : Device characteristics and device software What you're doing on your device (such as whether our app is in the foreground or if your mouse is moving) Identifiers that tell your device apart from other users' Device signals Information that you've shared through your device settings Information about the network you connect your device to, including your IP address Information from cookies and similar technologies Promoting safety, integrity and security on and across the Meta Products: The Meta Products are designed to research and help ensure the safety, integrity and security of those services and those people who enjoy them, on and off Meta Products.\"],\n",
              " ['We process the information that we have associated with you and apply automated processing techniques and, in some instances, conduct manual (human) review to: Verify accounts and activity, Find and address violations of our terms or policies.'],\n",
              " ['In some cases, the decisions we make about violations are reviewed by the , Investigate suspicious activity, Detect, prevent and combat harmful or unlawful behaviour, such as to review and, in some cases, remove content reported to us, Identify and combat disparities and racial bias against historically marginalised communities, Protect the life, physical or mental health, well-being or integrity of our users or others, Detect and prevent spam, other security matters and other bad experiences, Detect and stop threats to our personnel and property, and Maintain the integrity of our products.'],\n",
              " ['For more information on safety, integrity and security generally on Meta Products, visit the  and .'],\n",
              " [\": Content that you create, such as posts, comments or audio Content that you provide through our camera feature or your camera roll settings, or through our voice-enabled features Messages that you send and receive, including their content, subject to applicable law Metadata about content and messages, subject to applicable law Types of content that you view or interact with, and how you interact with it Apps and features that you use, and what actions you take in them Purchases or other transactions that you make, including truncated credit card information Hashtags you use The time, frequency and duration of your activities on our products : Device characteristics and device software What you're doing on your device (such as whether our app is in the foreground or if your mouse is moving) Identifiers that tell your device apart from other users' Device signals Information that you've shared through your device settings Information about the network you connect your device to, including your IP address Information from cookies and similar technologies To communicate with you: We use the information you've given us (e.g.\"],\n",
              " [\"contact information on your profile) to send you a communication, such as an email or in-product notice, for example: We'll contact you via email or in-product notifications in relation to the Meta Products, product-related issues, research or to let you know about our terms and policies.\"],\n",
              " ['We also use contact information such as your email address to respond when you contact us.'],\n",
              " [\": Contact information on your profile and your communications with us Content that you create, such as posts, comments or audio Content that you provide through our camera feature or your camera roll settings, or through our voice-enabled features : Device characteristics and device software What you're doing on your device (such as whether our app is in the foreground or if your mouse is moving) Identifiers that tell your device apart from other users' Device signals Information that you've shared through your device settings Information about the network you connect your device to, including your IP address Information from cookies and similar technologies.\"],\n",
              " ['Transferring, storing or processing your information across borders, including from and to the United States and other countries: We share information that we collect globally, both internally across our offices and data centres and externally with our Partners, third parties and service providers.'],\n",
              " ['As Meta is global, with users, Partners, vendors and employees around the world, transfers are necessary: To operate and provide the services described in the terms that apply to the Meta Product(s) you are using.'],\n",
              " ['This includes allowing you to share information and connect with your family and friends around the globe; and To fix, analyse and improve our products.'],\n",
              " ['For more information, see the  section of the Meta Privacy Policy.'],\n",
              " [\": Content that you create, such as posts, comments or audio Content that you provide through our camera feature or your camera roll settings, or through our voice-enabled features Metadata about content and messages, subject to applicable law Types of content that you view or interact with, and how you interact with it Apps and features that you use, and what actions you take in them Purchases or other transactions that you make, including truncated credit card information Hashtags you use The time, frequency and duration of your activities on our products : Device characteristics and device software What you're doing on your device (such as whether our app is in the foreground or if your mouse is moving) Identifiers that tell your advice apart from other users' Device signals Information that you've shared through your device settings Information about the network you connect your device to, including your IP address Information from cookies and similar technologies Processing information subject to special protections under applicable laws that you provide so we can share it with those you choose, to provide, personalise and improve our products and to undertake analytics.\"],\n",
              " [\"We'll collect, store, publish and apply automated, or sometimes manual (human), processing for these purposes.\"],\n",
              " [':  Any information with special protections that you choose to provide in your profile fields (such as your religious views, political views, or who you are \"interested in\"), or as part of surveys you choose to participate in Receiving and using information from third parties to tailor the ads you see: We\\'ll use information that advertisers, businesses and other partners provide for us about activity off Meta Products that we have associated with you to personalise ads that we show you on Meta Products, and on websites, apps and devices that use our advertising services.'],\n",
              " [\"We receive this information whether or not you're logged in or have an account on our products.\"],\n",
              " ['See the  for more information.'],\n",
              " [': Information and content you provide, such as your name or email address Sharing your contact, profile or other information with third parties upon your request: The type of third party and categories of information shared depend on the circumstances of what you ask us to share.'],\n",
              " [\"For example: We share your email address (or other contact information) or other information you might choose when you direct us to share it with an advertiser so they can contact you with additional information about a promoted product, and  If you choose to integrate other apps, games or websites with Meta Products and log in, we'll share your information with the app, game or website to log you in.\"],\n",
              " [\": Content you create, such as your contact, profile or other information, such as posts or comments Providing measurement, analytics and business services: Our systems automatically, as well as with some manual (human) processing, process information that we've collected and stored about you and others.\"],\n",
              " [\"We use this information to: Provide insights and measurement reports to businesses, advertisers and other Partners to help them measure the effectiveness and distribution of their or their clients' ads, content and services, to understand the kinds of people who are seeing their content and ads, and how their content and ads are performing on and off Meta Products, and Provide aggregated user analytics and insights reports that help businesses, advertisers and other Partners better understand the audiences with whom they may want to connect, as well as the types of people who use their services and how people interact with their websites, apps and services.\"],\n",
              " [\": Content that you create, such as posts, comments or audio Content that you provide through our camera feature or your camera roll settings, or through our voice-enabled features Types of content that you view or interact with, and how you interact with it Apps and features that you use, and what actions you take in them Purchases or other transactions that you make Hashtags you use The time, frequency and duration of your activities on our products : Device characteristics and device software What you're doing on your device (such as whether our app is in the foreground or if your mouse is moving) Identifiers that tell your device apart from other users Device signals Information that you've shared through your device settings Information about the network you connect your device to, including your IP address Information from cookies and similar technologies Sharing of information across the Meta Companies: To provide a seamless, consistent and richer, innovative experience across the Meta Company Products to enable cross app interactions, sharing, viewing and engaging with content, including posts and videos.\"],\n",
              " [\": Content that you create, such as posts, comments or audio Content that you provide through our camera feature or your camera roll settings, or through our voice-enabled features Metadata about content Types of content that you view or interact with, and how you interact with it Apps and features that you use, and what actions you take in them Purchases or other transactions that you make Hashtags you use The time, frequency and duration of your activities on our products : Device characteristics and device software What you're doing on your device (such as whether our app is in the foreground or if your mouse is moving) Identifiers that tell your device apart from other users Device signals Information that you've shared through your device settings Information about the network you connect your device to, including your IP address Information from cookies and similar technologies Business intelligence and analytics: To understand, in aggregate, your usage of and across our products, to accurately count people and businesses; and To validate metrics directly related to these, in order to inform and improve product direction and development and to adhere to (shareholder/earning) reporting obligations.\"],\n",
              " [\": Content that you create, such as posts, comments or audio Content that you provide through our camera feature or your camera roll settings, or through our voice-enabled features Metadata about content and messages, subject to applicable law Types of content that you view or interact with, and how you interact with it Apps and features that you use, and what actions you take in them Purchases or other transactions that you make Hashtags you use The time, frequency and duration of your activities on our products : Device characteristics and device software What you're doing on your device (such as whether our app is in the foreground or if your mouse is moving) Identifiers that tell your device apart from other users Device signals Information that you've shared through your device settings Information about the network you connect your device to, including your IP address Information from cookies and similar technologies Identifying you as a Meta Product user and personalising the ads we show you through Meta Audience Network when you visit other apps: When we show you ads through  when you visit other apps, our systems automatically process the information we have collected and stored about you and others to identify you as a Meta Product user and tailor the ads you see.\"],\n",
              " [\": Information you provide Content that you create, such as posts, comments or audio Content that you provide through our camera feature or your camera roll settings, or through our voice-enabled features Metadata about content Types of content that you view or interact with, and how you interact with it Apps and features that you use, and what actions you take in them Purchases or other transactions that you make Hashtags you use The time, frequency and duration of your activities on our products : Device characteristics and device software What you're doing on your device (such as whether our app is in the foreground or if your mouse is moving) Identifiers that tell your device apart from other users Device signals Information that you've shared through your device settings Information about the network you connect your device to, including your IP address Information from cookies and similar technologies Providing marketing communications to you: Depending on your settings and subject to applicable law, we'll share marketing communications with you.\"],\n",
              " [\"We'll collect and store your information and use it to send marketing communications to you, such as an email, subject to applicable laws.\"],\n",
              " [': Information and content you provide, including your contact information such as email address : Device identifiers Research and innovate for social good: We carry out surveys and use information (including from researchers that we collaborate with) to conduct and support research and innovation on topics of general social welfare, technological advancement, public interest, health and well-being.'],\n",
              " ['For example, we analyse information that we have about migration patterns during crises.'],\n",
              " ['This helps relief organisations get aid to the right places.'],\n",
              " ['We collect, store, combine, analyse and apply automatic processing techniques such as aggregation of information as well as manual (human) review, and share information, as necessary to research and innovate for social good in this way.'],\n",
              " ['We do this to help us create things such as COVID-19 forecasting models.'],\n",
              " ['about our research programmes.'],\n",
              " [\": Content that you create, such as posts, comments or audio Content that you provide through our camera feature or your camera roll settings, or through our voice-enabled features Metadata about content and messages, subject to applicable law Types of content that you view or interact with, and how you interact with it Apps and features that you use, and what actions you take in them Purchases or other transactions that you make Hashtags you use The time, frequency and duration of your activities on our products : Device characteristics and device software What you're doing on your device (such as whether our app is in the foreground or if your mouse is moving) Identifiers that tell your device apart from other users' Device signals Information that you've shared through your device settings Information about the network you connect your device to, including your IP address Information from cookies and similar technologies Anonymising your information In some cases, we anonymise information we have associated with you, such as your activity on and off our products, and use the resulting information, for example, to provide and improve our Meta Products, including ads.\"],\n",
              " [\": Content that you create, such as posts, comments or audio Content that you provide through our camera feature or your camera roll settings, or through our voice-enabled features Metadata about content Types of content that you view or interact with, and how you interact with it Apps and features that you use, and what actions you take in them Purchases or other transactions that you make Hashtags you use The time, frequency and duration of your activities on our products : Device characteristics and device software What you're doing on your device (such as whether our app is in the foreground or if your mouse is moving) Identifiers that tell your device apart from other users' Device signals Information that you've shared through your device settings Information about the network you connect your device to, including your IP address Information from cookies and similar technologies Share information with others, including law enforcement and to respond to legal requests.\"],\n",
              " ['See the  section of the Meta Privacy Policy for more for information on when we share information with law enforcement and others.'],\n",
              " ['The categories of information that we access, preserve, use and share depend on the specific circumstances.'],\n",
              " ['For example, responses to legal requests where not compelled by law will typically include limited information (such as contact details and login information).'],\n",
              " ['However, the information we process will depend on the purposes, which could include the following: In response to legal requests from third parties such as civil litigants, law enforcement and other government authorities To comply with applicable law or legitimate legal purposes To promote the safety, security and integrity of Meta Companies, Meta Products, users, employees, property and the public  about how we promote safety, security and integrity.'],\n",
              " [\": Content that you create, such as posts, comments or audio Content that you provide through our camera feature or your camera roll settings, or through our voice-enabled features Metadata about content, subject to applicable law Types of content that you view or interact with, and how you interact with it Apps and features that you use, and what actions you take in them Purchases or other transactions that you make Hashtags you use : Device characteristics and device software What you're doing on your device (such as whether our app is in the foreground or if your mouse is moving) Identifiers that tell your device apart from other users' Device signals Information that you've shared through your device settings Information about the network you connect your device to, including your IP address Information from cookies and similar technologies For processing information when the law requires it: Where we are under an obligation to disclose information such as, for example, if we receive a valid legal request for certain information such as a search warrant, we will access, preserve and/or share your information with regulators, law enforcement or others.\"],\n",
              " ['The way in which the information will be processed depends on the specific circumstances.'],\n",
              " ['See the  section of the Meta Privacy Policy for more. \"\"'],\n",
              " ['provides information on the operational guidelines law enforcement needs to follow.'],\n",
              " ['The categories of information depend on the specific circumstances of each mandatory request or obligation.'],\n",
              " ['Only the information necessary to comply with the relevant legal obligation will be shared or otherwise processed.'],\n",
              " ['For example, for civil matters, this will typically include limited information (such as contact details and login information).'],\n",
              " [\"However, depending on the circumstances, it could include the following: : Content that you create, such as posts, comments or audio Content that you provide through our camera feature or your camera roll settings, or through our voice-enabled features Messages that you send and receive, including their content, subject to applicable law Metadata about content and messages, subject to applicable law Types of content that you view or interact with, and how you interact with it Apps and features that you use, and what actions you take in them Purchases or other transactions that you make, including truncated credit card information Hashtags you use The time, frequency and duration of your activities on our products : Device characteristics and device software What you're doing on your device (such as whether our app is in the foreground or if your mouse is moving) Identifiers that tell your device apart from other users' Device signals Information that you've shared through your device settings Information about the network you connect your device to, including your IP address Information from cookies and similar technologies\"]]"
            ]
          },
          "metadata": {},
          "execution_count": 138
        }
      ]
    },
    {
      "cell_type": "code",
      "source": [
        "real_life_terms = sent_tokenized_text(real_life_terms)"
      ],
      "metadata": {
        "id": "KI1SPYi-L83a"
      },
      "execution_count": null,
      "outputs": []
    },
    {
      "cell_type": "code",
      "source": [
        "predict_terms(real_life_terms)"
      ],
      "metadata": {
        "colab": {
          "base_uri": "https://localhost:8080/"
        },
        "id": "48O55kZsL87i",
        "outputId": "22e1f210-e084-41c3-f05c-a171bd5a3f99"
      },
      "execution_count": null,
      "outputs": [
        {
          "output_type": "stream",
          "name": "stdout",
          "text": [
            "['What is the Privacy Policy and what does it cover?']  : [0]\n",
            "['Effective from 26 July 2022 |  We at Meta want you to understand what information we collect, and how we use and share it.']  : [0]\n",
            "[\"That's why we encourage you to read our Privacy Policy.\"]  : [0]\n",
            "[\"This helps you use Meta Products in the way that's right for you.\"]  : [0]\n",
            "['In the Privacy Policy, we explain how we collect, use, share, retain and transfer information.']  : [0]\n",
            "['We also let you know your rights.']  : [0]\n",
            "['Each section of the Policy includes helpful examples and simpler language to make our practices easier to understand.']  : [1]\n",
            "[\"We've also added links to resources where you can learn more about the privacy topics that interest you.\"]  : [1]\n",
            "[\"It's important to us that you know how to control your privacy, so we also show you where you can manage your information in the settings of the Meta Products you use.\"]  : [0]\n",
            "['You can  to shape your experience.']  : [1]\n",
            "['Read the full policy below.']  : [0]\n",
            "['What information do we collect?']  : [0]\n",
            "['The information we collect and process about you depends on how you use our products.']  : [0]\n",
            "['For example, we collect different information if you sell furniture on Marketplace than if you post a reel on Instagram.']  : [0]\n",
            "['When you use our products, we collect some information about you .']  : [0]\n",
            "[\"Here's the information we collect: What if you don't let us collect certain information?\"]  : [0]\n",
            "['Some information is required for our products to work.']  : [0]\n",
            "['Other information is optional, but without it, the quality of your experience might be affected.']  : [0]\n",
            "['Take control in Privacy Centre How do we use your information?']  : [0]\n",
            "['We use  to provide a personalised experience to you, including ads, along with the other purposes that we explain in detail below.']  : [1]\n",
            "['For some of these purposes, we use information  and .']  : [0]\n",
            "['The information that we use for these purposes is automatically processed by our systems.']  : [0]\n",
            "['But in some cases, we also use  to access and review your information.']  : [0]\n",
            "[\"To use less information that's connected to individual users, in some cases we de-identify or aggregate information.\"]  : [1]\n",
            "['We might also anonymise it so that it no longer identifies you.']  : [1]\n",
            "['We use this information in the same ways we use your information as described in this section.']  : [0]\n",
            "['Here are the ways we use your information: To provide, personalise and improve our products We use information we have, including any  that you choose to share, to provide and improve our products.']  : [1]\n",
            "['This includes personalising features, content and , such as your , , Stories and ads.']  : [1]\n",
            "['We don\\'t use profile fields about religious views, political views or who you\\'re \"interested in\" to show you ads.']  : [1]\n",
            "['Read more about how we use information to provide, personalise and improve our products: To promote safety, security and integrity We use the information we collect to help protect people from harm and provide safe, secure products.']  : [1]\n",
            "['To provide measurement, analytics and business services Lots of people rely on our products to run or promote their businesses.']  : [1]\n",
            "['We help them measure how well their ads and other content are working.']  : [0]\n",
            "[\"To communicate with you We communicate with you using information you've given us, such as contact information you've entered on your profile.\"]  : [0]\n",
            "['To research and innovate for social good We use information we have, information from researchers and datasets from publicly available sources, professional groups and non-profit groups to conduct and support research.']  : [1]\n",
            "['More in the Privacy Policy How is your information shared on Meta Products or with integrated partners?']  : [0]\n",
            "[\"Hands holding a phone, using Facebook Login to log in to an integrated partner's website.\"]  : [1]\n",
            "['On Meta Products Learn more about the different cases when your information can be shared on our products: With integrated partners You can choose to connect with  who use our products.']  : [1]\n",
            "['If you do, these integrated partners receive information about you and your activity.']  : [1]\n",
            "[\"These integrated partners can always access information that's public on our products.\"]  : [0]\n",
            "['Learn more about other information they receive and how they handle your information: Take control How do we share information with partners, vendors, service providers and third parties?']  : [1]\n",
            "['A row of images, including a bar graph, two ads and an online shopping basket.']  : [1]\n",
            "[\"We don't sell any of your information to anyone and we never will.\"]  : [0]\n",
            "['We also require partners and third parties to follow rules about how they can and cannot use and disclose the information that we provide.']  : [1]\n",
            "[\"Here's more detail about who we share information with: Partners Vendors Service providers Third parties Other times that we share with third parties We also share information with third parties in response to legal requests, to comply with applicable law or to prevent harm. . And if we sell or transfer all or part of our business to someone else, then we may give the new owner your information as part of that transaction, in line with applicable law.\"]  : [1]\n",
            "['How do the Meta Companies work together?']  : [0]\n",
            "['A Portal, a Quest 2 and a mobile phone.']  : [1]\n",
            "['The phone screen shows the Messenger, WhatsApp, Facebook and Instagram apps.']  : [1]\n",
            "['We are part of the  that provide Meta Company Products.']  : [0]\n",
            "['include all of the Meta Products covered by this Policy, plus other products such as WhatsApp, Novi and more.']  : [1]\n",
            "['We share the information we collect, infrastructure, systems and technology with the other Meta Companies.']  : [0]\n",
            "['about how we transfer information to other countries.']  : [0]\n",
            "['We also process information that we receive about you from other Meta Companies, according to their terms and policies and as permitted by applicable law.']  : [0]\n",
            "['In some cases, Meta acts as a service provider for other Meta Companies.']  : [0]\n",
            "['We act on their behalf and in accordance with their instructions and terms.']  : [0]\n",
            "['Why we share across the Meta Companies Meta Products share information with other Meta Companies: To promote safety, security and integrity and comply with applicable laws To personalise offers, ads and other sponsored or commercial content To develop and provide features and integrations To understand how people use and interact with Meta Company Products  of why we share.']  : [1]\n",
            "['More resources How can you manage or delete your information and exercise your rights?']  : [0]\n",
            "['We offer you a variety of tools to view, manage, download and delete your information below.']  : [0]\n",
            "['You can also manage your information by visiting the settings of the Products you use.']  : [0]\n",
            "['You may also have other privacy rights under applicable laws.']  : [0]\n",
            "['To exercise your rights, visit our Help centres, your settings for Facebook and Instagram and your device-based settings.']  : [0]\n",
            "['Take a Privacy Checkup View and manage your information Port, download or delete your information You can learn more about how privacy works on  and on , and in the .']  : [0]\n",
            "['If you have any questions about this policy, you can  as described below.']  : [0]\n",
            "['In some countries, you may also be able to contact the Data Protection Officer for Meta Platforms, Inc., and depending on your jurisdiction, you may also contact your local Data Protection Authority (\"DPA\") directly.']  : [0]\n",
            "['How long do we keep your information for?']  : [0]\n",
            "[\"We keep information for as long as we need it to provide our products, comply with legal obligations or to protect our or other's interests.\"]  : [0]\n",
            "['We decide how long we need information on a case-by-case basis.']  : [0]\n",
            "[\"Here's what we consider when we decide: If we need it to operate or provide our products.\"]  : [1]\n",
            "['For example, we need to keep some of your information to maintain your account. .']  : [0]\n",
            "['The feature that we use it for and how that feature works.']  : [0]\n",
            "[\"For example, messages sent using Messenger's vanish mode are retained for less time than regular messages. . How long we need to retain the information for to comply with certain legal obligations. .\"]  : [0]\n",
            "[\"If we need it for other legitimate purposes, such as to prevent harm; investigate possible violations of our terms or policies; promote safety, security and integrity; or protect ourselves, including our rights, property or products In some instances and for specific reasons, we'll keep information for an extended period of time.\"]  : [0]\n",
            "['about when we may preserve your information.']  : [0]\n",
            "['How do we transfer information?']  : [0]\n",
            "['How do we respond to legal requests, comply with applicable law and prevent harm?']  : [0]\n",
            "['We access, preserve, use and share your information: In response to legal requests, such as search warrants, court orders, production orders or subpoenas.']  : [0]\n",
            "['These requests come from third parties such as civil litigants, law enforcement and other government authorities.']  : [1]\n",
            "['about when we respond to legal requests.']  : [0]\n",
            "['In accordance with applicable law To promote the safety, security and integrity of Meta Products, users, employees, property and the public. . We may access or preserve your information for an extended amount of time. . How will you know the policy has changed?']  : [0]\n",
            "[\"We'll notify you before we make material changes to this Policy.\"]  : [0]\n",
            "[\"You'll have the opportunity to review the revised Policy before you choose to continue using our products.\"]  : [0]\n",
            "['How to contact Meta with questions You can learn more about how privacy works on  and on , and in the .']  : [0]\n",
            "['If you have questions about this Policy or have questions, complaints or requests regarding your information, you can contact us as described below.']  : [0]\n",
            "[\"You can contact us  or by post at: Meta Platforms, Inc. FAO: Privacy operations 1601 Willow Road Menlo Park, CA 94025, US Why and how we process your information The categories of information we use, and why and how information is processed, are set out below: Why and how we process your information Information categories we use (see '' for more information on each information category) The actual information we use depends on your factual circumstances, but could include any of the following: Personalising the Meta Products: Our systems automatically process information we collect and store associated with you and others to assess and understand your interests and your preferences and provide you with personalised experiences across the Meta Products in accordance with our terms.\"]  : [1]\n",
            "['This is how we: Personalise features and content (such as your ,  and Stories); Personalise the ads people see; and Make suggestions for you (such as people you may know, groups or events that you may be interested in or topics that you may want to follow) on and off our products.']  : [0]\n",
            "['about how we use information about you to personalise your experience on and across Meta Products and how we choose the ads that you see.']  : [0]\n",
            "[\": Content that you create, such as posts, comments or audio Content that you provide through our camera feature or your camera roll settings, or through our voice-enabled features Metadata about content Types of content that you view or interact with, and how you interact with it Apps and features that you use, and what actions you take in them Purchases or other transactions that you make Hashtags you use The time, frequency and duration of your activities on our products : Device characteristics and device software What you're doing on your device (such as whether our app is in the foreground or if your mouse is moving) Identifiers that tell your device apart from other users' Device signals Information you've shared through your device settings (e.g.\"]  : [1]\n",
            "[\"GPS location) Information about the network that you connect your device to Reports about our products' performance on your device Information from cookies and similar technologies .\"]  : [1]\n",
            "[\"(You have control over Meta's use of Partner data to tailor ads to you.)\"]  : [0]\n",
            "['Providing and improving our Meta Products: The provision of the Meta Products includes collecting, storing and, where relevant, sharing, profiling, reviewing and curating, and in some instances not only automated processing but also manual (human) reviewing, to: Create and maintain your account and profile, Facilitate the sharing of content and status, Provide and curate features, Provide messaging services, the ability to make voice and video calls and connect with others, Provide advertising products and Undertake analytics.']  : [1]\n",
            "['We also use information to develop, research and test improvements to our products.']  : [1]\n",
            "[\"We use information we have to: see if a product is working correctly; troubleshoot and fix it when it isn't; test out new products and features to see if they work; get feedback on our ideas for products or features, and conduct surveys and other research about what you like about our products and brands and what we can do better.\"]  : [1]\n",
            "[\": Content that you create, such as posts, comments or audio Content that you provide through our camera feature or your camera roll settings, or through our voice-enabled features Messages that you send and receive, including their content, subject to applicable law Metadata about content and messages, subject to applicable law Types of content that you view or interact with, and how you interact with it Apps and features that you use, and what actions you take in them Purchases or other transactions that you make, including truncated credit card information Hashtags you use The time, frequency and duration of your activities on our products : Device characteristics and device software What you're doing on your device (such as whether our app is in the foreground or if your mouse is moving) Identifiers that tell your device apart from other users' Device signals Information that you've shared through your device settings Information about the network you connect your device to, including your IP address Information from cookies and similar technologies Promoting safety, integrity and security on and across the Meta Products: The Meta Products are designed to research and help ensure the safety, integrity and security of those services and those people who enjoy them, on and off Meta Products.\"]  : [1]\n",
            "['We process the information that we have associated with you and apply automated processing techniques and, in some instances, conduct manual (human) review to: Verify accounts and activity, Find and address violations of our terms or policies.']  : [2]\n",
            "['In some cases, the decisions we make about violations are reviewed by the , Investigate suspicious activity, Detect, prevent and combat harmful or unlawful behaviour, such as to review and, in some cases, remove content reported to us, Identify and combat disparities and racial bias against historically marginalised communities, Protect the life, physical or mental health, well-being or integrity of our users or others, Detect and prevent spam, other security matters and other bad experiences, Detect and stop threats to our personnel and property, and Maintain the integrity of our products.']  : [2]\n",
            "['For more information on safety, integrity and security generally on Meta Products, visit the  and .']  : [0]\n",
            "[\": Content that you create, such as posts, comments or audio Content that you provide through our camera feature or your camera roll settings, or through our voice-enabled features Messages that you send and receive, including their content, subject to applicable law Metadata about content and messages, subject to applicable law Types of content that you view or interact with, and how you interact with it Apps and features that you use, and what actions you take in them Purchases or other transactions that you make, including truncated credit card information Hashtags you use The time, frequency and duration of your activities on our products : Device characteristics and device software What you're doing on your device (such as whether our app is in the foreground or if your mouse is moving) Identifiers that tell your device apart from other users' Device signals Information that you've shared through your device settings Information about the network you connect your device to, including your IP address Information from cookies and similar technologies To communicate with you: We use the information you've given us (e.g.\"]  : [1]\n",
            "[\"contact information on your profile) to send you a communication, such as an email or in-product notice, for example: We'll contact you via email or in-product notifications in relation to the Meta Products, product-related issues, research or to let you know about our terms and policies.\"]  : [0]\n",
            "['We also use contact information such as your email address to respond when you contact us.']  : [0]\n",
            "[\": Contact information on your profile and your communications with us Content that you create, such as posts, comments or audio Content that you provide through our camera feature or your camera roll settings, or through our voice-enabled features : Device characteristics and device software What you're doing on your device (such as whether our app is in the foreground or if your mouse is moving) Identifiers that tell your device apart from other users' Device signals Information that you've shared through your device settings Information about the network you connect your device to, including your IP address Information from cookies and similar technologies.\"]  : [1]\n",
            "['Transferring, storing or processing your information across borders, including from and to the United States and other countries: We share information that we collect globally, both internally across our offices and data centres and externally with our Partners, third parties and service providers.']  : [1]\n",
            "['As Meta is global, with users, Partners, vendors and employees around the world, transfers are necessary: To operate and provide the services described in the terms that apply to the Meta Product(s) you are using.']  : [1]\n",
            "['This includes allowing you to share information and connect with your family and friends around the globe; and To fix, analyse and improve our products.']  : [1]\n",
            "['For more information, see the  section of the Meta Privacy Policy.']  : [0]\n",
            "[\": Content that you create, such as posts, comments or audio Content that you provide through our camera feature or your camera roll settings, or through our voice-enabled features Metadata about content and messages, subject to applicable law Types of content that you view or interact with, and how you interact with it Apps and features that you use, and what actions you take in them Purchases or other transactions that you make, including truncated credit card information Hashtags you use The time, frequency and duration of your activities on our products : Device characteristics and device software What you're doing on your device (such as whether our app is in the foreground or if your mouse is moving) Identifiers that tell your advice apart from other users' Device signals Information that you've shared through your device settings Information about the network you connect your device to, including your IP address Information from cookies and similar technologies Processing information subject to special protections under applicable laws that you provide so we can share it with those you choose, to provide, personalise and improve our products and to undertake analytics.\"]  : [1]\n",
            "[\"We'll collect, store, publish and apply automated, or sometimes manual (human), processing for these purposes.\"]  : [0]\n",
            "[':  Any information with special protections that you choose to provide in your profile fields (such as your religious views, political views, or who you are \"interested in\"), or as part of surveys you choose to participate in Receiving and using information from third parties to tailor the ads you see: We\\'ll use information that advertisers, businesses and other partners provide for us about activity off Meta Products that we have associated with you to personalise ads that we show you on Meta Products, and on websites, apps and devices that use our advertising services.']  : [1]\n",
            "[\"We receive this information whether or not you're logged in or have an account on our products.\"]  : [0]\n",
            "['See the  for more information.']  : [0]\n",
            "[': Information and content you provide, such as your name or email address Sharing your contact, profile or other information with third parties upon your request: The type of third party and categories of information shared depend on the circumstances of what you ask us to share.']  : [0]\n",
            "[\"For example: We share your email address (or other contact information) or other information you might choose when you direct us to share it with an advertiser so they can contact you with additional information about a promoted product, and  If you choose to integrate other apps, games or websites with Meta Products and log in, we'll share your information with the app, game or website to log you in.\"]  : [1]\n",
            "[\": Content you create, such as your contact, profile or other information, such as posts or comments Providing measurement, analytics and business services: Our systems automatically, as well as with some manual (human) processing, process information that we've collected and stored about you and others.\"]  : [1]\n",
            "[\"We use this information to: Provide insights and measurement reports to businesses, advertisers and other Partners to help them measure the effectiveness and distribution of their or their clients' ads, content and services, to understand the kinds of people who are seeing their content and ads, and how their content and ads are performing on and off Meta Products, and Provide aggregated user analytics and insights reports that help businesses, advertisers and other Partners better understand the audiences with whom they may want to connect, as well as the types of people who use their services and how people interact with their websites, apps and services.\"]  : [1]\n",
            "[\": Content that you create, such as posts, comments or audio Content that you provide through our camera feature or your camera roll settings, or through our voice-enabled features Types of content that you view or interact with, and how you interact with it Apps and features that you use, and what actions you take in them Purchases or other transactions that you make Hashtags you use The time, frequency and duration of your activities on our products : Device characteristics and device software What you're doing on your device (such as whether our app is in the foreground or if your mouse is moving) Identifiers that tell your device apart from other users Device signals Information that you've shared through your device settings Information about the network you connect your device to, including your IP address Information from cookies and similar technologies Sharing of information across the Meta Companies: To provide a seamless, consistent and richer, innovative experience across the Meta Company Products to enable cross app interactions, sharing, viewing and engaging with content, including posts and videos.\"]  : [1]\n",
            "[\": Content that you create, such as posts, comments or audio Content that you provide through our camera feature or your camera roll settings, or through our voice-enabled features Metadata about content Types of content that you view or interact with, and how you interact with it Apps and features that you use, and what actions you take in them Purchases or other transactions that you make Hashtags you use The time, frequency and duration of your activities on our products : Device characteristics and device software What you're doing on your device (such as whether our app is in the foreground or if your mouse is moving) Identifiers that tell your device apart from other users Device signals Information that you've shared through your device settings Information about the network you connect your device to, including your IP address Information from cookies and similar technologies Business intelligence and analytics: To understand, in aggregate, your usage of and across our products, to accurately count people and businesses; and To validate metrics directly related to these, in order to inform and improve product direction and development and to adhere to (shareholder/earning) reporting obligations.\"]  : [1]\n",
            "[\": Content that you create, such as posts, comments or audio Content that you provide through our camera feature or your camera roll settings, or through our voice-enabled features Metadata about content and messages, subject to applicable law Types of content that you view or interact with, and how you interact with it Apps and features that you use, and what actions you take in them Purchases or other transactions that you make Hashtags you use The time, frequency and duration of your activities on our products : Device characteristics and device software What you're doing on your device (such as whether our app is in the foreground or if your mouse is moving) Identifiers that tell your device apart from other users Device signals Information that you've shared through your device settings Information about the network you connect your device to, including your IP address Information from cookies and similar technologies Identifying you as a Meta Product user and personalising the ads we show you through Meta Audience Network when you visit other apps: When we show you ads through  when you visit other apps, our systems automatically process the information we have collected and stored about you and others to identify you as a Meta Product user and tailor the ads you see.\"]  : [1]\n",
            "[\": Information you provide Content that you create, such as posts, comments or audio Content that you provide through our camera feature or your camera roll settings, or through our voice-enabled features Metadata about content Types of content that you view or interact with, and how you interact with it Apps and features that you use, and what actions you take in them Purchases or other transactions that you make Hashtags you use The time, frequency and duration of your activities on our products : Device characteristics and device software What you're doing on your device (such as whether our app is in the foreground or if your mouse is moving) Identifiers that tell your device apart from other users Device signals Information that you've shared through your device settings Information about the network you connect your device to, including your IP address Information from cookies and similar technologies Providing marketing communications to you: Depending on your settings and subject to applicable law, we'll share marketing communications with you.\"]  : [1]\n",
            "[\"We'll collect and store your information and use it to send marketing communications to you, such as an email, subject to applicable laws.\"]  : [0]\n",
            "[': Information and content you provide, including your contact information such as email address : Device identifiers Research and innovate for social good: We carry out surveys and use information (including from researchers that we collaborate with) to conduct and support research and innovation on topics of general social welfare, technological advancement, public interest, health and well-being.']  : [1]\n",
            "['For example, we analyse information that we have about migration patterns during crises.']  : [0]\n",
            "['This helps relief organisations get aid to the right places.']  : [0]\n",
            "['We collect, store, combine, analyse and apply automatic processing techniques such as aggregation of information as well as manual (human) review, and share information, as necessary to research and innovate for social good in this way.']  : [1]\n",
            "['We do this to help us create things such as COVID-19 forecasting models.']  : [0]\n",
            "['about our research programmes.']  : [0]\n",
            "[\": Content that you create, such as posts, comments or audio Content that you provide through our camera feature or your camera roll settings, or through our voice-enabled features Metadata about content and messages, subject to applicable law Types of content that you view or interact with, and how you interact with it Apps and features that you use, and what actions you take in them Purchases or other transactions that you make Hashtags you use The time, frequency and duration of your activities on our products : Device characteristics and device software What you're doing on your device (such as whether our app is in the foreground or if your mouse is moving) Identifiers that tell your device apart from other users' Device signals Information that you've shared through your device settings Information about the network you connect your device to, including your IP address Information from cookies and similar technologies Anonymising your information In some cases, we anonymise information we have associated with you, such as your activity on and off our products, and use the resulting information, for example, to provide and improve our Meta Products, including ads.\"]  : [1]\n",
            "[\": Content that you create, such as posts, comments or audio Content that you provide through our camera feature or your camera roll settings, or through our voice-enabled features Metadata about content Types of content that you view or interact with, and how you interact with it Apps and features that you use, and what actions you take in them Purchases or other transactions that you make Hashtags you use The time, frequency and duration of your activities on our products : Device characteristics and device software What you're doing on your device (such as whether our app is in the foreground or if your mouse is moving) Identifiers that tell your device apart from other users' Device signals Information that you've shared through your device settings Information about the network you connect your device to, including your IP address Information from cookies and similar technologies Share information with others, including law enforcement and to respond to legal requests.\"]  : [1]\n",
            "['See the  section of the Meta Privacy Policy for more for information on when we share information with law enforcement and others.']  : [0]\n",
            "['The categories of information that we access, preserve, use and share depend on the specific circumstances.']  : [0]\n",
            "['For example, responses to legal requests where not compelled by law will typically include limited information (such as contact details and login information).']  : [1]\n",
            "['However, the information we process will depend on the purposes, which could include the following: In response to legal requests from third parties such as civil litigants, law enforcement and other government authorities To comply with applicable law or legitimate legal purposes To promote the safety, security and integrity of Meta Companies, Meta Products, users, employees, property and the public  about how we promote safety, security and integrity.']  : [0]\n",
            "[\": Content that you create, such as posts, comments or audio Content that you provide through our camera feature or your camera roll settings, or through our voice-enabled features Metadata about content, subject to applicable law Types of content that you view or interact with, and how you interact with it Apps and features that you use, and what actions you take in them Purchases or other transactions that you make Hashtags you use : Device characteristics and device software What you're doing on your device (such as whether our app is in the foreground or if your mouse is moving) Identifiers that tell your device apart from other users' Device signals Information that you've shared through your device settings Information about the network you connect your device to, including your IP address Information from cookies and similar technologies For processing information when the law requires it: Where we are under an obligation to disclose information such as, for example, if we receive a valid legal request for certain information such as a search warrant, we will access, preserve and/or share your information with regulators, law enforcement or others.\"]  : [1]\n",
            "['The way in which the information will be processed depends on the specific circumstances.']  : [0]\n",
            "['See the  section of the Meta Privacy Policy for more. \"\"']  : [0]\n",
            "['provides information on the operational guidelines law enforcement needs to follow.']  : [1]\n",
            "['The categories of information depend on the specific circumstances of each mandatory request or obligation.']  : [0]\n",
            "['Only the information necessary to comply with the relevant legal obligation will be shared or otherwise processed.']  : [1]\n",
            "['For example, for civil matters, this will typically include limited information (such as contact details and login information).']  : [1]\n",
            "[\"However, depending on the circumstances, it could include the following: : Content that you create, such as posts, comments or audio Content that you provide through our camera feature or your camera roll settings, or through our voice-enabled features Messages that you send and receive, including their content, subject to applicable law Metadata about content and messages, subject to applicable law Types of content that you view or interact with, and how you interact with it Apps and features that you use, and what actions you take in them Purchases or other transactions that you make, including truncated credit card information Hashtags you use The time, frequency and duration of your activities on our products : Device characteristics and device software What you're doing on your device (such as whether our app is in the foreground or if your mouse is moving) Identifiers that tell your device apart from other users' Device signals Information that you've shared through your device settings Information about the network you connect your device to, including your IP address Information from cookies and similar technologies\"]  : [1]\n"
          ]
        }
      ]
    }
  ]
}